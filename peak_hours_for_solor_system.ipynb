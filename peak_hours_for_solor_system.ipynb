{
  "nbformat": 4,
  "nbformat_minor": 0,
  "metadata": {
    "colab": {
      "name": "peak_hours.ipynb",
      "provenance": [],
      "collapsed_sections": [],
      "authorship_tag": "ABX9TyPQvN6sMG0sZjZKq/B0fOu5",
      "include_colab_link": true
    },
    "kernelspec": {
      "name": "python3",
      "display_name": "Python 3"
    }
  },
  "cells": [
    {
      "cell_type": "markdown",
      "metadata": {
        "id": "view-in-github",
        "colab_type": "text"
      },
      "source": [
        "<a href=\"https://colab.research.google.com/github/mesrp88/numpy_pandas_uses/blob/main/peak_hours_for_solor_system.ipynb\" target=\"_parent\"><img src=\"https://colab.research.google.com/assets/colab-badge.svg\" alt=\"Open In Colab\"/></a>"
      ]
    },
    {
      "cell_type": "markdown",
      "metadata": {
        "id": "u5FvY8Eo-09n"
      },
      "source": [
        "Here I am going to calculate the peaksun hour from the solar radiation data given."
      ]
    },
    {
      "cell_type": "code",
      "metadata": {
        "id": "eSSnVmFN9RKh"
      },
      "source": [
        "import pandas as pd  #for data loading\r\n",
        "import numpy #mathematics calculation\r\n",
        "from numpy import trapz   #for find area under curve\r\n",
        "from scipy.integrate import simps  #for find area under curve "
      ],
      "execution_count": 64,
      "outputs": []
    },
    {
      "cell_type": "code",
      "metadata": {
        "colab": {
          "base_uri": "https://localhost:8080/",
          "height": 419
        },
        "id": "ujfKckhW9hzQ",
        "outputId": "bf684753-4a08-4b03-e231-2fb5a6a00d14"
      },
      "source": [
        "pv_nepal= pd.read_excel('/content/PVnepalData (1).xlsx')\r\n",
        "pv_nepal"
      ],
      "execution_count": 65,
      "outputs": [
        {
          "output_type": "execute_result",
          "data": {
            "text/html": [
              "<div>\n",
              "<style scoped>\n",
              "    .dataframe tbody tr th:only-of-type {\n",
              "        vertical-align: middle;\n",
              "    }\n",
              "\n",
              "    .dataframe tbody tr th {\n",
              "        vertical-align: top;\n",
              "    }\n",
              "\n",
              "    .dataframe thead th {\n",
              "        text-align: right;\n",
              "    }\n",
              "</style>\n",
              "<table border=\"1\" class=\"dataframe\">\n",
              "  <thead>\n",
              "    <tr style=\"text-align: right;\">\n",
              "      <th></th>\n",
              "      <th>DateTime</th>\n",
              "      <th>Global Irradiation 30 Deg South (W/m2)</th>\n",
              "    </tr>\n",
              "  </thead>\n",
              "  <tbody>\n",
              "    <tr>\n",
              "      <th>0</th>\n",
              "      <td>2015-05-01 00:00:04</td>\n",
              "      <td>0.000</td>\n",
              "    </tr>\n",
              "    <tr>\n",
              "      <th>1</th>\n",
              "      <td>2015-05-01 01:00:04</td>\n",
              "      <td>0.000</td>\n",
              "    </tr>\n",
              "    <tr>\n",
              "      <th>2</th>\n",
              "      <td>2015-05-01 02:00:04</td>\n",
              "      <td>0.000</td>\n",
              "    </tr>\n",
              "    <tr>\n",
              "      <th>3</th>\n",
              "      <td>2015-05-01 03:00:04</td>\n",
              "      <td>0.000</td>\n",
              "    </tr>\n",
              "    <tr>\n",
              "      <th>4</th>\n",
              "      <td>2015-05-01 04:00:04</td>\n",
              "      <td>0.000</td>\n",
              "    </tr>\n",
              "    <tr>\n",
              "      <th>...</th>\n",
              "      <td>...</td>\n",
              "      <td>...</td>\n",
              "    </tr>\n",
              "    <tr>\n",
              "      <th>9027</th>\n",
              "      <td>2016-05-11 03:00:04</td>\n",
              "      <td>0.000</td>\n",
              "    </tr>\n",
              "    <tr>\n",
              "      <th>9028</th>\n",
              "      <td>2016-05-11 04:00:04</td>\n",
              "      <td>0.000</td>\n",
              "    </tr>\n",
              "    <tr>\n",
              "      <th>9029</th>\n",
              "      <td>2016-05-11 05:00:04</td>\n",
              "      <td>0.000</td>\n",
              "    </tr>\n",
              "    <tr>\n",
              "      <th>9030</th>\n",
              "      <td>2016-05-11 06:00:04</td>\n",
              "      <td>4.525</td>\n",
              "    </tr>\n",
              "    <tr>\n",
              "      <th>9031</th>\n",
              "      <td>2016-05-11 07:00:04</td>\n",
              "      <td>74.242</td>\n",
              "    </tr>\n",
              "  </tbody>\n",
              "</table>\n",
              "<p>9032 rows × 2 columns</p>\n",
              "</div>"
            ],
            "text/plain": [
              "                DateTime  Global Irradiation 30 Deg South (W/m2)\n",
              "0    2015-05-01 00:00:04                                   0.000\n",
              "1    2015-05-01 01:00:04                                   0.000\n",
              "2    2015-05-01 02:00:04                                   0.000\n",
              "3    2015-05-01 03:00:04                                   0.000\n",
              "4    2015-05-01 04:00:04                                   0.000\n",
              "...                  ...                                     ...\n",
              "9027 2016-05-11 03:00:04                                   0.000\n",
              "9028 2016-05-11 04:00:04                                   0.000\n",
              "9029 2016-05-11 05:00:04                                   0.000\n",
              "9030 2016-05-11 06:00:04                                   4.525\n",
              "9031 2016-05-11 07:00:04                                  74.242\n",
              "\n",
              "[9032 rows x 2 columns]"
            ]
          },
          "metadata": {
            "tags": []
          },
          "execution_count": 65
        }
      ]
    },
    {
      "cell_type": "code",
      "metadata": {
        "id": "9Wgnc4J49xLO",
        "colab": {
          "base_uri": "https://localhost:8080/",
          "height": 0
        },
        "outputId": "0d0b0277-f42f-4280-9453-abc341d7a40f"
      },
      "source": [
        "pv_nepal.info() #datetype"
      ],
      "execution_count": 66,
      "outputs": [
        {
          "output_type": "stream",
          "text": [
            "<class 'pandas.core.frame.DataFrame'>\n",
            "RangeIndex: 9032 entries, 0 to 9031\n",
            "Data columns (total 2 columns):\n",
            " #   Column                                  Non-Null Count  Dtype         \n",
            "---  ------                                  --------------  -----         \n",
            " 0   DateTime                                9032 non-null   datetime64[ns]\n",
            " 1   Global Irradiation 30 Deg South (W/m2)  9032 non-null   float64       \n",
            "dtypes: datetime64[ns](1), float64(1)\n",
            "memory usage: 141.2 KB\n"
          ],
          "name": "stdout"
        }
      ]
    },
    {
      "cell_type": "code",
      "metadata": {
        "id": "q2-HTekBAIQr"
      },
      "source": [
        "pv_nepal['Year']= pv_nepal['DateTime'].dt.year"
      ],
      "execution_count": 67,
      "outputs": []
    },
    {
      "cell_type": "code",
      "metadata": {
        "colab": {
          "base_uri": "https://localhost:8080/",
          "height": 204
        },
        "id": "T5vqn0_KDYsP",
        "outputId": "03a17020-4566-4e1c-c0f2-1f6b52cf3b93"
      },
      "source": [
        "pv_nepal.head()"
      ],
      "execution_count": 68,
      "outputs": [
        {
          "output_type": "execute_result",
          "data": {
            "text/html": [
              "<div>\n",
              "<style scoped>\n",
              "    .dataframe tbody tr th:only-of-type {\n",
              "        vertical-align: middle;\n",
              "    }\n",
              "\n",
              "    .dataframe tbody tr th {\n",
              "        vertical-align: top;\n",
              "    }\n",
              "\n",
              "    .dataframe thead th {\n",
              "        text-align: right;\n",
              "    }\n",
              "</style>\n",
              "<table border=\"1\" class=\"dataframe\">\n",
              "  <thead>\n",
              "    <tr style=\"text-align: right;\">\n",
              "      <th></th>\n",
              "      <th>DateTime</th>\n",
              "      <th>Global Irradiation 30 Deg South (W/m2)</th>\n",
              "      <th>Year</th>\n",
              "    </tr>\n",
              "  </thead>\n",
              "  <tbody>\n",
              "    <tr>\n",
              "      <th>0</th>\n",
              "      <td>2015-05-01 00:00:04</td>\n",
              "      <td>0.0</td>\n",
              "      <td>2015</td>\n",
              "    </tr>\n",
              "    <tr>\n",
              "      <th>1</th>\n",
              "      <td>2015-05-01 01:00:04</td>\n",
              "      <td>0.0</td>\n",
              "      <td>2015</td>\n",
              "    </tr>\n",
              "    <tr>\n",
              "      <th>2</th>\n",
              "      <td>2015-05-01 02:00:04</td>\n",
              "      <td>0.0</td>\n",
              "      <td>2015</td>\n",
              "    </tr>\n",
              "    <tr>\n",
              "      <th>3</th>\n",
              "      <td>2015-05-01 03:00:04</td>\n",
              "      <td>0.0</td>\n",
              "      <td>2015</td>\n",
              "    </tr>\n",
              "    <tr>\n",
              "      <th>4</th>\n",
              "      <td>2015-05-01 04:00:04</td>\n",
              "      <td>0.0</td>\n",
              "      <td>2015</td>\n",
              "    </tr>\n",
              "  </tbody>\n",
              "</table>\n",
              "</div>"
            ],
            "text/plain": [
              "             DateTime  Global Irradiation 30 Deg South (W/m2)  Year\n",
              "0 2015-05-01 00:00:04                                     0.0  2015\n",
              "1 2015-05-01 01:00:04                                     0.0  2015\n",
              "2 2015-05-01 02:00:04                                     0.0  2015\n",
              "3 2015-05-01 03:00:04                                     0.0  2015\n",
              "4 2015-05-01 04:00:04                                     0.0  2015"
            ]
          },
          "metadata": {
            "tags": []
          },
          "execution_count": 68
        }
      ]
    },
    {
      "cell_type": "code",
      "metadata": {
        "id": "k0S5HzNTEwPh"
      },
      "source": [
        "pv_nepal['Month']= pv_nepal['DateTime'].dt.month"
      ],
      "execution_count": 69,
      "outputs": []
    },
    {
      "cell_type": "code",
      "metadata": {
        "colab": {
          "base_uri": "https://localhost:8080/",
          "height": 204
        },
        "id": "KhBqZoP2E_fb",
        "outputId": "4ac853ef-387a-459c-dbec-0b34fd2284e4"
      },
      "source": [
        "pv_nepal.head()"
      ],
      "execution_count": 70,
      "outputs": [
        {
          "output_type": "execute_result",
          "data": {
            "text/html": [
              "<div>\n",
              "<style scoped>\n",
              "    .dataframe tbody tr th:only-of-type {\n",
              "        vertical-align: middle;\n",
              "    }\n",
              "\n",
              "    .dataframe tbody tr th {\n",
              "        vertical-align: top;\n",
              "    }\n",
              "\n",
              "    .dataframe thead th {\n",
              "        text-align: right;\n",
              "    }\n",
              "</style>\n",
              "<table border=\"1\" class=\"dataframe\">\n",
              "  <thead>\n",
              "    <tr style=\"text-align: right;\">\n",
              "      <th></th>\n",
              "      <th>DateTime</th>\n",
              "      <th>Global Irradiation 30 Deg South (W/m2)</th>\n",
              "      <th>Year</th>\n",
              "      <th>Month</th>\n",
              "    </tr>\n",
              "  </thead>\n",
              "  <tbody>\n",
              "    <tr>\n",
              "      <th>0</th>\n",
              "      <td>2015-05-01 00:00:04</td>\n",
              "      <td>0.0</td>\n",
              "      <td>2015</td>\n",
              "      <td>5</td>\n",
              "    </tr>\n",
              "    <tr>\n",
              "      <th>1</th>\n",
              "      <td>2015-05-01 01:00:04</td>\n",
              "      <td>0.0</td>\n",
              "      <td>2015</td>\n",
              "      <td>5</td>\n",
              "    </tr>\n",
              "    <tr>\n",
              "      <th>2</th>\n",
              "      <td>2015-05-01 02:00:04</td>\n",
              "      <td>0.0</td>\n",
              "      <td>2015</td>\n",
              "      <td>5</td>\n",
              "    </tr>\n",
              "    <tr>\n",
              "      <th>3</th>\n",
              "      <td>2015-05-01 03:00:04</td>\n",
              "      <td>0.0</td>\n",
              "      <td>2015</td>\n",
              "      <td>5</td>\n",
              "    </tr>\n",
              "    <tr>\n",
              "      <th>4</th>\n",
              "      <td>2015-05-01 04:00:04</td>\n",
              "      <td>0.0</td>\n",
              "      <td>2015</td>\n",
              "      <td>5</td>\n",
              "    </tr>\n",
              "  </tbody>\n",
              "</table>\n",
              "</div>"
            ],
            "text/plain": [
              "             DateTime  Global Irradiation 30 Deg South (W/m2)  Year  Month\n",
              "0 2015-05-01 00:00:04                                     0.0  2015      5\n",
              "1 2015-05-01 01:00:04                                     0.0  2015      5\n",
              "2 2015-05-01 02:00:04                                     0.0  2015      5\n",
              "3 2015-05-01 03:00:04                                     0.0  2015      5\n",
              "4 2015-05-01 04:00:04                                     0.0  2015      5"
            ]
          },
          "metadata": {
            "tags": []
          },
          "execution_count": 70
        }
      ]
    },
    {
      "cell_type": "code",
      "metadata": {
        "id": "-Mxm0aFgFi5q"
      },
      "source": [
        "mapping={1:'January',\r\n",
        "         2:'February',\r\n",
        "         3:'March',\r\n",
        "         4: 'April',\r\n",
        "         5: 'May',\r\n",
        "         6: 'June',\r\n",
        "         7: 'July',\r\n",
        "         8:'August',\r\n",
        "         9:'September', \r\n",
        "         10: 'October',\r\n",
        "         11: 'November',\r\n",
        "         12: 'December'}"
      ],
      "execution_count": 71,
      "outputs": []
    },
    {
      "cell_type": "code",
      "metadata": {
        "colab": {
          "base_uri": "https://localhost:8080/",
          "height": 204
        },
        "id": "MXuCBcdOIUGK",
        "outputId": "f2a8e50b-603c-403d-f268-ea1cb1bbc76a"
      },
      "source": [
        "pv_nepal['Month_name']=pv_nepal['Month'].map(mapping)\r\n",
        "pv_nepal.drop('Month', axis=1, inplace=True)\r\n",
        "pv_nepal.head()"
      ],
      "execution_count": 72,
      "outputs": [
        {
          "output_type": "execute_result",
          "data": {
            "text/html": [
              "<div>\n",
              "<style scoped>\n",
              "    .dataframe tbody tr th:only-of-type {\n",
              "        vertical-align: middle;\n",
              "    }\n",
              "\n",
              "    .dataframe tbody tr th {\n",
              "        vertical-align: top;\n",
              "    }\n",
              "\n",
              "    .dataframe thead th {\n",
              "        text-align: right;\n",
              "    }\n",
              "</style>\n",
              "<table border=\"1\" class=\"dataframe\">\n",
              "  <thead>\n",
              "    <tr style=\"text-align: right;\">\n",
              "      <th></th>\n",
              "      <th>DateTime</th>\n",
              "      <th>Global Irradiation 30 Deg South (W/m2)</th>\n",
              "      <th>Year</th>\n",
              "      <th>Month_name</th>\n",
              "    </tr>\n",
              "  </thead>\n",
              "  <tbody>\n",
              "    <tr>\n",
              "      <th>0</th>\n",
              "      <td>2015-05-01 00:00:04</td>\n",
              "      <td>0.0</td>\n",
              "      <td>2015</td>\n",
              "      <td>May</td>\n",
              "    </tr>\n",
              "    <tr>\n",
              "      <th>1</th>\n",
              "      <td>2015-05-01 01:00:04</td>\n",
              "      <td>0.0</td>\n",
              "      <td>2015</td>\n",
              "      <td>May</td>\n",
              "    </tr>\n",
              "    <tr>\n",
              "      <th>2</th>\n",
              "      <td>2015-05-01 02:00:04</td>\n",
              "      <td>0.0</td>\n",
              "      <td>2015</td>\n",
              "      <td>May</td>\n",
              "    </tr>\n",
              "    <tr>\n",
              "      <th>3</th>\n",
              "      <td>2015-05-01 03:00:04</td>\n",
              "      <td>0.0</td>\n",
              "      <td>2015</td>\n",
              "      <td>May</td>\n",
              "    </tr>\n",
              "    <tr>\n",
              "      <th>4</th>\n",
              "      <td>2015-05-01 04:00:04</td>\n",
              "      <td>0.0</td>\n",
              "      <td>2015</td>\n",
              "      <td>May</td>\n",
              "    </tr>\n",
              "  </tbody>\n",
              "</table>\n",
              "</div>"
            ],
            "text/plain": [
              "             DateTime  Global Irradiation 30 Deg South (W/m2)  Year Month_name\n",
              "0 2015-05-01 00:00:04                                     0.0  2015        May\n",
              "1 2015-05-01 01:00:04                                     0.0  2015        May\n",
              "2 2015-05-01 02:00:04                                     0.0  2015        May\n",
              "3 2015-05-01 03:00:04                                     0.0  2015        May\n",
              "4 2015-05-01 04:00:04                                     0.0  2015        May"
            ]
          },
          "metadata": {
            "tags": []
          },
          "execution_count": 72
        }
      ]
    },
    {
      "cell_type": "code",
      "metadata": {
        "colab": {
          "base_uri": "https://localhost:8080/",
          "height": 824
        },
        "id": "rewAxJ7_wZMW",
        "outputId": "7f0d58c0-86b7-4916-9142-4ed666dcd1d5"
      },
      "source": [
        "pv_nepal['Hour']=pv_nepal['DateTime'].dt.hour\r\n",
        "pv_nepal.head(25)"
      ],
      "execution_count": 73,
      "outputs": [
        {
          "output_type": "execute_result",
          "data": {
            "text/html": [
              "<div>\n",
              "<style scoped>\n",
              "    .dataframe tbody tr th:only-of-type {\n",
              "        vertical-align: middle;\n",
              "    }\n",
              "\n",
              "    .dataframe tbody tr th {\n",
              "        vertical-align: top;\n",
              "    }\n",
              "\n",
              "    .dataframe thead th {\n",
              "        text-align: right;\n",
              "    }\n",
              "</style>\n",
              "<table border=\"1\" class=\"dataframe\">\n",
              "  <thead>\n",
              "    <tr style=\"text-align: right;\">\n",
              "      <th></th>\n",
              "      <th>DateTime</th>\n",
              "      <th>Global Irradiation 30 Deg South (W/m2)</th>\n",
              "      <th>Year</th>\n",
              "      <th>Month_name</th>\n",
              "      <th>Hour</th>\n",
              "    </tr>\n",
              "  </thead>\n",
              "  <tbody>\n",
              "    <tr>\n",
              "      <th>0</th>\n",
              "      <td>2015-05-01 00:00:04</td>\n",
              "      <td>0.000</td>\n",
              "      <td>2015</td>\n",
              "      <td>May</td>\n",
              "      <td>0</td>\n",
              "    </tr>\n",
              "    <tr>\n",
              "      <th>1</th>\n",
              "      <td>2015-05-01 01:00:04</td>\n",
              "      <td>0.000</td>\n",
              "      <td>2015</td>\n",
              "      <td>May</td>\n",
              "      <td>1</td>\n",
              "    </tr>\n",
              "    <tr>\n",
              "      <th>2</th>\n",
              "      <td>2015-05-01 02:00:04</td>\n",
              "      <td>0.000</td>\n",
              "      <td>2015</td>\n",
              "      <td>May</td>\n",
              "      <td>2</td>\n",
              "    </tr>\n",
              "    <tr>\n",
              "      <th>3</th>\n",
              "      <td>2015-05-01 03:00:04</td>\n",
              "      <td>0.000</td>\n",
              "      <td>2015</td>\n",
              "      <td>May</td>\n",
              "      <td>3</td>\n",
              "    </tr>\n",
              "    <tr>\n",
              "      <th>4</th>\n",
              "      <td>2015-05-01 04:00:04</td>\n",
              "      <td>0.000</td>\n",
              "      <td>2015</td>\n",
              "      <td>May</td>\n",
              "      <td>4</td>\n",
              "    </tr>\n",
              "    <tr>\n",
              "      <th>5</th>\n",
              "      <td>2015-05-01 05:00:04</td>\n",
              "      <td>0.000</td>\n",
              "      <td>2015</td>\n",
              "      <td>May</td>\n",
              "      <td>5</td>\n",
              "    </tr>\n",
              "    <tr>\n",
              "      <th>6</th>\n",
              "      <td>2015-05-01 06:00:04</td>\n",
              "      <td>3.811</td>\n",
              "      <td>2015</td>\n",
              "      <td>May</td>\n",
              "      <td>6</td>\n",
              "    </tr>\n",
              "    <tr>\n",
              "      <th>7</th>\n",
              "      <td>2015-05-01 07:00:04</td>\n",
              "      <td>108.692</td>\n",
              "      <td>2015</td>\n",
              "      <td>May</td>\n",
              "      <td>7</td>\n",
              "    </tr>\n",
              "    <tr>\n",
              "      <th>8</th>\n",
              "      <td>2015-05-01 08:00:04</td>\n",
              "      <td>332.392</td>\n",
              "      <td>2015</td>\n",
              "      <td>May</td>\n",
              "      <td>8</td>\n",
              "    </tr>\n",
              "    <tr>\n",
              "      <th>9</th>\n",
              "      <td>2015-05-01 09:00:04</td>\n",
              "      <td>553.481</td>\n",
              "      <td>2015</td>\n",
              "      <td>May</td>\n",
              "      <td>9</td>\n",
              "    </tr>\n",
              "    <tr>\n",
              "      <th>10</th>\n",
              "      <td>2015-05-01 10:00:04</td>\n",
              "      <td>472.229</td>\n",
              "      <td>2015</td>\n",
              "      <td>May</td>\n",
              "      <td>10</td>\n",
              "    </tr>\n",
              "    <tr>\n",
              "      <th>11</th>\n",
              "      <td>2015-05-01 11:00:04</td>\n",
              "      <td>568.649</td>\n",
              "      <td>2015</td>\n",
              "      <td>May</td>\n",
              "      <td>11</td>\n",
              "    </tr>\n",
              "    <tr>\n",
              "      <th>12</th>\n",
              "      <td>2015-05-01 12:00:04</td>\n",
              "      <td>953.655</td>\n",
              "      <td>2015</td>\n",
              "      <td>May</td>\n",
              "      <td>12</td>\n",
              "    </tr>\n",
              "    <tr>\n",
              "      <th>13</th>\n",
              "      <td>2015-05-01 13:00:04</td>\n",
              "      <td>951.227</td>\n",
              "      <td>2015</td>\n",
              "      <td>May</td>\n",
              "      <td>13</td>\n",
              "    </tr>\n",
              "    <tr>\n",
              "      <th>14</th>\n",
              "      <td>2015-05-01 14:00:04</td>\n",
              "      <td>871.026</td>\n",
              "      <td>2015</td>\n",
              "      <td>May</td>\n",
              "      <td>14</td>\n",
              "    </tr>\n",
              "    <tr>\n",
              "      <th>15</th>\n",
              "      <td>2015-05-01 15:00:04</td>\n",
              "      <td>754.723</td>\n",
              "      <td>2015</td>\n",
              "      <td>May</td>\n",
              "      <td>15</td>\n",
              "    </tr>\n",
              "    <tr>\n",
              "      <th>16</th>\n",
              "      <td>2015-05-01 16:00:04</td>\n",
              "      <td>570.567</td>\n",
              "      <td>2015</td>\n",
              "      <td>May</td>\n",
              "      <td>16</td>\n",
              "    </tr>\n",
              "    <tr>\n",
              "      <th>17</th>\n",
              "      <td>2015-05-01 17:00:04</td>\n",
              "      <td>353.625</td>\n",
              "      <td>2015</td>\n",
              "      <td>May</td>\n",
              "      <td>17</td>\n",
              "    </tr>\n",
              "    <tr>\n",
              "      <th>18</th>\n",
              "      <td>2015-05-01 18:00:04</td>\n",
              "      <td>142.197</td>\n",
              "      <td>2015</td>\n",
              "      <td>May</td>\n",
              "      <td>18</td>\n",
              "    </tr>\n",
              "    <tr>\n",
              "      <th>19</th>\n",
              "      <td>2015-05-01 19:00:04</td>\n",
              "      <td>7.556</td>\n",
              "      <td>2015</td>\n",
              "      <td>May</td>\n",
              "      <td>19</td>\n",
              "    </tr>\n",
              "    <tr>\n",
              "      <th>20</th>\n",
              "      <td>2015-05-01 20:00:04</td>\n",
              "      <td>0.000</td>\n",
              "      <td>2015</td>\n",
              "      <td>May</td>\n",
              "      <td>20</td>\n",
              "    </tr>\n",
              "    <tr>\n",
              "      <th>21</th>\n",
              "      <td>2015-05-01 21:00:04</td>\n",
              "      <td>0.000</td>\n",
              "      <td>2015</td>\n",
              "      <td>May</td>\n",
              "      <td>21</td>\n",
              "    </tr>\n",
              "    <tr>\n",
              "      <th>22</th>\n",
              "      <td>2015-05-01 22:00:04</td>\n",
              "      <td>0.000</td>\n",
              "      <td>2015</td>\n",
              "      <td>May</td>\n",
              "      <td>22</td>\n",
              "    </tr>\n",
              "    <tr>\n",
              "      <th>23</th>\n",
              "      <td>2015-05-01 23:00:04</td>\n",
              "      <td>0.000</td>\n",
              "      <td>2015</td>\n",
              "      <td>May</td>\n",
              "      <td>23</td>\n",
              "    </tr>\n",
              "    <tr>\n",
              "      <th>24</th>\n",
              "      <td>2015-05-02 00:00:04</td>\n",
              "      <td>0.000</td>\n",
              "      <td>2015</td>\n",
              "      <td>May</td>\n",
              "      <td>0</td>\n",
              "    </tr>\n",
              "  </tbody>\n",
              "</table>\n",
              "</div>"
            ],
            "text/plain": [
              "              DateTime  Global Irradiation 30 Deg South (W/m2)  ...  Month_name Hour\n",
              "0  2015-05-01 00:00:04                                   0.000  ...         May    0\n",
              "1  2015-05-01 01:00:04                                   0.000  ...         May    1\n",
              "2  2015-05-01 02:00:04                                   0.000  ...         May    2\n",
              "3  2015-05-01 03:00:04                                   0.000  ...         May    3\n",
              "4  2015-05-01 04:00:04                                   0.000  ...         May    4\n",
              "5  2015-05-01 05:00:04                                   0.000  ...         May    5\n",
              "6  2015-05-01 06:00:04                                   3.811  ...         May    6\n",
              "7  2015-05-01 07:00:04                                 108.692  ...         May    7\n",
              "8  2015-05-01 08:00:04                                 332.392  ...         May    8\n",
              "9  2015-05-01 09:00:04                                 553.481  ...         May    9\n",
              "10 2015-05-01 10:00:04                                 472.229  ...         May   10\n",
              "11 2015-05-01 11:00:04                                 568.649  ...         May   11\n",
              "12 2015-05-01 12:00:04                                 953.655  ...         May   12\n",
              "13 2015-05-01 13:00:04                                 951.227  ...         May   13\n",
              "14 2015-05-01 14:00:04                                 871.026  ...         May   14\n",
              "15 2015-05-01 15:00:04                                 754.723  ...         May   15\n",
              "16 2015-05-01 16:00:04                                 570.567  ...         May   16\n",
              "17 2015-05-01 17:00:04                                 353.625  ...         May   17\n",
              "18 2015-05-01 18:00:04                                 142.197  ...         May   18\n",
              "19 2015-05-01 19:00:04                                   7.556  ...         May   19\n",
              "20 2015-05-01 20:00:04                                   0.000  ...         May   20\n",
              "21 2015-05-01 21:00:04                                   0.000  ...         May   21\n",
              "22 2015-05-01 22:00:04                                   0.000  ...         May   22\n",
              "23 2015-05-01 23:00:04                                   0.000  ...         May   23\n",
              "24 2015-05-02 00:00:04                                   0.000  ...         May    0\n",
              "\n",
              "[25 rows x 5 columns]"
            ]
          },
          "metadata": {
            "tags": []
          },
          "execution_count": 73
        }
      ]
    },
    {
      "cell_type": "code",
      "metadata": {
        "colab": {
          "base_uri": "https://localhost:8080/",
          "height": 168
        },
        "id": "phVhoF3kIjgS",
        "outputId": "3bf85d84-da1d-450a-97bc-b5ae2f17b9dd"
      },
      "source": [
        "pv_hour= pd.pivot_table(pv_nepal, index='Hour', values='Global Irradiation 30 Deg South (W/m2)')\r\n",
        "pv_hour.T"
      ],
      "execution_count": 74,
      "outputs": [
        {
          "output_type": "execute_result",
          "data": {
            "text/html": [
              "<div>\n",
              "<style scoped>\n",
              "    .dataframe tbody tr th:only-of-type {\n",
              "        vertical-align: middle;\n",
              "    }\n",
              "\n",
              "    .dataframe tbody tr th {\n",
              "        vertical-align: top;\n",
              "    }\n",
              "\n",
              "    .dataframe thead th {\n",
              "        text-align: right;\n",
              "    }\n",
              "</style>\n",
              "<table border=\"1\" class=\"dataframe\">\n",
              "  <thead>\n",
              "    <tr style=\"text-align: right;\">\n",
              "      <th>Hour</th>\n",
              "      <th>0</th>\n",
              "      <th>1</th>\n",
              "      <th>2</th>\n",
              "      <th>3</th>\n",
              "      <th>4</th>\n",
              "      <th>5</th>\n",
              "      <th>6</th>\n",
              "      <th>7</th>\n",
              "      <th>8</th>\n",
              "      <th>9</th>\n",
              "      <th>10</th>\n",
              "      <th>11</th>\n",
              "      <th>12</th>\n",
              "      <th>13</th>\n",
              "      <th>14</th>\n",
              "      <th>15</th>\n",
              "      <th>16</th>\n",
              "      <th>17</th>\n",
              "      <th>18</th>\n",
              "      <th>19</th>\n",
              "      <th>20</th>\n",
              "      <th>21</th>\n",
              "      <th>22</th>\n",
              "      <th>23</th>\n",
              "    </tr>\n",
              "  </thead>\n",
              "  <tbody>\n",
              "    <tr>\n",
              "      <th>Global Irradiation 30 Deg South (W/m2)</th>\n",
              "      <td>0.0</td>\n",
              "      <td>0.0</td>\n",
              "      <td>0.0</td>\n",
              "      <td>0.0</td>\n",
              "      <td>0.0</td>\n",
              "      <td>0.0</td>\n",
              "      <td>1.872268</td>\n",
              "      <td>41.614464</td>\n",
              "      <td>158.774753</td>\n",
              "      <td>328.339253</td>\n",
              "      <td>496.252505</td>\n",
              "      <td>620.95209</td>\n",
              "      <td>688.532976</td>\n",
              "      <td>665.863941</td>\n",
              "      <td>593.708471</td>\n",
              "      <td>484.00754</td>\n",
              "      <td>326.541367</td>\n",
              "      <td>173.469681</td>\n",
              "      <td>53.30396</td>\n",
              "      <td>3.97966</td>\n",
              "      <td>0.0</td>\n",
              "      <td>0.0</td>\n",
              "      <td>0.0</td>\n",
              "      <td>0.0</td>\n",
              "    </tr>\n",
              "  </tbody>\n",
              "</table>\n",
              "</div>"
            ],
            "text/plain": [
              "Hour                                     0    1    2    3   ...   20   21   22   23\n",
              "Global Irradiation 30 Deg South (W/m2)  0.0  0.0  0.0  0.0  ...  0.0  0.0  0.0  0.0\n",
              "\n",
              "[1 rows x 24 columns]"
            ]
          },
          "metadata": {
            "tags": []
          },
          "execution_count": 74
        }
      ]
    },
    {
      "cell_type": "code",
      "metadata": {
        "colab": {
          "base_uri": "https://localhost:8080/",
          "height": 0
        },
        "id": "a2zF629TUAJQ",
        "outputId": "e90e8b9f-aa34-4a8d-b716-a052385d32c9"
      },
      "source": [
        "pv_hour.max() # this gives max value in 24 hours"
      ],
      "execution_count": 75,
      "outputs": [
        {
          "output_type": "execute_result",
          "data": {
            "text/plain": [
              "Global Irradiation 30 Deg South (W/m2)    688.532976\n",
              "dtype: float64"
            ]
          },
          "metadata": {
            "tags": []
          },
          "execution_count": 75
        }
      ]
    },
    {
      "cell_type": "code",
      "metadata": {
        "colab": {
          "base_uri": "https://localhost:8080/",
          "height": 315
        },
        "id": "r6CXl0HlI-ow",
        "outputId": "c992f6b7-2dbc-4b8a-ecd6-3035908faff6"
      },
      "source": [
        "pv_hour.plot(kind='bar', title='per_month_average_raditions', legend=False, ylabel='Global Irradiation 30 Deg South (W/m2')"
      ],
      "execution_count": 76,
      "outputs": [
        {
          "output_type": "execute_result",
          "data": {
            "text/plain": [
              "<matplotlib.axes._subplots.AxesSubplot at 0x7f578200e630>"
            ]
          },
          "metadata": {
            "tags": []
          },
          "execution_count": 76
        },
        {
          "output_type": "display_data",
          "data": {
            "image/png": "[encoded data removed]",
            "text/plain": [
              "<Figure size 432x288 with 1 Axes>"
            ]
          },
          "metadata": {
            "tags": [],
            "needs_background": "light"
          }
        }
      ]
    },
    {
      "cell_type": "code",
      "metadata": {
        "id": "jTNfa3JCJrjK",
        "colab": {
          "base_uri": "https://localhost:8080/",
          "height": 312
        },
        "outputId": "ac2a8590-6446-49fb-9c72-329c7608ff8f"
      },
      "source": [
        "pv_hour.plot(kind='line', title='per_month_average_raditions', legend=False, ylabel='Global Irradiation 30 Deg South (W/m2', xlim=(0,24))"
      ],
      "execution_count": 77,
      "outputs": [
        {
          "output_type": "execute_result",
          "data": {
            "text/plain": [
              "<matplotlib.axes._subplots.AxesSubplot at 0x7f5781dd7ba8>"
            ]
          },
          "metadata": {
            "tags": []
          },
          "execution_count": 77
        },
        {
          "output_type": "display_data",
          "data": {
            "image/png": "[encoded data removed]",
            "text/plain": [
              "<Figure size 432x288 with 1 Axes>"
            ]
          },
          "metadata": {
            "tags": [],
            "needs_background": "light"
          }
        }
      ]
    },
    {
      "cell_type": "code",
      "metadata": {
        "colab": {
          "base_uri": "https://localhost:8080/",
          "height": 0
        },
        "id": "MDq32ZDcVaAy",
        "outputId": "a926a91d-aef0-4803-e89d-3c160fc22647"
      },
      "source": [
        "pv_hour_array= numpy.array(pv_hour)[:,0]\r\n",
        "type(pv_hour_array)"
      ],
      "execution_count": 78,
      "outputs": [
        {
          "output_type": "execute_result",
          "data": {
            "text/plain": [
              "numpy.ndarray"
            ]
          },
          "metadata": {
            "tags": []
          },
          "execution_count": 78
        }
      ]
    },
    {
      "cell_type": "code",
      "metadata": {
        "colab": {
          "base_uri": "https://localhost:8080/",
          "height": 0
        },
        "id": "0FcugkEKVypY",
        "outputId": "8ce15e8f-33c3-436a-ee03-7f1b37c15b47"
      },
      "source": [
        "print('Area under curve by using TRAPIZODAL AND SIMPSON rule:')\r\n",
        "print('By Trapizodial:',trapz(pv_hour_array))\r\n",
        "print('By Simpson:', )"
      ],
      "execution_count": 79,
      "outputs": [
        {
          "output_type": "stream",
          "text": [
            "Area under curve by using TRAPIZODAL AND SIMPSON rule:\n",
            "By Trapizodial: 4637.212928904002\n",
            "By Simpson:\n"
          ],
          "name": "stdout"
        }
      ]
    },
    {
      "cell_type": "code",
      "metadata": {
        "colab": {
          "base_uri": "https://localhost:8080/",
          "height": 0
        },
        "id": "tvGWrRkoSyGm",
        "outputId": "ae6486d5-341b-4a11-bec6-e59b857beb22"
      },
      "source": [
        "print('the peaksun is calculated as {} Hours'.format(trapz(pv_hour_array)/1000))"
      ],
      "execution_count": 80,
      "outputs": [
        {
          "output_type": "stream",
          "text": [
            "the peaksun is calculated as 4.6372129289040025 Hours\n"
          ],
          "name": "stdout"
        }
      ]
    },
    {
      "cell_type": "code",
      "metadata": {
        "colab": {
          "base_uri": "https://localhost:8080/",
          "height": 0
        },
        "id": "U7rU9RhQXDnl",
        "outputId": "ebebff4b-7e66-4bb2-84c9-6407a2efa4f2"
      },
      "source": [
        "print('the peaksun is calculated as {} Hours'.format(simps(pv_hour_array)/1000))"
      ],
      "execution_count": 81,
      "outputs": [
        {
          "output_type": "stream",
          "text": [
            "the peaksun is calculated as 4.637212928904002 Hours\n"
          ],
          "name": "stdout"
        }
      ]
    },
    {
      "cell_type": "markdown",
      "metadata": {
        "id": "rb4NaooSXcb3"
      },
      "source": [
        "**Hence peaksun hours is 4.672 Hours**"
      ]
    },
    {
      "cell_type": "code",
      "metadata": {
        "id": "w74rTiXgXYVo"
      },
      "source": [
        ""
      ],
      "execution_count": 81,
      "outputs": []
    }
  ]
}