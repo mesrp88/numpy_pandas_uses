{
  "nbformat": 4,
  "nbformat_minor": 0,
  "metadata": {
    "colab": {
      "name": "numpy_practice.ipynb",
      "provenance": [],
      "authorship_tag": "ABX9TyNf5mOrfEc83iytymoNp80q",
      "include_colab_link": true
    },
    "kernelspec": {
      "name": "python3",
      "display_name": "Python 3"
    }
  },
  "cells": [
    {
      "cell_type": "markdown",
      "metadata": {
        "id": "view-in-github",
        "colab_type": "text"
      },
      "source": [
        "<a href=\"https://colab.research.google.com/github/mesrp88/numpy_pandas_uses/blob/main/numpy_practice.ipynb\" target=\"_parent\"><img src=\"https://colab.research.google.com/assets/colab-badge.svg\" alt=\"Open In Colab\"/></a>"
      ]
    },
    {
      "cell_type": "code",
      "metadata": {
        "id": "4vBgDBjhMBWJ"
      },
      "source": [
        "import numpy as np"
      ],
      "execution_count": 1,
      "outputs": []
    },
    {
      "cell_type": "code",
      "metadata": {
        "id": "EasPLIl_NBfb"
      },
      "source": [
        "values = [7, 4, 5, 8, 9, 0, 1, 3, 2, 6]\r\n",
        "x= np.array(values)"
      ],
      "execution_count": 2,
      "outputs": []
    },
    {
      "cell_type": "code",
      "metadata": {
        "colab": {
          "base_uri": "https://localhost:8080/"
        },
        "id": "6KMjjmVrNK-0",
        "outputId": "fe1f0ea4-c568-477e-c5db-6fff19facd4c"
      },
      "source": [
        "even_value= x[x%2==0]  # here I collected even value\r\n",
        "even_value"
      ],
      "execution_count": 3,
      "outputs": [
        {
          "output_type": "execute_result",
          "data": {
            "text/plain": [
              "array([4, 8, 0, 2, 6])"
            ]
          },
          "metadata": {
            "tags": []
          },
          "execution_count": 3
        }
      ]
    },
    {
      "cell_type": "code",
      "metadata": {
        "colab": {
          "base_uri": "https://localhost:8080/"
        },
        "id": "tc0YOGL5NVBz",
        "outputId": "d7b82aac-a819-4d29-a89d-d23620e66ab1"
      },
      "source": [
        " even_index_value= x[0::2] # here I collected even index value\r\n",
        " even_index_value"
      ],
      "execution_count": 4,
      "outputs": [
        {
          "output_type": "execute_result",
          "data": {
            "text/plain": [
              "array([7, 5, 9, 1, 2])"
            ]
          },
          "metadata": {
            "tags": []
          },
          "execution_count": 4
        }
      ]
    },
    {
      "cell_type": "code",
      "metadata": {
        "colab": {
          "base_uri": "https://localhost:8080/"
        },
        "id": "f9AvXtY7O_vh",
        "outputId": "fd110e44-4465-47ff-a4ff-c84d98f24d1c"
      },
      "source": [
        "odd_index_value=x[1::2] #here I Collected odd index value\r\n",
        "odd_index_value"
      ],
      "execution_count": 5,
      "outputs": [
        {
          "output_type": "execute_result",
          "data": {
            "text/plain": [
              "array([4, 8, 0, 3, 6])"
            ]
          },
          "metadata": {
            "tags": []
          },
          "execution_count": 5
        }
      ]
    },
    {
      "cell_type": "code",
      "metadata": {
        "colab": {
          "base_uri": "https://localhost:8080/"
        },
        "id": "-w4RqI-CPqge",
        "outputId": "123af551-f74c-4528-f6a8-2917683eabd6"
      },
      "source": [
        "reverse=x[-1::-1] #reversing above element\r\n",
        "reverse"
      ],
      "execution_count": 6,
      "outputs": [
        {
          "output_type": "execute_result",
          "data": {
            "text/plain": [
              "array([6, 2, 3, 1, 0, 9, 8, 5, 4, 7])"
            ]
          },
          "metadata": {
            "tags": []
          },
          "execution_count": 6
        }
      ]
    },
    {
      "cell_type": "markdown",
      "metadata": {
        "id": "GwJEVPjqfJzP"
      },
      "source": [
        "Create first_half function which take 1d array if array have even num take first half element if array have odd num take first half amd middle element"
      ]
    },
    {
      "cell_type": "code",
      "metadata": {
        "colab": {
          "base_uri": "https://localhost:8080/"
        },
        "id": "DTzaQNssUl8D",
        "outputId": "b5a38a7b-f2ce-4324-e430-5f7d26218c1a"
      },
      "source": [
        "def first_half(x):\r\n",
        "  if len(x)%2==0:\r\n",
        "    print('Even')\r\n",
        "    return x[:len(x)//2]\r\n",
        "  elif len(x)%2!=0:\r\n",
        "    print('Odd')\r\n",
        "    return x[:(len(x)//2+1)]\r\n",
        "\r\n",
        "x=np.array([1,2,3,4,5])\r\n",
        "print(first_half(x))\r\n"
      ],
      "execution_count": 13,
      "outputs": [
        {
          "output_type": "stream",
          "text": [
            "Odd\n",
            "[1 2 3]\n"
          ],
          "name": "stdout"
        }
      ]
    },
    {
      "cell_type": "code",
      "metadata": {
        "colab": {
          "base_uri": "https://localhost:8080/"
        },
        "id": "VgAxHKacopdA",
        "outputId": "ed8ae7a5-2528-43b9-e0e8-fc299523421d"
      },
      "source": [
        "xx=np.array([1,2,3,4])\r\n",
        "print(first_half(xx))"
      ],
      "execution_count": 12,
      "outputs": [
        {
          "output_type": "stream",
          "text": [
            "even\n",
            "[1 2]\n"
          ],
          "name": "stdout"
        }
      ]
    },
    {
      "cell_type": "code",
      "metadata": {
        "id": "at4Pk0mZpiQQ"
      },
      "source": [
        "def second_half(x):\r\n",
        "     return x[len(x)//2:]"
      ],
      "execution_count": 14,
      "outputs": []
    },
    {
      "cell_type": "code",
      "metadata": {
        "colab": {
          "base_uri": "https://localhost:8080/"
        },
        "id": "ZscE3PVI7bZe",
        "outputId": "af923741-48f8-4b82-a1ff-f4bb58abe8aa"
      },
      "source": [
        "xx=np.array([1,2,3,4])\r\n",
        "print(first_half(xx))"
      ],
      "execution_count": 16,
      "outputs": [
        {
          "output_type": "stream",
          "text": [
            "Even\n",
            "[1 2]\n"
          ],
          "name": "stdout"
        }
      ]
    },
    {
      "cell_type": "code",
      "metadata": {
        "colab": {
          "base_uri": "https://localhost:8080/"
        },
        "id": "W71bMwhv7fFc",
        "outputId": "0f6bb243-3356-427c-d5d8-4fa589b44bad"
      },
      "source": [
        "values1 = [5, 7, 4, 6, 3, 9]\r\n",
        "values2 = [2, 1, 8, 0]\r\n",
        "x=np.array(values1)\r\n",
        "y= np.array(values2)\r\n",
        "concat= np.concatenate([x,y])\r\n",
        "concat"
      ],
      "execution_count": 20,
      "outputs": [
        {
          "output_type": "execute_result",
          "data": {
            "text/plain": [
              "array([5, 7, 4, 6, 3, 9, 2, 1, 8, 0])"
            ]
          },
          "metadata": {
            "tags": []
          },
          "execution_count": 20
        }
      ]
    },
    {
      "cell_type": "code",
      "metadata": {
        "colab": {
          "base_uri": "https://localhost:8080/"
        },
        "id": "Jgc2w38A8dPq",
        "outputId": "44eb6084-4e39-4191-d035-de083f90b649"
      },
      "source": [
        "def mix(x,y):\r\n",
        "    X=x[:len(x)//2]\r\n",
        "    Y=y[len(y)//2:]\r\n",
        "    return np.concatenate([X,Y])\r\n",
        "\r\n",
        "\r\n",
        "\r\n",
        "\r\n",
        "x = np.array([1, 2, 3, 4, 5])\r\n",
        "y = np.array([6, 7, 8, 9, 10])\r\n",
        "z = mix(x, y)\r\n",
        "print(z)"
      ],
      "execution_count": 21,
      "outputs": [
        {
          "output_type": "stream",
          "text": [
            "[ 1  2  8  9 10]\n"
          ],
          "name": "stdout"
        }
      ]
    },
    {
      "cell_type": "code",
      "metadata": {
        "colab": {
          "base_uri": "https://localhost:8080/"
        },
        "id": "yvDzBA_P-G9O",
        "outputId": "07538840-4dc3-4764-aeb4-8501cf48d395"
      },
      "source": [
        "values = [7, 4, 5, 8, 9, 0, 1, 3, 2, 6]\r\n",
        "x= np.array(values)\r\n",
        "reverse_skip= x[-1::-2]\r\n",
        "reverse_skip"
      ],
      "execution_count": 23,
      "outputs": [
        {
          "output_type": "execute_result",
          "data": {
            "text/plain": [
              "array([6, 3, 0, 8, 4])"
            ]
          },
          "metadata": {
            "tags": []
          },
          "execution_count": 23
        }
      ]
    },
    {
      "cell_type": "code",
      "metadata": {
        "colab": {
          "base_uri": "https://localhost:8080/"
        },
        "id": "hdjraux--mYZ",
        "outputId": "c5b42003-3dea-4d32-ca9e-da1a202d7a95"
      },
      "source": [
        "values = [\r\n",
        "    [5, 6, 5, 5, 8, 9, 9], \r\n",
        "    [9, 5, 1, 4, 5, 9, 7], \r\n",
        "    [3, 9, 6, 2, 1, 2, 3], \r\n",
        "    [1, 7, 6, 7, 1, 7, 5], \r\n",
        "    [2, 1, 3, 8, 7, 8, 8], \r\n",
        "    [2, 9, 3, 6, 4, 6, 4]\r\n",
        "]\r\n",
        "\r\n",
        "desire=[\r\n",
        "       [4, 6, 4, 6, 3, 9, 2],\r\n",
        "       [8, 8, 7, 8, 3, 1, 2],\r\n",
        "       [5, 7, 1, 7, 6, 7, 1],\r\n",
        "       [3, 2, 1, 2, 6, 9, 3],\r\n",
        "       [7, 9, 5, 4, 1, 5, 9],\r\n",
        "       [9, 9, 8, 5, 5, 6, 5]\r\n",
        "]\r\n",
        "\r\n",
        "x=np.array(values)\r\n",
        "x1= x[-1::-1]\r\n",
        "reverse_2d= x1[:,-1::-1]\r\n",
        "reverse_2d"
      ],
      "execution_count": 24,
      "outputs": [
        {
          "output_type": "execute_result",
          "data": {
            "text/plain": [
              "array([[4, 6, 4, 6, 3, 9, 2],\n",
              "       [8, 8, 7, 8, 3, 1, 2],\n",
              "       [5, 7, 1, 7, 6, 7, 1],\n",
              "       [3, 2, 1, 2, 6, 9, 3],\n",
              "       [7, 9, 5, 4, 1, 5, 9],\n",
              "       [9, 9, 8, 5, 5, 6, 5]])"
            ]
          },
          "metadata": {
            "tags": []
          },
          "execution_count": 24
        }
      ]
    },
    {
      "cell_type": "code",
      "metadata": {
        "colab": {
          "base_uri": "https://localhost:8080/"
        },
        "id": "2kvtwGRFAHaA",
        "outputId": "de16d44a-7a92-41ae-bd52-511ea56c9ad5"
      },
      "source": [
        "\r\n",
        "def select_rows(x, row_indexes):\r\n",
        "    return x[row_indexes]\r\n",
        "\r\n",
        "# Uncomment to test\r\n",
        "x = np.array([[ 1,  2,  3,  4], [ 5,  6,  7,  8], [ 9, 10, 11, 12], [13, 14, 15, 16], [17, 18, 19, 20]])\r\n",
        "rows_1_4_3 = select_rows(x, [1, 4, 3])\r\n",
        "rows_1_4_3\r\n",
        "\r\n"
      ],
      "execution_count": 26,
      "outputs": [
        {
          "output_type": "execute_result",
          "data": {
            "text/plain": [
              "array([[ 5,  6,  7,  8],\n",
              "       [17, 18, 19, 20],\n",
              "       [13, 14, 15, 16]])"
            ]
          },
          "metadata": {
            "tags": []
          },
          "execution_count": 26
        }
      ]
    },
    {
      "cell_type": "code",
      "metadata": {
        "colab": {
          "base_uri": "https://localhost:8080/"
        },
        "id": "72sj6C5kDpnf",
        "outputId": "22f9c032-cc63-425a-a851-209f5383cf6e"
      },
      "source": [
        "def select_columns(x, col_indexes):\r\n",
        "    return x[:,col_indexes]\r\n",
        "    \r\n",
        "x = np.array([[ 1,  2,  3,  4], [ 5,  6,  7,  8], [ 9, 10, 11, 12], [13, 14, 15, 16], [17, 18, 19, 20]])\r\n",
        "cols_3_0 = select_columns(x, [3, 0])\r\n",
        "print(cols_3_0)"
      ],
      "execution_count": 27,
      "outputs": [
        {
          "output_type": "stream",
          "text": [
            "[[ 4  1]\n",
            " [ 8  5]\n",
            " [12  9]\n",
            " [16 13]\n",
            " [20 17]]\n"
          ],
          "name": "stdout"
        }
      ]
    },
    {
      "cell_type": "code",
      "metadata": {
        "colab": {
          "base_uri": "https://localhost:8080/"
        },
        "id": "XDPpBLiqENwg",
        "outputId": "c6971b80-e867-4e79-9d23-81fb5a825532"
      },
      "source": [
        "def copy_row_k_times(x, row_index, row_k_times):\r\n",
        "    return x[[row_index]*row_k_times]\r\n",
        "    \r\n",
        "\r\n",
        "\r\n",
        "# Uncomment to test\r\n",
        "x = np.array([[ 1,  2,  3,  4], [ 5,  6,  7,  8], [ 9, 10, 11, 12]])\r\n",
        "row_k_times = copy_row_k_times(x, 1, 4)\r\n",
        "print(row_k_times)"
      ],
      "execution_count": 30,
      "outputs": [
        {
          "output_type": "stream",
          "text": [
            "[[5 6 7 8]\n",
            " [5 6 7 8]\n",
            " [5 6 7 8]\n",
            " [5 6 7 8]]\n"
          ],
          "name": "stdout"
        }
      ]
    },
    {
      "cell_type": "code",
      "metadata": {
        "id": "4if9dZVfGhDD"
      },
      "source": [
        "array2d = np.array([\r\n",
        "    [ 1,  2,  3,  4,  5],\r\n",
        "    [ 6,  7,  8,  9, 10],\r\n",
        "    [11, 12, 13, 14, 15],\r\n",
        "    [16, 17, 18, 19, 20],\r\n",
        "])\r\n",
        "\r\n",
        "x=array2d[:,1:3]\r\n",
        "y=array2d[[0,2]]\r\n",
        "z= array2d[2, 1:4]"
      ],
      "execution_count": 31,
      "outputs": []
    },
    {
      "cell_type": "code",
      "metadata": {
        "colab": {
          "base_uri": "https://localhost:8080/"
        },
        "id": "4Z2sMKAiHgIB",
        "outputId": "007d5a22-8bd2-4eb6-8dc2-0ab858a96be4"
      },
      "source": [
        "x"
      ],
      "execution_count": 32,
      "outputs": [
        {
          "output_type": "execute_result",
          "data": {
            "text/plain": [
              "array([[ 2,  3],\n",
              "       [ 7,  8],\n",
              "       [12, 13],\n",
              "       [17, 18]])"
            ]
          },
          "metadata": {
            "tags": []
          },
          "execution_count": 32
        }
      ]
    },
    {
      "cell_type": "code",
      "metadata": {
        "colab": {
          "base_uri": "https://localhost:8080/"
        },
        "id": "RwbPxGkJHhMb",
        "outputId": "322ed3c2-2e6e-4b83-8d48-f0fdba852faf"
      },
      "source": [
        "y"
      ],
      "execution_count": 33,
      "outputs": [
        {
          "output_type": "execute_result",
          "data": {
            "text/plain": [
              "array([[ 1,  2,  3,  4,  5],\n",
              "       [11, 12, 13, 14, 15]])"
            ]
          },
          "metadata": {
            "tags": []
          },
          "execution_count": 33
        }
      ]
    },
    {
      "cell_type": "code",
      "metadata": {
        "colab": {
          "base_uri": "https://localhost:8080/"
        },
        "id": "jT1_RM5OHhzZ",
        "outputId": "611fc34e-fe58-4fa8-9b9b-4fd340bc40da"
      },
      "source": [
        "z"
      ],
      "execution_count": 34,
      "outputs": [
        {
          "output_type": "execute_result",
          "data": {
            "text/plain": [
              "array([12, 13, 14])"
            ]
          },
          "metadata": {
            "tags": []
          },
          "execution_count": 34
        }
      ]
    },
    {
      "cell_type": "code",
      "metadata": {
        "id": "w7YZP090Hiq5"
      },
      "source": [
        "array2d = np.array([\r\n",
        "    [ 1,  2,  3,  4,  5],\r\n",
        "    [ 6,  7,  8,  9, 10],\r\n",
        "    [11, 12, 13, 14, 15],\r\n",
        "    [16, 17, 18, 19, 20],\r\n",
        "])\r\n",
        "\r\n",
        "x= array2d[[1,3],::2]\r\n",
        "y= array2d[[0,2],1::2]\r\n",
        "z=array2d[[0,2],1:4]"
      ],
      "execution_count": 35,
      "outputs": []
    },
    {
      "cell_type": "code",
      "metadata": {
        "colab": {
          "base_uri": "https://localhost:8080/"
        },
        "id": "OedrD76SIN9r",
        "outputId": "f8d0b125-7604-4ae1-fc05-2e0c5f85adbc"
      },
      "source": [
        "x"
      ],
      "execution_count": 36,
      "outputs": [
        {
          "output_type": "execute_result",
          "data": {
            "text/plain": [
              "array([[ 6,  8, 10],\n",
              "       [16, 18, 20]])"
            ]
          },
          "metadata": {
            "tags": []
          },
          "execution_count": 36
        }
      ]
    },
    {
      "cell_type": "code",
      "metadata": {
        "colab": {
          "base_uri": "https://localhost:8080/"
        },
        "id": "KSIUugbRIObo",
        "outputId": "398e9814-eab1-44fa-fd51-54e6deaffd6d"
      },
      "source": [
        "y"
      ],
      "execution_count": 38,
      "outputs": [
        {
          "output_type": "execute_result",
          "data": {
            "text/plain": [
              "array([[ 2,  4],\n",
              "       [12, 14]])"
            ]
          },
          "metadata": {
            "tags": []
          },
          "execution_count": 38
        }
      ]
    },
    {
      "cell_type": "code",
      "metadata": {
        "colab": {
          "base_uri": "https://localhost:8080/"
        },
        "id": "ZMwEpSCIIPck",
        "outputId": "d39c45a9-ff99-4dbb-9b8d-2266153253d8"
      },
      "source": [
        "z"
      ],
      "execution_count": 39,
      "outputs": [
        {
          "output_type": "execute_result",
          "data": {
            "text/plain": [
              "array([[ 2,  3,  4],\n",
              "       [12, 13, 14]])"
            ]
          },
          "metadata": {
            "tags": []
          },
          "execution_count": 39
        }
      ]
    },
    {
      "cell_type": "markdown",
      "metadata": {
        "id": "xXtEz_MPLR8S"
      },
      "source": [
        "swapping case"
      ]
    },
    {
      "cell_type": "code",
      "metadata": {
        "id": "31yj3vNMIRFH"
      },
      "source": [
        "a=3;b=4\r\n",
        "b,a=a,b"
      ],
      "execution_count": 40,
      "outputs": []
    },
    {
      "cell_type": "code",
      "metadata": {
        "colab": {
          "base_uri": "https://localhost:8080/"
        },
        "id": "xLPoEXxILPEG",
        "outputId": "453c119c-a1fd-405a-f2fa-c37cd06d678a"
      },
      "source": [
        "b"
      ],
      "execution_count": 41,
      "outputs": [
        {
          "output_type": "execute_result",
          "data": {
            "text/plain": [
              "3"
            ]
          },
          "metadata": {
            "tags": []
          },
          "execution_count": 41
        }
      ]
    },
    {
      "cell_type": "code",
      "metadata": {
        "colab": {
          "base_uri": "https://localhost:8080/"
        },
        "id": "3CZU_Xs8LP3S",
        "outputId": "86aad943-a0ba-45c7-f10b-c2119c9cc514"
      },
      "source": [
        "a"
      ],
      "execution_count": 42,
      "outputs": [
        {
          "output_type": "execute_result",
          "data": {
            "text/plain": [
              "4"
            ]
          },
          "metadata": {
            "tags": []
          },
          "execution_count": 42
        }
      ]
    },
    {
      "cell_type": "markdown",
      "metadata": {
        "id": "_T5Z77tRPrKZ"
      },
      "source": [
        "here I swap rows"
      ]
    },
    {
      "cell_type": "code",
      "metadata": {
        "colab": {
          "base_uri": "https://localhost:8080/"
        },
        "id": "YmQ8GYSFLRFo",
        "outputId": "86550b4c-0273-4689-a3ba-72b0507f95e7"
      },
      "source": [
        "def swap_rows(x, row_index1, row_index2):\r\n",
        "    x[[row_index2, row_index1]]=x[[row_index1, row_index2]]\r\n",
        "    return x\r\n",
        "\r\n",
        "\r\n",
        "# Uncomment to test\r\n",
        "x = np.array([[1,  2,  3,  4], [5,  6,  7,  8], [9, 10, 11, 12]])\r\n",
        "swap_rows(x, 0, 2)\r\n",
        "print(x)"
      ],
      "execution_count": 44,
      "outputs": [
        {
          "output_type": "stream",
          "text": [
            "[[ 9 10 11 12]\n",
            " [ 5  6  7  8]\n",
            " [ 1  2  3  4]]\n"
          ],
          "name": "stdout"
        }
      ]
    },
    {
      "cell_type": "markdown",
      "metadata": {
        "id": "Ur-RCbj6P5YZ"
      },
      "source": [
        "next approach could be"
      ]
    },
    {
      "cell_type": "code",
      "metadata": {
        "colab": {
          "base_uri": "https://localhost:8080/"
        },
        "id": "2xqVRlcXO4jg",
        "outputId": "307770be-c6e7-4fab-d7b3-0af9af5966a4"
      },
      "source": [
        "def swap_rows(x, row_index1, row_index2):\r\n",
        "  row_tem= x[row_index1].copy()\r\n",
        "  x[row_index1]= x[row_index2]\r\n",
        "  x[row_index2]= row_tem\r\n",
        "\r\n",
        "x = np.array([[1,  2,  3,  4], [5,  6,  7,  8], [9, 10, 11, 12]])\r\n",
        "swap_rows(x, 0, 2)\r\n",
        "print(x)"
      ],
      "execution_count": 50,
      "outputs": [
        {
          "output_type": "stream",
          "text": [
            "[[ 9 10 11 12]\n",
            " [ 5  6  7  8]\n",
            " [ 1  2  3  4]]\n"
          ],
          "name": "stdout"
        }
      ]
    },
    {
      "cell_type": "code",
      "metadata": {
        "colab": {
          "base_uri": "https://localhost:8080/"
        },
        "id": "qDnLjVsAQVmz",
        "outputId": "9237e3b4-b36d-4de5-8a8a-1ae7a12641c3"
      },
      "source": [
        "def swap_cols(x, col_index1, col_index2):\r\n",
        "    x[:,[col_index2,col_index1]]= x[:,[col_index1,col_index2]]\r\n",
        "\r\n",
        "\r\n",
        "# Uncomment to test\r\n",
        "x = np.array([[1,  2,  3,  4], [5,  6,  7,  8], [9, 10, 11, 12]])\r\n",
        "swap_cols(x, 0, 1)\r\n",
        "print(x)"
      ],
      "execution_count": 51,
      "outputs": [
        {
          "output_type": "stream",
          "text": [
            "[[ 2  1  3  4]\n",
            " [ 6  5  7  8]\n",
            " [10  9 11 12]]\n"
          ],
          "name": "stdout"
        }
      ]
    },
    {
      "cell_type": "code",
      "metadata": {
        "colab": {
          "base_uri": "https://localhost:8080/"
        },
        "id": "L64rK9HqR6LI",
        "outputId": "6f93b258-3177-4f7e-faa4-d460bec9d730"
      },
      "source": [
        "def swap_cols(x, col_index1, col_index2):\r\n",
        "  tem_col= x[:,col_index1].copy()\r\n",
        "  x[:,col_index1]= x[:,col_index2]\r\n",
        "  x[:, col_index2]= tem_col\r\n",
        "\r\n",
        "x = np.array([[1,  2,  3,  4], [5,  6,  7,  8], [9, 10, 11, 12]])\r\n",
        "swap_cols(x, 0, 1)\r\n",
        "print(x)"
      ],
      "execution_count": 52,
      "outputs": [
        {
          "output_type": "stream",
          "text": [
            "[[ 2  1  3  4]\n",
            " [ 6  5  7  8]\n",
            " [10  9 11 12]]\n"
          ],
          "name": "stdout"
        }
      ]
    },
    {
      "cell_type": "code",
      "metadata": {
        "id": "SarYallBSjNA"
      },
      "source": [
        ""
      ],
      "execution_count": null,
      "outputs": []
    }
  ]
}