{
  "nbformat": 4,
  "nbformat_minor": 0,
  "metadata": {
    "colab": {
      "name": "numpy_and_pandas .ipynb",
      "provenance": [],
      "authorship_tag": "ABX9TyMuw0GhQF9RZiTriFkoMT7p",
      "include_colab_link": true
    },
    "kernelspec": {
      "name": "python3",
      "display_name": "Python 3"
    }
  },
  "cells": [
    {
      "cell_type": "markdown",
      "metadata": {
        "id": "view-in-github",
        "colab_type": "text"
      },
      "source": [
        "<a href=\"https://colab.research.google.com/github/mesrp88/numpy_pandas_uses/blob/main/numpy_and_pandas_.ipynb\" target=\"_parent\"><img src=\"https://colab.research.google.com/assets/colab-badge.svg\" alt=\"Open In Colab\"/></a>"
      ]
    },
    {
      "cell_type": "code",
      "metadata": {
        "id": "fzpFCH_GiRan"
      },
      "source": [
        "#importing libraries\r\n",
        "import numpy as np \r\n",
        "import pandas as pd\r\n"
      ],
      "execution_count": 1,
      "outputs": []
    },
    {
      "cell_type": "code",
      "metadata": {
        "colab": {
          "base_uri": "https://localhost:8080/"
        },
        "id": "rFTK-oXPiqB6",
        "outputId": "66a6bd66-edae-40a5-ed42-6246e0f113c5"
      },
      "source": [
        "data_ndarray= np.array([10,20,30])\r\n",
        "data_ndarray"
      ],
      "execution_count": 2,
      "outputs": [
        {
          "output_type": "execute_result",
          "data": {
            "text/plain": [
              "array([10, 20, 30])"
            ]
          },
          "metadata": {
            "tags": []
          },
          "execution_count": 2
        }
      ]
    },
    {
      "cell_type": "code",
      "metadata": {
        "colab": {
          "base_uri": "https://localhost:8080/"
        },
        "id": "pyhCJ8M0jGoy",
        "outputId": "acc6b3d2-d3fe-42eb-f3f2-f880481efaa2"
      },
      "source": [
        "from csv import reader\r\n",
        "\r\n",
        "f= open('/content/nyc_taxis.csv', 'r')\r\n",
        "taxi_list=list(reader(f))\r\n",
        "taxi_list= taxi_list[1:]\r\n",
        "taxi_list[:1]"
      ],
      "execution_count": 3,
      "outputs": [
        {
          "output_type": "execute_result",
          "data": {
            "text/plain": [
              "[['2016',\n",
              "  '1',\n",
              "  '1',\n",
              "  '5',\n",
              "  '0',\n",
              "  '2',\n",
              "  '4',\n",
              "  '21.00',\n",
              "  '2037',\n",
              "  '52.00',\n",
              "  '0.80',\n",
              "  '5.54',\n",
              "  '11.65',\n",
              "  '69.99',\n",
              "  '1']]"
            ]
          },
          "metadata": {
            "tags": []
          },
          "execution_count": 3
        }
      ]
    },
    {
      "cell_type": "code",
      "metadata": {
        "colab": {
          "base_uri": "https://localhost:8080/"
        },
        "id": "eAnKdAKxlXto",
        "outputId": "07a6fa54-9495-43c5-8091-48709b2059f9"
      },
      "source": [
        "#converting all value into float data_type\r\n",
        "converted_taxi_list=[]\r\n",
        "for row in taxi_list:\r\n",
        "  converted_row=[]\r\n",
        "  for item in row:\r\n",
        "    converted_row.append(float(item))\r\n",
        "  converted_taxi_list.append(converted_row)\r\n",
        "converted_taxi_list[:1]"
      ],
      "execution_count": 4,
      "outputs": [
        {
          "output_type": "execute_result",
          "data": {
            "text/plain": [
              "[[2016.0,\n",
              "  1.0,\n",
              "  1.0,\n",
              "  5.0,\n",
              "  0.0,\n",
              "  2.0,\n",
              "  4.0,\n",
              "  21.0,\n",
              "  2037.0,\n",
              "  52.0,\n",
              "  0.8,\n",
              "  5.54,\n",
              "  11.65,\n",
              "  69.99,\n",
              "  1.0]]"
            ]
          },
          "metadata": {
            "tags": []
          },
          "execution_count": 4
        }
      ]
    },
    {
      "cell_type": "code",
      "metadata": {
        "colab": {
          "base_uri": "https://localhost:8080/"
        },
        "id": "KzBFaD6fmKCO",
        "outputId": "c73c0bc0-b136-4875-cab8-4002c2b7b9d3"
      },
      "source": [
        "#change into nunpy  array\r\n",
        "taxi= np.array(converted_taxi_list)\r\n",
        "print(taxi)"
      ],
      "execution_count": 5,
      "outputs": [
        {
          "output_type": "stream",
          "text": [
            "[[2.016e+03 1.000e+00 1.000e+00 ... 1.165e+01 6.999e+01 1.000e+00]\n",
            " [2.016e+03 1.000e+00 1.000e+00 ... 8.000e+00 5.430e+01 1.000e+00]\n",
            " [2.016e+03 1.000e+00 1.000e+00 ... 0.000e+00 3.780e+01 2.000e+00]\n",
            " ...\n",
            " [2.016e+03 6.000e+00 3.000e+01 ... 5.000e+00 6.334e+01 1.000e+00]\n",
            " [2.016e+03 6.000e+00 3.000e+01 ... 8.950e+00 4.475e+01 1.000e+00]\n",
            " [2.016e+03 6.000e+00 3.000e+01 ... 0.000e+00 5.484e+01 2.000e+00]]\n"
          ],
          "name": "stdout"
        }
      ]
    },
    {
      "cell_type": "code",
      "metadata": {
        "colab": {
          "base_uri": "https://localhost:8080/"
        },
        "id": "a67-Hiq1mfms",
        "outputId": "6e64165c-5d14-4ac6-d660-dea8db839b31"
      },
      "source": [
        "#to know number of rows and columns)\r\n",
        "taxi_shape=taxi.shape\r\n",
        "taxi_shape"
      ],
      "execution_count": 6,
      "outputs": [
        {
          "output_type": "execute_result",
          "data": {
            "text/plain": [
              "(2013, 15)"
            ]
          },
          "metadata": {
            "tags": []
          },
          "execution_count": 6
        }
      ]
    },
    {
      "cell_type": "code",
      "metadata": {
        "colab": {
          "base_uri": "https://localhost:8080/"
        },
        "id": "eHmb1fzjmz-a",
        "outputId": "c9bd58a8-313e-4336-be8f-7aa0ad9e1680"
      },
      "source": [
        "row_0=taxi[0]\r\n",
        "print(row_0)\r\n",
        "print('\\n')\r\n",
        "rows_391_to_500= taxi[391:501]\r\n",
        "print(rows_391_to_500)\r\n",
        "print('\\n')\r\n",
        "row_21_column_5= taxi[21,5]\r\n",
        "print(row_21_column_5)"
      ],
      "execution_count": 7,
      "outputs": [
        {
          "output_type": "stream",
          "text": [
            "[2.016e+03 1.000e+00 1.000e+00 5.000e+00 0.000e+00 2.000e+00 4.000e+00\n",
            " 2.100e+01 2.037e+03 5.200e+01 8.000e-01 5.540e+00 1.165e+01 6.999e+01\n",
            " 1.000e+00]\n",
            "\n",
            "\n",
            "[[2.016e+03 1.000e+00 2.000e+00 ... 0.000e+00 2.630e+01 2.000e+00]\n",
            " [2.016e+03 1.000e+00 2.000e+00 ... 3.000e+00 3.030e+01 1.000e+00]\n",
            " [2.016e+03 1.000e+00 2.000e+00 ... 6.670e+00 4.001e+01 1.000e+00]\n",
            " ...\n",
            " [2.016e+03 1.000e+00 4.000e+00 ... 0.000e+00 5.534e+01 2.000e+00]\n",
            " [2.016e+03 1.000e+00 4.000e+00 ... 3.090e+00 1.339e+01 1.000e+00]\n",
            " [2.016e+03 1.000e+00 4.000e+00 ... 4.000e+00 2.680e+01 1.000e+00]]\n",
            "\n",
            "\n",
            "4.0\n"
          ],
          "name": "stdout"
        }
      ]
    },
    {
      "cell_type": "code",
      "metadata": {
        "colab": {
          "base_uri": "https://localhost:8080/"
        },
        "id": "UOIDo9RDoNVw",
        "outputId": "667952bd-96c2-4179-a41b-5138ce162823"
      },
      "source": [
        "columns_1_4_7= taxi[:,[1,4,7]]\r\n",
        "print(columns_1_4_7)\r\n",
        "print('\\n')\r\n",
        "row_99_columns_5_to_8= taxi[99,5:9]\r\n",
        "print(row_99_columns_5_to_8)\r\n",
        "print('\\n')\r\n",
        "rows_100_to_200_column_14= taxi[100:201, 14]\r\n",
        "print(rows_100_to_200_column_14)\r\n"
      ],
      "execution_count": 8,
      "outputs": [
        {
          "output_type": "stream",
          "text": [
            "[[ 1.    0.   21.  ]\n",
            " [ 1.    0.   16.29]\n",
            " [ 1.    0.   12.7 ]\n",
            " ...\n",
            " [ 6.    5.   17.48]\n",
            " [ 6.    5.   12.76]\n",
            " [ 6.    5.   17.54]]\n",
            "\n",
            "\n",
            "[   2.      4.     20.91 1744.  ]\n",
            "\n",
            "\n",
            "[2. 1. 1. 1. 1. 1. 2. 1. 1. 2. 1. 1. 1. 2. 2. 2. 1. 2. 1. 2. 1. 1. 2. 2.\n",
            " 2. 1. 1. 2. 1. 2. 1. 1. 2. 2. 1. 1. 2. 2. 1. 1. 1. 2. 1. 1. 1. 2. 2. 2.\n",
            " 2. 2. 1. 4. 2. 1. 2. 1. 2. 2. 2. 2. 1. 1. 2. 1. 2. 2. 2. 2. 1. 2. 2. 1.\n",
            " 2. 1. 2. 1. 2. 2. 1. 1. 1. 1. 2. 1. 1. 2. 2. 1. 1. 2. 2. 1. 1. 2. 1. 1.\n",
            " 1. 1. 1. 2. 2.]\n"
          ],
          "name": "stdout"
        }
      ]
    },
    {
      "cell_type": "code",
      "metadata": {
        "colab": {
          "base_uri": "https://localhost:8080/"
        },
        "id": "-7P_42uzrtg-",
        "outputId": "586019a4-1a4e-4653-951c-065d1d00d940"
      },
      "source": [
        "#vector addition\r\n",
        "fare_amount = taxi[:,9]\r\n",
        "fees_amount = taxi[:,10]\r\n",
        "fare_and_fees= fare_amount+fees_amount\r\n",
        "fare_and_fees"
      ],
      "execution_count": 9,
      "outputs": [
        {
          "output_type": "execute_result",
          "data": {
            "text/plain": [
              "array([52.8, 46.3, 37.8, ..., 52.8, 35.8, 49.3])"
            ]
          },
          "metadata": {
            "tags": []
          },
          "execution_count": 9
        }
      ]
    },
    {
      "cell_type": "code",
      "metadata": {
        "id": "vQRYG9MvsgNh"
      },
      "source": [
        "array2d= np.array([1,2,3,4,5,6,7,8,9]).reshape(3,3)"
      ],
      "execution_count": 10,
      "outputs": []
    },
    {
      "cell_type": "code",
      "metadata": {
        "colab": {
          "base_uri": "https://localhost:8080/"
        },
        "id": "PlL4gF-AaVrU",
        "outputId": "29e02e16-8aff-48c1-8f23-6940943f67c1"
      },
      "source": [
        "array2d"
      ],
      "execution_count": 11,
      "outputs": [
        {
          "output_type": "execute_result",
          "data": {
            "text/plain": [
              "array([[1, 2, 3],\n",
              "       [4, 5, 6],\n",
              "       [7, 8, 9]])"
            ]
          },
          "metadata": {
            "tags": []
          },
          "execution_count": 11
        }
      ]
    },
    {
      "cell_type": "code",
      "metadata": {
        "colab": {
          "base_uri": "https://localhost:8080/"
        },
        "id": "xLmrrrxEafmh",
        "outputId": "45b52e41-d942-411d-d790-38be8772b6db"
      },
      "source": [
        "array2d.max(axis=1)"
      ],
      "execution_count": 12,
      "outputs": [
        {
          "output_type": "execute_result",
          "data": {
            "text/plain": [
              "array([3, 6, 9])"
            ]
          },
          "metadata": {
            "tags": []
          },
          "execution_count": 12
        }
      ]
    },
    {
      "cell_type": "code",
      "metadata": {
        "colab": {
          "base_uri": "https://localhost:8080/"
        },
        "id": "eM0z2m3zalZ6",
        "outputId": "7bfaacb7-fba0-484e-9c60-09e85b41b2c7"
      },
      "source": [
        "array2d.max(axis=0)"
      ],
      "execution_count": 13,
      "outputs": [
        {
          "output_type": "execute_result",
          "data": {
            "text/plain": [
              "array([7, 8, 9])"
            ]
          },
          "metadata": {
            "tags": []
          },
          "execution_count": 13
        }
      ]
    },
    {
      "cell_type": "code",
      "metadata": {
        "colab": {
          "base_uri": "https://localhost:8080/"
        },
        "id": "L2Z_Ga9Ra9FL",
        "outputId": "27755258-8d42-46e5-8d85-e10aa8af9dbc"
      },
      "source": [
        "array2d.max()"
      ],
      "execution_count": 14,
      "outputs": [
        {
          "output_type": "execute_result",
          "data": {
            "text/plain": [
              "9"
            ]
          },
          "metadata": {
            "tags": []
          },
          "execution_count": 14
        }
      ]
    },
    {
      "cell_type": "markdown",
      "metadata": {
        "id": "zV-2FeTvlCvY"
      },
      "source": [
        "Boolean Indexing "
      ]
    },
    {
      "cell_type": "code",
      "metadata": {
        "colab": {
          "base_uri": "https://localhost:8080/"
        },
        "id": "DDqNXcqtbB6v",
        "outputId": "311b381c-c72f-48b5-fb79-45e096a8ab87"
      },
      "source": [
        "taxi= np.genfromtxt('nyc_taxis.csv', delimiter=',')\r\n",
        "taxi_shape= taxi.shape\r\n",
        "\r\n",
        "print(taxi_shape,'\\n')\r\n",
        "print(taxi.dtype)"
      ],
      "execution_count": 15,
      "outputs": [
        {
          "output_type": "stream",
          "text": [
            "(2014, 15) \n",
            "\n",
            "float64\n"
          ],
          "name": "stdout"
        }
      ]
    },
    {
      "cell_type": "code",
      "metadata": {
        "colab": {
          "base_uri": "https://localhost:8080/"
        },
        "id": "SyWQEHY_Abh1",
        "outputId": "3f8c8e0d-c0d4-44b1-90e5-eb0fc949a129"
      },
      "source": [
        "taxi"
      ],
      "execution_count": 16,
      "outputs": [
        {
          "output_type": "execute_result",
          "data": {
            "text/plain": [
              "array([[      nan,       nan,       nan, ...,       nan,       nan,\n",
              "              nan],\n",
              "       [2.016e+03, 1.000e+00, 1.000e+00, ..., 1.165e+01, 6.999e+01,\n",
              "        1.000e+00],\n",
              "       [2.016e+03, 1.000e+00, 1.000e+00, ..., 8.000e+00, 5.430e+01,\n",
              "        1.000e+00],\n",
              "       ...,\n",
              "       [2.016e+03, 6.000e+00, 3.000e+01, ..., 5.000e+00, 6.334e+01,\n",
              "        1.000e+00],\n",
              "       [2.016e+03, 6.000e+00, 3.000e+01, ..., 8.950e+00, 4.475e+01,\n",
              "        1.000e+00],\n",
              "       [2.016e+03, 6.000e+00, 3.000e+01, ..., 0.000e+00, 5.484e+01,\n",
              "        2.000e+00]])"
            ]
          },
          "metadata": {
            "tags": []
          },
          "execution_count": 16
        }
      ]
    },
    {
      "cell_type": "code",
      "metadata": {
        "colab": {
          "base_uri": "https://localhost:8080/"
        },
        "id": "r60NV8e6BTHP",
        "outputId": "4c9b63ae-b355-4e66-8a34-8d91e0c4c458"
      },
      "source": [
        "taxi=taxi[1:]\r\n",
        "taxi"
      ],
      "execution_count": 17,
      "outputs": [
        {
          "output_type": "execute_result",
          "data": {
            "text/plain": [
              "array([[2.016e+03, 1.000e+00, 1.000e+00, ..., 1.165e+01, 6.999e+01,\n",
              "        1.000e+00],\n",
              "       [2.016e+03, 1.000e+00, 1.000e+00, ..., 8.000e+00, 5.430e+01,\n",
              "        1.000e+00],\n",
              "       [2.016e+03, 1.000e+00, 1.000e+00, ..., 0.000e+00, 3.780e+01,\n",
              "        2.000e+00],\n",
              "       ...,\n",
              "       [2.016e+03, 6.000e+00, 3.000e+01, ..., 5.000e+00, 6.334e+01,\n",
              "        1.000e+00],\n",
              "       [2.016e+03, 6.000e+00, 3.000e+01, ..., 8.950e+00, 4.475e+01,\n",
              "        1.000e+00],\n",
              "       [2.016e+03, 6.000e+00, 3.000e+01, ..., 0.000e+00, 5.484e+01,\n",
              "        2.000e+00]])"
            ]
          },
          "metadata": {
            "tags": []
          },
          "execution_count": 17
        }
      ]
    },
    {
      "cell_type": "code",
      "metadata": {
        "colab": {
          "base_uri": "https://localhost:8080/"
        },
        "id": "JsVFnVQNBYFm",
        "outputId": "21e8bbe0-016d-4f9c-e85a-628360a0d502"
      },
      "source": [
        "taxi= np.genfromtxt('nyc_taxis.csv', delimiter=',', skip_header= 1)\r\n",
        "taxi_shape= taxi.shape\r\n",
        "taxi_shape"
      ],
      "execution_count": 18,
      "outputs": [
        {
          "output_type": "execute_result",
          "data": {
            "text/plain": [
              "(2013, 15)"
            ]
          },
          "metadata": {
            "tags": []
          },
          "execution_count": 18
        }
      ]
    },
    {
      "cell_type": "code",
      "metadata": {
        "colab": {
          "base_uri": "https://localhost:8080/"
        },
        "id": "l1sp96nUCOk-",
        "outputId": "6faed886-d455-4c5c-f199-df99e09ac683"
      },
      "source": [
        "print(np.array([1,2,3,4,5])+10) #10  is added to every element inside array"
      ],
      "execution_count": 19,
      "outputs": [
        {
          "output_type": "stream",
          "text": [
            "[11 12 13 14 15]\n"
          ],
          "name": "stdout"
        }
      ]
    },
    {
      "cell_type": "code",
      "metadata": {
        "colab": {
          "base_uri": "https://localhost:8080/"
        },
        "id": "XSpJN6OnW3P7",
        "outputId": "a8e0239b-4943-4de9-828b-77853745e0d2"
      },
      "source": [
        "print(np.array([1,2,3,4,5])<3)"
      ],
      "execution_count": 20,
      "outputs": [
        {
          "output_type": "stream",
          "text": [
            "[ True  True False False False]\n"
          ],
          "name": "stdout"
        }
      ]
    },
    {
      "cell_type": "code",
      "metadata": {
        "colab": {
          "base_uri": "https://localhost:8080/"
        },
        "id": "4TAuKZK6X9J5",
        "outputId": "9999989b-9a38-4294-a1bf-05f58dc27aa0"
      },
      "source": [
        "a = np.array([1, 2, 3, 4, 5])\r\n",
        "b = np.array([\"blue\", \"blue\", \"red\", \"blue\"])\r\n",
        "c = np.array([80.0, 103.4, 96.9, 200.3])\r\n",
        "\r\n",
        "a_bool= a<3\r\n",
        "a_bool\r\n"
      ],
      "execution_count": 21,
      "outputs": [
        {
          "output_type": "execute_result",
          "data": {
            "text/plain": [
              "array([ True,  True, False, False, False])"
            ]
          },
          "metadata": {
            "tags": []
          },
          "execution_count": 21
        }
      ]
    },
    {
      "cell_type": "code",
      "metadata": {
        "colab": {
          "base_uri": "https://localhost:8080/"
        },
        "id": "2zG29Sv_YmRW",
        "outputId": "0b3630a8-7cd7-4264-c59b-d1781eb29991"
      },
      "source": [
        "b_bool= b=='blue'\r\n",
        "b_bool"
      ],
      "execution_count": 22,
      "outputs": [
        {
          "output_type": "execute_result",
          "data": {
            "text/plain": [
              "array([ True,  True, False,  True])"
            ]
          },
          "metadata": {
            "tags": []
          },
          "execution_count": 22
        }
      ]
    },
    {
      "cell_type": "code",
      "metadata": {
        "colab": {
          "base_uri": "https://localhost:8080/"
        },
        "id": "04u7QDakYrYz",
        "outputId": "750a7b88-b141-4310-ead8-8734448835c1"
      },
      "source": [
        "c_bool= c>100\r\n",
        "c_bool"
      ],
      "execution_count": 23,
      "outputs": [
        {
          "output_type": "execute_result",
          "data": {
            "text/plain": [
              "array([False,  True, False,  True])"
            ]
          },
          "metadata": {
            "tags": []
          },
          "execution_count": 23
        }
      ]
    },
    {
      "cell_type": "markdown",
      "metadata": {
        "id": "WfX-nO3sZfJS"
      },
      "source": [
        "Here I am only selecting element with True value."
      ]
    },
    {
      "cell_type": "code",
      "metadata": {
        "colab": {
          "base_uri": "https://localhost:8080/"
        },
        "id": "5GHWXfRpYxmP",
        "outputId": "13bdfac7-c69a-49d4-922b-fb7a13d11110"
      },
      "source": [
        "pickup_month = taxi[:,1]\r\n",
        "\r\n",
        "january_bool = pickup_month == 1\r\n",
        "january = pickup_month[january_bool]\r\n",
        "january_rides = january.shape[0]\r\n",
        "january_rides"
      ],
      "execution_count": 24,
      "outputs": [
        {
          "output_type": "execute_result",
          "data": {
            "text/plain": [
              "800"
            ]
          },
          "metadata": {
            "tags": []
          },
          "execution_count": 24
        }
      ]
    },
    {
      "cell_type": "code",
      "metadata": {
        "colab": {
          "base_uri": "https://localhost:8080/"
        },
        "id": "MMHHCPHqZbky",
        "outputId": "f9e6e063-c9c7-4be7-ed0c-17ad355776a7"
      },
      "source": [
        "february_bool= pickup_month==2\r\n",
        "february= pickup_month[february_bool]\r\n",
        "february_rides=february.shape[0]\r\n",
        "february_rides"
      ],
      "execution_count": 25,
      "outputs": [
        {
          "output_type": "execute_result",
          "data": {
            "text/plain": [
              "176"
            ]
          },
          "metadata": {
            "tags": []
          },
          "execution_count": 25
        }
      ]
    },
    {
      "cell_type": "code",
      "metadata": {
        "id": "RUkefO0kfSSy",
        "colab": {
          "base_uri": "https://localhost:8080/"
        },
        "outputId": "0c172461-dd54-4a42-8556-32d70d834f53"
      },
      "source": [
        "a = np.array(['red','blue','black','blue','purple'])\r\n",
        "a[0] = 'orange'\r\n",
        "print(a)"
      ],
      "execution_count": 26,
      "outputs": [
        {
          "output_type": "stream",
          "text": [
            "['orange' 'blue' 'black' 'blue' 'purple']\n"
          ],
          "name": "stdout"
        }
      ]
    },
    {
      "cell_type": "code",
      "metadata": {
        "colab": {
          "base_uri": "https://localhost:8080/"
        },
        "id": "9fa01XlkuzzV",
        "outputId": "cc21a510-a155-447a-8848-41b0943d3eb0"
      },
      "source": [
        "a[3:] = 'pink'\r\n",
        "print(a)"
      ],
      "execution_count": 27,
      "outputs": [
        {
          "output_type": "stream",
          "text": [
            "['orange' 'blue' 'black' 'pink' 'pink']\n"
          ],
          "name": "stdout"
        }
      ]
    },
    {
      "cell_type": "code",
      "metadata": {
        "colab": {
          "base_uri": "https://localhost:8080/"
        },
        "id": "K9XMPLyTu9W-",
        "outputId": "e1d00666-bfd9-40e6-82e0-97d406d6ba46"
      },
      "source": [
        "ones = np.array([[1, 1, 1, 1, 1],\r\n",
        "                 [1, 1, 1, 1, 1],\r\n",
        "                 [1, 1, 1, 1, 1]])\r\n",
        "ones[1,2] = 99\r\n",
        "print(ones)"
      ],
      "execution_count": 28,
      "outputs": [
        {
          "output_type": "stream",
          "text": [
            "[[ 1  1  1  1  1]\n",
            " [ 1  1 99  1  1]\n",
            " [ 1  1  1  1  1]]\n"
          ],
          "name": "stdout"
        }
      ]
    },
    {
      "cell_type": "code",
      "metadata": {
        "colab": {
          "base_uri": "https://localhost:8080/"
        },
        "id": "scl_CPsfvgxn",
        "outputId": "1eaf66f9-fd4d-4312-b54d-d4e0c57b9bce"
      },
      "source": [
        "ones[0] = 42\r\n",
        "print(ones)"
      ],
      "execution_count": 29,
      "outputs": [
        {
          "output_type": "stream",
          "text": [
            "[[42 42 42 42 42]\n",
            " [ 1  1 99  1  1]\n",
            " [ 1  1  1  1  1]]\n"
          ],
          "name": "stdout"
        }
      ]
    },
    {
      "cell_type": "code",
      "metadata": {
        "colab": {
          "base_uri": "https://localhost:8080/"
        },
        "id": "xVyxqv8PvlNE",
        "outputId": "adfc37a4-2d63-417a-983c-6066eb5875ff"
      },
      "source": [
        "ones[:,2] = 0\r\n",
        "print(ones)"
      ],
      "execution_count": 30,
      "outputs": [
        {
          "output_type": "stream",
          "text": [
            "[[42 42  0 42 42]\n",
            " [ 1  1  0  1  1]\n",
            " [ 1  1  0  1  1]]\n"
          ],
          "name": "stdout"
        }
      ]
    },
    {
      "cell_type": "markdown",
      "metadata": {
        "id": "FovEiqA_0tPV"
      },
      "source": [
        "Here element above 2 is changed to 99"
      ]
    },
    {
      "cell_type": "code",
      "metadata": {
        "colab": {
          "base_uri": "https://localhost:8080/"
        },
        "id": "La9bOLE9v4Tl",
        "outputId": "72063df6-cb34-4b81-988d-e5a9f615e34a"
      },
      "source": [
        "a2 = np.array([1, 2, 3, 4, 5])\r\n",
        "\r\n",
        "a2_bool = a2 > 2\r\n",
        "\r\n",
        "a2[a2_bool] = 99\r\n",
        "\r\n",
        "print(a2)"
      ],
      "execution_count": 31,
      "outputs": [
        {
          "output_type": "stream",
          "text": [
            "[ 1  2 99 99 99]\n"
          ],
          "name": "stdout"
        }
      ]
    },
    {
      "cell_type": "markdown",
      "metadata": {
        "id": "UaOtlRuz1vJu"
      },
      "source": [
        "direct using boolean assignment"
      ]
    },
    {
      "cell_type": "code",
      "metadata": {
        "id": "Dn37MTPC0qkK"
      },
      "source": [
        "taxi_copy = taxi.copy()\r\n",
        "total_amount= taxi_copy[:, 13]\r\n",
        "total_amount[total_amount<0]=0"
      ],
      "execution_count": 32,
      "outputs": []
    },
    {
      "cell_type": "code",
      "metadata": {
        "colab": {
          "base_uri": "https://localhost:8080/"
        },
        "id": "3V8Te_cD2PwK",
        "outputId": "acee5d83-ea04-4222-fa27-9568199ff689"
      },
      "source": [
        "matrix2d= np.array(np.arange(1,10)).reshape(3,-1)\r\n",
        "matrix2d"
      ],
      "execution_count": 33,
      "outputs": [
        {
          "output_type": "execute_result",
          "data": {
            "text/plain": [
              "array([[1, 2, 3],\n",
              "       [4, 5, 6],\n",
              "       [7, 8, 9]])"
            ]
          },
          "metadata": {
            "tags": []
          },
          "execution_count": 33
        }
      ]
    },
    {
      "cell_type": "markdown",
      "metadata": {
        "id": "ihn2QpD63XaZ"
      },
      "source": [
        "Here I assign 99 to every element having value more than 4"
      ]
    },
    {
      "cell_type": "code",
      "metadata": {
        "colab": {
          "base_uri": "https://localhost:8080/"
        },
        "id": "gk29XprV2iS2",
        "outputId": "f93f017b-619c-4756-fa99-ab403fe8240d"
      },
      "source": [
        "matrix2d[matrix2d>4]= 99\r\n",
        "matrix2d"
      ],
      "execution_count": 34,
      "outputs": [
        {
          "output_type": "execute_result",
          "data": {
            "text/plain": [
              "array([[ 1,  2,  3],\n",
              "       [ 4, 99, 99],\n",
              "       [99, 99, 99]])"
            ]
          },
          "metadata": {
            "tags": []
          },
          "execution_count": 34
        }
      ]
    },
    {
      "cell_type": "code",
      "metadata": {
        "colab": {
          "base_uri": "https://localhost:8080/"
        },
        "id": "iIRw3waq3TWF",
        "outputId": "955dc825-70d3-4667-d6a6-6c0caa61dbf1"
      },
      "source": [
        "m2d= np.array(np.arange(1,10)).reshape(3,-1)\r\n",
        "m2d[m2d[:,1]>2]=88 #this is used as row index\r\n",
        "m2d"
      ],
      "execution_count": 35,
      "outputs": [
        {
          "output_type": "execute_result",
          "data": {
            "text/plain": [
              "array([[ 1,  2,  3],\n",
              "       [88, 88, 88],\n",
              "       [88, 88, 88]])"
            ]
          },
          "metadata": {
            "tags": []
          },
          "execution_count": 35
        }
      ]
    },
    {
      "cell_type": "code",
      "metadata": {
        "id": "D4q2C-bg49Z0"
      },
      "source": [
        "m2d[m2d[:,1]>2, 1]=99 #this is used as columns index"
      ],
      "execution_count": 36,
      "outputs": []
    },
    {
      "cell_type": "code",
      "metadata": {
        "colab": {
          "base_uri": "https://localhost:8080/"
        },
        "id": "xlzwNXAZ68uS",
        "outputId": "2c6ac190-7612-4b88-afc0-0c46afc7de3a"
      },
      "source": [
        "m2d"
      ],
      "execution_count": 37,
      "outputs": [
        {
          "output_type": "execute_result",
          "data": {
            "text/plain": [
              "array([[ 1,  2,  3],\n",
              "       [88, 99, 88],\n",
              "       [88, 99, 88]])"
            ]
          },
          "metadata": {
            "tags": []
          },
          "execution_count": 37
        }
      ]
    },
    {
      "cell_type": "code",
      "metadata": {
        "colab": {
          "base_uri": "https://localhost:8080/",
          "height": 35
        },
        "id": "E5kkJ9A969vd",
        "outputId": "8e564d20-59bf-4ba7-9f9a-a9495147b220"
      },
      "source": [
        "'''bool = array[:, column_for_comparison] == value_for_comparison\r\n",
        "array[bool, column_for_assignment] = new_value'''"
      ],
      "execution_count": 38,
      "outputs": [
        {
          "output_type": "execute_result",
          "data": {
            "application/vnd.google.colaboratory.intrinsic+json": {
              "type": "string"
            },
            "text/plain": [
              "'bool = array[:, column_for_comparison] == value_for_comparison\\narray[bool, column_for_assignment] = new_value'"
            ]
          },
          "metadata": {
            "tags": []
          },
          "execution_count": 38
        }
      ]
    },
    {
      "cell_type": "code",
      "metadata": {
        "colab": {
          "base_uri": "https://localhost:8080/"
        },
        "id": "5b-1edgr7aoS",
        "outputId": "547d47ad-fccf-493c-e883-bce6c4d960bc"
      },
      "source": [
        "np.zeros((3,4))  #input should be tuple"
      ],
      "execution_count": 39,
      "outputs": [
        {
          "output_type": "execute_result",
          "data": {
            "text/plain": [
              "array([[0., 0., 0., 0.],\n",
              "       [0., 0., 0., 0.],\n",
              "       [0., 0., 0., 0.]])"
            ]
          },
          "metadata": {
            "tags": []
          },
          "execution_count": 39
        }
      ]
    },
    {
      "cell_type": "code",
      "metadata": {
        "colab": {
          "base_uri": "https://localhost:8080/"
        },
        "id": "_CgOImFl8gjc",
        "outputId": "83109186-9627-409f-ec56-9fb1f4f2c70e"
      },
      "source": [
        "zeros = np.zeros([taxi.shape[0], 1])\r\n",
        "taxi_modified = np.concatenate([taxi, zeros], axis=1)\r\n",
        "print(taxi_modified)\r\n",
        " \r\n",
        "#here last column is with value 0 and if column index 5 has value with given \r\n",
        "#condition is 1 to last column otherswise zero\r\n",
        "taxi_modified[taxi_modified[:,5]==2, 15]=1  \r\n",
        "taxi_modified[taxi_modified[:,5]==3, 15]=1\r\n",
        "taxi_modified[taxi_modified[:,5]==5, 15]=1"
      ],
      "execution_count": 40,
      "outputs": [
        {
          "output_type": "stream",
          "text": [
            "[[2.016e+03 1.000e+00 1.000e+00 ... 6.999e+01 1.000e+00 0.000e+00]\n",
            " [2.016e+03 1.000e+00 1.000e+00 ... 5.430e+01 1.000e+00 0.000e+00]\n",
            " [2.016e+03 1.000e+00 1.000e+00 ... 3.780e+01 2.000e+00 0.000e+00]\n",
            " ...\n",
            " [2.016e+03 6.000e+00 3.000e+01 ... 6.334e+01 1.000e+00 0.000e+00]\n",
            " [2.016e+03 6.000e+00 3.000e+01 ... 4.475e+01 1.000e+00 0.000e+00]\n",
            " [2.016e+03 6.000e+00 3.000e+01 ... 5.484e+01 2.000e+00 0.000e+00]]\n"
          ],
          "name": "stdout"
        }
      ]
    },
    {
      "cell_type": "markdown",
      "metadata": {
        "id": "c6igNvc1AP0v"
      },
      "source": [
        "Highest dropoff_location"
      ]
    },
    {
      "cell_type": "code",
      "metadata": {
        "colab": {
          "base_uri": "https://localhost:8080/"
        },
        "id": "G0dWxrXR-XOM",
        "outputId": "f16fc08f-3632-46cb-ed57-726c88d1bd47"
      },
      "source": [
        "jfk= taxi[taxi[:,6]==2, 2]\r\n",
        "jfk_count=jfk.shape[0]\r\n",
        "jfk_count\r\n",
        "\r\n",
        "\r\n",
        "\r\n"
      ],
      "execution_count": 41,
      "outputs": [
        {
          "output_type": "execute_result",
          "data": {
            "text/plain": [
              "285"
            ]
          },
          "metadata": {
            "tags": []
          },
          "execution_count": 41
        }
      ]
    },
    {
      "cell_type": "code",
      "metadata": {
        "colab": {
          "base_uri": "https://localhost:8080/"
        },
        "id": "oQ1HjI1YAXM1",
        "outputId": "b9c6db20-4723-42de-bf66-3493b396d546"
      },
      "source": [
        "newark= taxi[taxi[:,6]==5, 2]\r\n",
        "newark_count=newark.shape[0]\r\n",
        "newark_count"
      ],
      "execution_count": 42,
      "outputs": [
        {
          "output_type": "execute_result",
          "data": {
            "text/plain": [
              "2"
            ]
          },
          "metadata": {
            "tags": []
          },
          "execution_count": 42
        }
      ]
    },
    {
      "cell_type": "code",
      "metadata": {
        "colab": {
          "base_uri": "https://localhost:8080/"
        },
        "id": "S1INUSF_AgVd",
        "outputId": "d2b4806d-6f86-468e-dc24-3c948963fc53"
      },
      "source": [
        "laguardia= taxi[taxi[:,6]==3, 2]\r\n",
        "laguardia_count=laguardia.shape[0]\r\n",
        "laguardia_count"
      ],
      "execution_count": 43,
      "outputs": [
        {
          "output_type": "execute_result",
          "data": {
            "text/plain": [
              "308"
            ]
          },
          "metadata": {
            "tags": []
          },
          "execution_count": 43
        }
      ]
    },
    {
      "cell_type": "markdown",
      "metadata": {
        "id": "b2mpqDl-TrHI"
      },
      "source": [
        "LEARN ABOUT PANDAS HERE I AM GOING TO WORK WITH DIFFERENT DATASET\r\n"
      ]
    },
    {
      "cell_type": "code",
      "metadata": {
        "id": "DdLc4MgZAjcU",
        "colab": {
          "base_uri": "https://localhost:8080/",
          "height": 391
        },
        "outputId": "c8597d7a-d233-4f57-aec8-6fb32001ce35"
      },
      "source": [
        "import pandas as pd\r\n",
        "url='/content/f500.csv'\r\n",
        "f500= pd.read_csv(url, index_col=0)\r\n",
        "f500.head()"
      ],
      "execution_count": 44,
      "outputs": [
        {
          "output_type": "execute_result",
          "data": {
            "text/html": [
              "<div>\n",
              "<style scoped>\n",
              "    .dataframe tbody tr th:only-of-type {\n",
              "        vertical-align: middle;\n",
              "    }\n",
              "\n",
              "    .dataframe tbody tr th {\n",
              "        vertical-align: top;\n",
              "    }\n",
              "\n",
              "    .dataframe thead th {\n",
              "        text-align: right;\n",
              "    }\n",
              "</style>\n",
              "<table border=\"1\" class=\"dataframe\">\n",
              "  <thead>\n",
              "    <tr style=\"text-align: right;\">\n",
              "      <th></th>\n",
              "      <th>rank</th>\n",
              "      <th>revenues</th>\n",
              "      <th>revenue_change</th>\n",
              "      <th>profits</th>\n",
              "      <th>assets</th>\n",
              "      <th>profit_change</th>\n",
              "      <th>ceo</th>\n",
              "      <th>industry</th>\n",
              "      <th>sector</th>\n",
              "      <th>previous_rank</th>\n",
              "      <th>country</th>\n",
              "      <th>hq_location</th>\n",
              "      <th>website</th>\n",
              "      <th>years_on_global_500_list</th>\n",
              "      <th>employees</th>\n",
              "      <th>total_stockholder_equity</th>\n",
              "    </tr>\n",
              "    <tr>\n",
              "      <th>company</th>\n",
              "      <th></th>\n",
              "      <th></th>\n",
              "      <th></th>\n",
              "      <th></th>\n",
              "      <th></th>\n",
              "      <th></th>\n",
              "      <th></th>\n",
              "      <th></th>\n",
              "      <th></th>\n",
              "      <th></th>\n",
              "      <th></th>\n",
              "      <th></th>\n",
              "      <th></th>\n",
              "      <th></th>\n",
              "      <th></th>\n",
              "      <th></th>\n",
              "    </tr>\n",
              "  </thead>\n",
              "  <tbody>\n",
              "    <tr>\n",
              "      <th>Walmart</th>\n",
              "      <td>1</td>\n",
              "      <td>485873</td>\n",
              "      <td>0.8</td>\n",
              "      <td>13643.0</td>\n",
              "      <td>198825</td>\n",
              "      <td>-7.2</td>\n",
              "      <td>C. Douglas McMillon</td>\n",
              "      <td>General Merchandisers</td>\n",
              "      <td>Retailing</td>\n",
              "      <td>1</td>\n",
              "      <td>USA</td>\n",
              "      <td>Bentonville, AR</td>\n",
              "      <td>http://www.walmart.com</td>\n",
              "      <td>23</td>\n",
              "      <td>2300000</td>\n",
              "      <td>77798</td>\n",
              "    </tr>\n",
              "    <tr>\n",
              "      <th>State Grid</th>\n",
              "      <td>2</td>\n",
              "      <td>315199</td>\n",
              "      <td>-4.4</td>\n",
              "      <td>9571.3</td>\n",
              "      <td>489838</td>\n",
              "      <td>-6.2</td>\n",
              "      <td>Kou Wei</td>\n",
              "      <td>Utilities</td>\n",
              "      <td>Energy</td>\n",
              "      <td>2</td>\n",
              "      <td>China</td>\n",
              "      <td>Beijing, China</td>\n",
              "      <td>http://www.sgcc.com.cn</td>\n",
              "      <td>17</td>\n",
              "      <td>926067</td>\n",
              "      <td>209456</td>\n",
              "    </tr>\n",
              "    <tr>\n",
              "      <th>Sinopec Group</th>\n",
              "      <td>3</td>\n",
              "      <td>267518</td>\n",
              "      <td>-9.1</td>\n",
              "      <td>1257.9</td>\n",
              "      <td>310726</td>\n",
              "      <td>-65.0</td>\n",
              "      <td>Wang Yupu</td>\n",
              "      <td>Petroleum Refining</td>\n",
              "      <td>Energy</td>\n",
              "      <td>4</td>\n",
              "      <td>China</td>\n",
              "      <td>Beijing, China</td>\n",
              "      <td>http://www.sinopec.com</td>\n",
              "      <td>19</td>\n",
              "      <td>713288</td>\n",
              "      <td>106523</td>\n",
              "    </tr>\n",
              "    <tr>\n",
              "      <th>China National Petroleum</th>\n",
              "      <td>4</td>\n",
              "      <td>262573</td>\n",
              "      <td>-12.3</td>\n",
              "      <td>1867.5</td>\n",
              "      <td>585619</td>\n",
              "      <td>-73.7</td>\n",
              "      <td>Zhang Jianhua</td>\n",
              "      <td>Petroleum Refining</td>\n",
              "      <td>Energy</td>\n",
              "      <td>3</td>\n",
              "      <td>China</td>\n",
              "      <td>Beijing, China</td>\n",
              "      <td>http://www.cnpc.com.cn</td>\n",
              "      <td>17</td>\n",
              "      <td>1512048</td>\n",
              "      <td>301893</td>\n",
              "    </tr>\n",
              "    <tr>\n",
              "      <th>Toyota Motor</th>\n",
              "      <td>5</td>\n",
              "      <td>254694</td>\n",
              "      <td>7.7</td>\n",
              "      <td>16899.3</td>\n",
              "      <td>437575</td>\n",
              "      <td>-12.3</td>\n",
              "      <td>Akio Toyoda</td>\n",
              "      <td>Motor Vehicles and Parts</td>\n",
              "      <td>Motor Vehicles &amp; Parts</td>\n",
              "      <td>8</td>\n",
              "      <td>Japan</td>\n",
              "      <td>Toyota, Japan</td>\n",
              "      <td>http://www.toyota-global.com</td>\n",
              "      <td>23</td>\n",
              "      <td>364445</td>\n",
              "      <td>157210</td>\n",
              "    </tr>\n",
              "  </tbody>\n",
              "</table>\n",
              "</div>"
            ],
            "text/plain": [
              "                          rank  revenues  ...  employees  total_stockholder_equity\n",
              "company                                   ...                                     \n",
              "Walmart                      1    485873  ...    2300000                     77798\n",
              "State Grid                   2    315199  ...     926067                    209456\n",
              "Sinopec Group                3    267518  ...     713288                    106523\n",
              "China National Petroleum     4    262573  ...    1512048                    301893\n",
              "Toyota Motor                 5    254694  ...     364445                    157210\n",
              "\n",
              "[5 rows x 16 columns]"
            ]
          },
          "metadata": {
            "tags": []
          },
          "execution_count": 44
        }
      ]
    },
    {
      "cell_type": "markdown",
      "metadata": {
        "id": "sNU0Aia1XXz7"
      },
      "source": [
        "To remove index header we can use"
      ]
    },
    {
      "cell_type": "code",
      "metadata": {
        "id": "ZzqxVK-8XczX"
      },
      "source": [
        "f500.index.name= None"
      ],
      "execution_count": 45,
      "outputs": []
    },
    {
      "cell_type": "code",
      "metadata": {
        "colab": {
          "base_uri": "https://localhost:8080/"
        },
        "id": "plrW_PT8WCiN",
        "outputId": "1bd6b10d-ee05-4960-eb31-7fabdba71acb"
      },
      "source": [
        "f500.shape"
      ],
      "execution_count": 46,
      "outputs": [
        {
          "output_type": "execute_result",
          "data": {
            "text/plain": [
              "(500, 16)"
            ]
          },
          "metadata": {
            "tags": []
          },
          "execution_count": 46
        }
      ]
    },
    {
      "cell_type": "code",
      "metadata": {
        "colab": {
          "base_uri": "https://localhost:8080/"
        },
        "id": "3hvhKYDxWgWy",
        "outputId": "dda53b19-429a-4d14-e5ce-5d32e3f1bc8d"
      },
      "source": [
        "type(f500)"
      ],
      "execution_count": 47,
      "outputs": [
        {
          "output_type": "execute_result",
          "data": {
            "text/plain": [
              "pandas.core.frame.DataFrame"
            ]
          },
          "metadata": {
            "tags": []
          },
          "execution_count": 47
        }
      ]
    },
    {
      "cell_type": "code",
      "metadata": {
        "colab": {
          "base_uri": "https://localhost:8080/",
          "height": 360
        },
        "id": "AgdBGjMPXFxW",
        "outputId": "d95d06a7-bbd2-4505-c7cb-e30aa3610f1a"
      },
      "source": [
        "f500.head()"
      ],
      "execution_count": 48,
      "outputs": [
        {
          "output_type": "execute_result",
          "data": {
            "text/html": [
              "<div>\n",
              "<style scoped>\n",
              "    .dataframe tbody tr th:only-of-type {\n",
              "        vertical-align: middle;\n",
              "    }\n",
              "\n",
              "    .dataframe tbody tr th {\n",
              "        vertical-align: top;\n",
              "    }\n",
              "\n",
              "    .dataframe thead th {\n",
              "        text-align: right;\n",
              "    }\n",
              "</style>\n",
              "<table border=\"1\" class=\"dataframe\">\n",
              "  <thead>\n",
              "    <tr style=\"text-align: right;\">\n",
              "      <th></th>\n",
              "      <th>rank</th>\n",
              "      <th>revenues</th>\n",
              "      <th>revenue_change</th>\n",
              "      <th>profits</th>\n",
              "      <th>assets</th>\n",
              "      <th>profit_change</th>\n",
              "      <th>ceo</th>\n",
              "      <th>industry</th>\n",
              "      <th>sector</th>\n",
              "      <th>previous_rank</th>\n",
              "      <th>country</th>\n",
              "      <th>hq_location</th>\n",
              "      <th>website</th>\n",
              "      <th>years_on_global_500_list</th>\n",
              "      <th>employees</th>\n",
              "      <th>total_stockholder_equity</th>\n",
              "    </tr>\n",
              "  </thead>\n",
              "  <tbody>\n",
              "    <tr>\n",
              "      <th>Walmart</th>\n",
              "      <td>1</td>\n",
              "      <td>485873</td>\n",
              "      <td>0.8</td>\n",
              "      <td>13643.0</td>\n",
              "      <td>198825</td>\n",
              "      <td>-7.2</td>\n",
              "      <td>C. Douglas McMillon</td>\n",
              "      <td>General Merchandisers</td>\n",
              "      <td>Retailing</td>\n",
              "      <td>1</td>\n",
              "      <td>USA</td>\n",
              "      <td>Bentonville, AR</td>\n",
              "      <td>http://www.walmart.com</td>\n",
              "      <td>23</td>\n",
              "      <td>2300000</td>\n",
              "      <td>77798</td>\n",
              "    </tr>\n",
              "    <tr>\n",
              "      <th>State Grid</th>\n",
              "      <td>2</td>\n",
              "      <td>315199</td>\n",
              "      <td>-4.4</td>\n",
              "      <td>9571.3</td>\n",
              "      <td>489838</td>\n",
              "      <td>-6.2</td>\n",
              "      <td>Kou Wei</td>\n",
              "      <td>Utilities</td>\n",
              "      <td>Energy</td>\n",
              "      <td>2</td>\n",
              "      <td>China</td>\n",
              "      <td>Beijing, China</td>\n",
              "      <td>http://www.sgcc.com.cn</td>\n",
              "      <td>17</td>\n",
              "      <td>926067</td>\n",
              "      <td>209456</td>\n",
              "    </tr>\n",
              "    <tr>\n",
              "      <th>Sinopec Group</th>\n",
              "      <td>3</td>\n",
              "      <td>267518</td>\n",
              "      <td>-9.1</td>\n",
              "      <td>1257.9</td>\n",
              "      <td>310726</td>\n",
              "      <td>-65.0</td>\n",
              "      <td>Wang Yupu</td>\n",
              "      <td>Petroleum Refining</td>\n",
              "      <td>Energy</td>\n",
              "      <td>4</td>\n",
              "      <td>China</td>\n",
              "      <td>Beijing, China</td>\n",
              "      <td>http://www.sinopec.com</td>\n",
              "      <td>19</td>\n",
              "      <td>713288</td>\n",
              "      <td>106523</td>\n",
              "    </tr>\n",
              "    <tr>\n",
              "      <th>China National Petroleum</th>\n",
              "      <td>4</td>\n",
              "      <td>262573</td>\n",
              "      <td>-12.3</td>\n",
              "      <td>1867.5</td>\n",
              "      <td>585619</td>\n",
              "      <td>-73.7</td>\n",
              "      <td>Zhang Jianhua</td>\n",
              "      <td>Petroleum Refining</td>\n",
              "      <td>Energy</td>\n",
              "      <td>3</td>\n",
              "      <td>China</td>\n",
              "      <td>Beijing, China</td>\n",
              "      <td>http://www.cnpc.com.cn</td>\n",
              "      <td>17</td>\n",
              "      <td>1512048</td>\n",
              "      <td>301893</td>\n",
              "    </tr>\n",
              "    <tr>\n",
              "      <th>Toyota Motor</th>\n",
              "      <td>5</td>\n",
              "      <td>254694</td>\n",
              "      <td>7.7</td>\n",
              "      <td>16899.3</td>\n",
              "      <td>437575</td>\n",
              "      <td>-12.3</td>\n",
              "      <td>Akio Toyoda</td>\n",
              "      <td>Motor Vehicles and Parts</td>\n",
              "      <td>Motor Vehicles &amp; Parts</td>\n",
              "      <td>8</td>\n",
              "      <td>Japan</td>\n",
              "      <td>Toyota, Japan</td>\n",
              "      <td>http://www.toyota-global.com</td>\n",
              "      <td>23</td>\n",
              "      <td>364445</td>\n",
              "      <td>157210</td>\n",
              "    </tr>\n",
              "  </tbody>\n",
              "</table>\n",
              "</div>"
            ],
            "text/plain": [
              "                          rank  revenues  ...  employees  total_stockholder_equity\n",
              "Walmart                      1    485873  ...    2300000                     77798\n",
              "State Grid                   2    315199  ...     926067                    209456\n",
              "Sinopec Group                3    267518  ...     713288                    106523\n",
              "China National Petroleum     4    262573  ...    1512048                    301893\n",
              "Toyota Motor                 5    254694  ...     364445                    157210\n",
              "\n",
              "[5 rows x 16 columns]"
            ]
          },
          "metadata": {
            "tags": []
          },
          "execution_count": 48
        }
      ]
    },
    {
      "cell_type": "code",
      "metadata": {
        "colab": {
          "base_uri": "https://localhost:8080/"
        },
        "id": "QgtsLqWKXJv5",
        "outputId": "94b52ec5-00ce-406d-9b9e-288e593ee3c1"
      },
      "source": [
        "f500.info()"
      ],
      "execution_count": 49,
      "outputs": [
        {
          "output_type": "stream",
          "text": [
            "<class 'pandas.core.frame.DataFrame'>\n",
            "Index: 500 entries, Walmart to AutoNation\n",
            "Data columns (total 16 columns):\n",
            " #   Column                    Non-Null Count  Dtype  \n",
            "---  ------                    --------------  -----  \n",
            " 0   rank                      500 non-null    int64  \n",
            " 1   revenues                  500 non-null    int64  \n",
            " 2   revenue_change            498 non-null    float64\n",
            " 3   profits                   499 non-null    float64\n",
            " 4   assets                    500 non-null    int64  \n",
            " 5   profit_change             436 non-null    float64\n",
            " 6   ceo                       500 non-null    object \n",
            " 7   industry                  500 non-null    object \n",
            " 8   sector                    500 non-null    object \n",
            " 9   previous_rank             500 non-null    int64  \n",
            " 10  country                   500 non-null    object \n",
            " 11  hq_location               500 non-null    object \n",
            " 12  website                   500 non-null    object \n",
            " 13  years_on_global_500_list  500 non-null    int64  \n",
            " 14  employees                 500 non-null    int64  \n",
            " 15  total_stockholder_equity  500 non-null    int64  \n",
            "dtypes: float64(3), int64(7), object(6)\n",
            "memory usage: 66.4+ KB\n"
          ],
          "name": "stdout"
        }
      ]
    },
    {
      "cell_type": "markdown",
      "metadata": {
        "id": "LoZ9PCzZZ_nA"
      },
      "source": [
        "Two ways to select specific columns"
      ]
    },
    {
      "cell_type": "code",
      "metadata": {
        "colab": {
          "base_uri": "https://localhost:8080/"
        },
        "id": "Noa6zN3HXSWH",
        "outputId": "ef5f0b55-d3f1-4fe2-c2a1-1c75aa41bab3"
      },
      "source": [
        "industries= f500.loc[:, 'industry']\r\n",
        "industries.head()"
      ],
      "execution_count": 50,
      "outputs": [
        {
          "output_type": "execute_result",
          "data": {
            "text/plain": [
              "Walmart                        General Merchandisers\n",
              "State Grid                                 Utilities\n",
              "Sinopec Group                     Petroleum Refining\n",
              "China National Petroleum          Petroleum Refining\n",
              "Toyota Motor                Motor Vehicles and Parts\n",
              "Name: industry, dtype: object"
            ]
          },
          "metadata": {
            "tags": []
          },
          "execution_count": 50
        }
      ]
    },
    {
      "cell_type": "code",
      "metadata": {
        "colab": {
          "base_uri": "https://localhost:8080/"
        },
        "id": "LofbDaQZaLPa",
        "outputId": "b5313796-647e-46ae-9366-f45e4f364fa9"
      },
      "source": [
        "industries_type= type(industries)\r\n",
        "industries_type"
      ],
      "execution_count": 51,
      "outputs": [
        {
          "output_type": "execute_result",
          "data": {
            "text/plain": [
              "pandas.core.series.Series"
            ]
          },
          "metadata": {
            "tags": []
          },
          "execution_count": 51
        }
      ]
    },
    {
      "cell_type": "code",
      "metadata": {
        "colab": {
          "base_uri": "https://localhost:8080/"
        },
        "id": "gSZUf1DpaPJ8",
        "outputId": "431478db-38d7-442c-e64e-f29523ad77bd"
      },
      "source": [
        "industries= f500['industry']\r\n",
        "industries"
      ],
      "execution_count": 52,
      "outputs": [
        {
          "output_type": "execute_result",
          "data": {
            "text/plain": [
              "Walmart                                     General Merchandisers\n",
              "State Grid                                              Utilities\n",
              "Sinopec Group                                  Petroleum Refining\n",
              "China National Petroleum                       Petroleum Refining\n",
              "Toyota Motor                             Motor Vehicles and Parts\n",
              "                                               ...               \n",
              "Teva Pharmaceutical Industries                    Pharmaceuticals\n",
              "New China Life Insurance          Insurance: Life, Health (stock)\n",
              "Wm. Morrison Supermarkets                    Food and Drug Stores\n",
              "TUI                                               Travel Services\n",
              "AutoNation                                    Specialty Retailers\n",
              "Name: industry, Length: 500, dtype: object"
            ]
          },
          "metadata": {
            "tags": []
          },
          "execution_count": 52
        }
      ]
    },
    {
      "cell_type": "code",
      "metadata": {
        "colab": {
          "base_uri": "https://localhost:8080/",
          "height": 204
        },
        "id": "sTgElxXXaaWe",
        "outputId": "760c4aae-0304-4022-c5e5-2e681a13729e"
      },
      "source": [
        "revenues_years= f500[['revenues', 'years_on_global_500_list']]\r\n",
        "revenues_years.head()"
      ],
      "execution_count": 53,
      "outputs": [
        {
          "output_type": "execute_result",
          "data": {
            "text/html": [
              "<div>\n",
              "<style scoped>\n",
              "    .dataframe tbody tr th:only-of-type {\n",
              "        vertical-align: middle;\n",
              "    }\n",
              "\n",
              "    .dataframe tbody tr th {\n",
              "        vertical-align: top;\n",
              "    }\n",
              "\n",
              "    .dataframe thead th {\n",
              "        text-align: right;\n",
              "    }\n",
              "</style>\n",
              "<table border=\"1\" class=\"dataframe\">\n",
              "  <thead>\n",
              "    <tr style=\"text-align: right;\">\n",
              "      <th></th>\n",
              "      <th>revenues</th>\n",
              "      <th>years_on_global_500_list</th>\n",
              "    </tr>\n",
              "  </thead>\n",
              "  <tbody>\n",
              "    <tr>\n",
              "      <th>Walmart</th>\n",
              "      <td>485873</td>\n",
              "      <td>23</td>\n",
              "    </tr>\n",
              "    <tr>\n",
              "      <th>State Grid</th>\n",
              "      <td>315199</td>\n",
              "      <td>17</td>\n",
              "    </tr>\n",
              "    <tr>\n",
              "      <th>Sinopec Group</th>\n",
              "      <td>267518</td>\n",
              "      <td>19</td>\n",
              "    </tr>\n",
              "    <tr>\n",
              "      <th>China National Petroleum</th>\n",
              "      <td>262573</td>\n",
              "      <td>17</td>\n",
              "    </tr>\n",
              "    <tr>\n",
              "      <th>Toyota Motor</th>\n",
              "      <td>254694</td>\n",
              "      <td>23</td>\n",
              "    </tr>\n",
              "  </tbody>\n",
              "</table>\n",
              "</div>"
            ],
            "text/plain": [
              "                          revenues  years_on_global_500_list\n",
              "Walmart                     485873                        23\n",
              "State Grid                  315199                        17\n",
              "Sinopec Group               267518                        19\n",
              "China National Petroleum    262573                        17\n",
              "Toyota Motor                254694                        23"
            ]
          },
          "metadata": {
            "tags": []
          },
          "execution_count": 53
        }
      ]
    },
    {
      "cell_type": "code",
      "metadata": {
        "colab": {
          "base_uri": "https://localhost:8080/",
          "height": 204
        },
        "id": "AHSfmcmabnOH",
        "outputId": "3c0a38e4-2577-408a-9dba-5dd0547c2885"
      },
      "source": [
        "ceo_to_sector= f500.loc[:,'ceo':'sector']\r\n",
        "ceo_to_sector.head()"
      ],
      "execution_count": 54,
      "outputs": [
        {
          "output_type": "execute_result",
          "data": {
            "text/html": [
              "<div>\n",
              "<style scoped>\n",
              "    .dataframe tbody tr th:only-of-type {\n",
              "        vertical-align: middle;\n",
              "    }\n",
              "\n",
              "    .dataframe tbody tr th {\n",
              "        vertical-align: top;\n",
              "    }\n",
              "\n",
              "    .dataframe thead th {\n",
              "        text-align: right;\n",
              "    }\n",
              "</style>\n",
              "<table border=\"1\" class=\"dataframe\">\n",
              "  <thead>\n",
              "    <tr style=\"text-align: right;\">\n",
              "      <th></th>\n",
              "      <th>ceo</th>\n",
              "      <th>industry</th>\n",
              "      <th>sector</th>\n",
              "    </tr>\n",
              "  </thead>\n",
              "  <tbody>\n",
              "    <tr>\n",
              "      <th>Walmart</th>\n",
              "      <td>C. Douglas McMillon</td>\n",
              "      <td>General Merchandisers</td>\n",
              "      <td>Retailing</td>\n",
              "    </tr>\n",
              "    <tr>\n",
              "      <th>State Grid</th>\n",
              "      <td>Kou Wei</td>\n",
              "      <td>Utilities</td>\n",
              "      <td>Energy</td>\n",
              "    </tr>\n",
              "    <tr>\n",
              "      <th>Sinopec Group</th>\n",
              "      <td>Wang Yupu</td>\n",
              "      <td>Petroleum Refining</td>\n",
              "      <td>Energy</td>\n",
              "    </tr>\n",
              "    <tr>\n",
              "      <th>China National Petroleum</th>\n",
              "      <td>Zhang Jianhua</td>\n",
              "      <td>Petroleum Refining</td>\n",
              "      <td>Energy</td>\n",
              "    </tr>\n",
              "    <tr>\n",
              "      <th>Toyota Motor</th>\n",
              "      <td>Akio Toyoda</td>\n",
              "      <td>Motor Vehicles and Parts</td>\n",
              "      <td>Motor Vehicles &amp; Parts</td>\n",
              "    </tr>\n",
              "  </tbody>\n",
              "</table>\n",
              "</div>"
            ],
            "text/plain": [
              "                                          ceo  ...                  sector\n",
              "Walmart                   C. Douglas McMillon  ...               Retailing\n",
              "State Grid                            Kou Wei  ...                  Energy\n",
              "Sinopec Group                       Wang Yupu  ...                  Energy\n",
              "China National Petroleum        Zhang Jianhua  ...                  Energy\n",
              "Toyota Motor                      Akio Toyoda  ...  Motor Vehicles & Parts\n",
              "\n",
              "[5 rows x 3 columns]"
            ]
          },
          "metadata": {
            "tags": []
          },
          "execution_count": 54
        }
      ]
    },
    {
      "cell_type": "markdown",
      "metadata": {
        "id": "oLHdHLLTcWnT"
      },
      "source": [
        "SELECTING ROWS"
      ]
    },
    {
      "cell_type": "code",
      "metadata": {
        "colab": {
          "base_uri": "https://localhost:8080/"
        },
        "id": "_qS2mcM3bqeB",
        "outputId": "e3c08b4a-627a-4408-82f1-6a8c23ea432f"
      },
      "source": [
        "toyota= f500.loc['Toyota Motor']\r\n",
        "toyota"
      ],
      "execution_count": 55,
      "outputs": [
        {
          "output_type": "execute_result",
          "data": {
            "text/plain": [
              "rank                                                   5\n",
              "revenues                                          254694\n",
              "revenue_change                                       7.7\n",
              "profits                                          16899.3\n",
              "assets                                            437575\n",
              "profit_change                                      -12.3\n",
              "ceo                                          Akio Toyoda\n",
              "industry                        Motor Vehicles and Parts\n",
              "sector                            Motor Vehicles & Parts\n",
              "previous_rank                                          8\n",
              "country                                            Japan\n",
              "hq_location                                Toyota, Japan\n",
              "website                     http://www.toyota-global.com\n",
              "years_on_global_500_list                              23\n",
              "employees                                         364445\n",
              "total_stockholder_equity                          157210\n",
              "Name: Toyota Motor, dtype: object"
            ]
          },
          "metadata": {
            "tags": []
          },
          "execution_count": 55
        }
      ]
    },
    {
      "cell_type": "code",
      "metadata": {
        "colab": {
          "base_uri": "https://localhost:8080/"
        },
        "id": "NrYGtVwXcqUO",
        "outputId": "52af6b84-72d0-4fba-a570-52c02af5d5aa"
      },
      "source": [
        "type(toyota)"
      ],
      "execution_count": 56,
      "outputs": [
        {
          "output_type": "execute_result",
          "data": {
            "text/plain": [
              "pandas.core.series.Series"
            ]
          },
          "metadata": {
            "tags": []
          },
          "execution_count": 56
        }
      ]
    },
    {
      "cell_type": "code",
      "metadata": {
        "colab": {
          "base_uri": "https://localhost:8080/",
          "height": 281
        },
        "id": "WoveQofsc2P2",
        "outputId": "cff13028-34c5-41b3-f2a2-25e676673f7a"
      },
      "source": [
        " drink_companies= f500.loc[['Anheuser-Busch InBev', 'Coca-Cola', 'Heineken Holding']]\r\n",
        " drink_companies"
      ],
      "execution_count": 57,
      "outputs": [
        {
          "output_type": "execute_result",
          "data": {
            "text/html": [
              "<div>\n",
              "<style scoped>\n",
              "    .dataframe tbody tr th:only-of-type {\n",
              "        vertical-align: middle;\n",
              "    }\n",
              "\n",
              "    .dataframe tbody tr th {\n",
              "        vertical-align: top;\n",
              "    }\n",
              "\n",
              "    .dataframe thead th {\n",
              "        text-align: right;\n",
              "    }\n",
              "</style>\n",
              "<table border=\"1\" class=\"dataframe\">\n",
              "  <thead>\n",
              "    <tr style=\"text-align: right;\">\n",
              "      <th></th>\n",
              "      <th>rank</th>\n",
              "      <th>revenues</th>\n",
              "      <th>revenue_change</th>\n",
              "      <th>profits</th>\n",
              "      <th>assets</th>\n",
              "      <th>profit_change</th>\n",
              "      <th>ceo</th>\n",
              "      <th>industry</th>\n",
              "      <th>sector</th>\n",
              "      <th>previous_rank</th>\n",
              "      <th>country</th>\n",
              "      <th>hq_location</th>\n",
              "      <th>website</th>\n",
              "      <th>years_on_global_500_list</th>\n",
              "      <th>employees</th>\n",
              "      <th>total_stockholder_equity</th>\n",
              "    </tr>\n",
              "  </thead>\n",
              "  <tbody>\n",
              "    <tr>\n",
              "      <th>Anheuser-Busch InBev</th>\n",
              "      <td>206</td>\n",
              "      <td>45905</td>\n",
              "      <td>5.3</td>\n",
              "      <td>1241.0</td>\n",
              "      <td>258381</td>\n",
              "      <td>-85.0</td>\n",
              "      <td>Carlos Brito</td>\n",
              "      <td>Beverages</td>\n",
              "      <td>Food, Beverages &amp; Tobacco</td>\n",
              "      <td>211</td>\n",
              "      <td>Belgium</td>\n",
              "      <td>Leuven, Belgium</td>\n",
              "      <td>http://www.ab-inbev.com</td>\n",
              "      <td>12</td>\n",
              "      <td>206633</td>\n",
              "      <td>71339</td>\n",
              "    </tr>\n",
              "    <tr>\n",
              "      <th>Coca-Cola</th>\n",
              "      <td>235</td>\n",
              "      <td>41863</td>\n",
              "      <td>-5.5</td>\n",
              "      <td>6527.0</td>\n",
              "      <td>87270</td>\n",
              "      <td>-11.2</td>\n",
              "      <td>James B. Quincey</td>\n",
              "      <td>Beverages</td>\n",
              "      <td>Food, Beverages &amp; Tobacco</td>\n",
              "      <td>206</td>\n",
              "      <td>USA</td>\n",
              "      <td>Atlanta, GA</td>\n",
              "      <td>http://www.coca-colacompany.com</td>\n",
              "      <td>23</td>\n",
              "      <td>100300</td>\n",
              "      <td>23062</td>\n",
              "    </tr>\n",
              "    <tr>\n",
              "      <th>Heineken Holding</th>\n",
              "      <td>468</td>\n",
              "      <td>23044</td>\n",
              "      <td>-0.7</td>\n",
              "      <td>861.5</td>\n",
              "      <td>41469</td>\n",
              "      <td>-18.9</td>\n",
              "      <td>Jean-Francois van Boxmeer</td>\n",
              "      <td>Beverages</td>\n",
              "      <td>Food, Beverages &amp; Tobacco</td>\n",
              "      <td>459</td>\n",
              "      <td>Netherlands</td>\n",
              "      <td>Amsterdam, Netherlands</td>\n",
              "      <td>http://www.theheinekencompany.com</td>\n",
              "      <td>11</td>\n",
              "      <td>73525</td>\n",
              "      <td>6958</td>\n",
              "    </tr>\n",
              "  </tbody>\n",
              "</table>\n",
              "</div>"
            ],
            "text/plain": [
              "                      rank  revenues  ...  employees  total_stockholder_equity\n",
              "Anheuser-Busch InBev   206     45905  ...     206633                     71339\n",
              "Coca-Cola              235     41863  ...     100300                     23062\n",
              "Heineken Holding       468     23044  ...      73525                      6958\n",
              "\n",
              "[3 rows x 16 columns]"
            ]
          },
          "metadata": {
            "tags": []
          },
          "execution_count": 57
        }
      ]
    },
    {
      "cell_type": "code",
      "metadata": {
        "colab": {
          "base_uri": "https://localhost:8080/"
        },
        "id": "77BSSFAadWKo",
        "outputId": "a9237b20-632e-44a0-c2ec-22840d6307f4"
      },
      "source": [
        "type(drink_companies)"
      ],
      "execution_count": 58,
      "outputs": [
        {
          "output_type": "execute_result",
          "data": {
            "text/plain": [
              "pandas.core.frame.DataFrame"
            ]
          },
          "metadata": {
            "tags": []
          },
          "execution_count": 58
        }
      ]
    },
    {
      "cell_type": "code",
      "metadata": {
        "colab": {
          "base_uri": "https://localhost:8080/",
          "height": 289
        },
        "id": "C3oTvIYPddXn",
        "outputId": "1162039c-dd39-4cda-dc3f-c8cea6c231eb"
      },
      "source": [
        "middle_companies= f500.loc['Tata Motors': 'Nationwide', 'rank':'country']\r\n",
        "middle_companies.head()"
      ],
      "execution_count": 59,
      "outputs": [
        {
          "output_type": "execute_result",
          "data": {
            "text/html": [
              "<div>\n",
              "<style scoped>\n",
              "    .dataframe tbody tr th:only-of-type {\n",
              "        vertical-align: middle;\n",
              "    }\n",
              "\n",
              "    .dataframe tbody tr th {\n",
              "        vertical-align: top;\n",
              "    }\n",
              "\n",
              "    .dataframe thead th {\n",
              "        text-align: right;\n",
              "    }\n",
              "</style>\n",
              "<table border=\"1\" class=\"dataframe\">\n",
              "  <thead>\n",
              "    <tr style=\"text-align: right;\">\n",
              "      <th></th>\n",
              "      <th>rank</th>\n",
              "      <th>revenues</th>\n",
              "      <th>revenue_change</th>\n",
              "      <th>profits</th>\n",
              "      <th>assets</th>\n",
              "      <th>profit_change</th>\n",
              "      <th>ceo</th>\n",
              "      <th>industry</th>\n",
              "      <th>sector</th>\n",
              "      <th>previous_rank</th>\n",
              "      <th>country</th>\n",
              "    </tr>\n",
              "  </thead>\n",
              "  <tbody>\n",
              "    <tr>\n",
              "      <th>Tata Motors</th>\n",
              "      <td>247</td>\n",
              "      <td>40329</td>\n",
              "      <td>-4.2</td>\n",
              "      <td>1111.6</td>\n",
              "      <td>42162</td>\n",
              "      <td>-34.0</td>\n",
              "      <td>Guenter Butschek</td>\n",
              "      <td>Motor Vehicles and Parts</td>\n",
              "      <td>Motor Vehicles &amp; Parts</td>\n",
              "      <td>226</td>\n",
              "      <td>India</td>\n",
              "    </tr>\n",
              "    <tr>\n",
              "      <th>Aluminum Corp. of China</th>\n",
              "      <td>248</td>\n",
              "      <td>40278</td>\n",
              "      <td>6.0</td>\n",
              "      <td>-282.5</td>\n",
              "      <td>75089</td>\n",
              "      <td>NaN</td>\n",
              "      <td>Yu Dehui</td>\n",
              "      <td>Metals</td>\n",
              "      <td>Materials</td>\n",
              "      <td>262</td>\n",
              "      <td>China</td>\n",
              "    </tr>\n",
              "    <tr>\n",
              "      <th>Mitsui</th>\n",
              "      <td>249</td>\n",
              "      <td>40275</td>\n",
              "      <td>1.6</td>\n",
              "      <td>2825.3</td>\n",
              "      <td>103231</td>\n",
              "      <td>NaN</td>\n",
              "      <td>Tatsuo Yasunaga</td>\n",
              "      <td>Trading</td>\n",
              "      <td>Wholesalers</td>\n",
              "      <td>245</td>\n",
              "      <td>Japan</td>\n",
              "    </tr>\n",
              "    <tr>\n",
              "      <th>Manulife Financial</th>\n",
              "      <td>250</td>\n",
              "      <td>40238</td>\n",
              "      <td>49.4</td>\n",
              "      <td>2209.7</td>\n",
              "      <td>537461</td>\n",
              "      <td>28.9</td>\n",
              "      <td>Donald A. Guloien</td>\n",
              "      <td>Insurance: Life, Health (stock)</td>\n",
              "      <td>Financials</td>\n",
              "      <td>394</td>\n",
              "      <td>Canada</td>\n",
              "    </tr>\n",
              "    <tr>\n",
              "      <th>China Minsheng Banking</th>\n",
              "      <td>251</td>\n",
              "      <td>40234</td>\n",
              "      <td>-5.2</td>\n",
              "      <td>7201.6</td>\n",
              "      <td>848389</td>\n",
              "      <td>-1.8</td>\n",
              "      <td>Zheng Wanchun</td>\n",
              "      <td>Banks: Commercial and Savings</td>\n",
              "      <td>Financials</td>\n",
              "      <td>221</td>\n",
              "      <td>China</td>\n",
              "    </tr>\n",
              "  </tbody>\n",
              "</table>\n",
              "</div>"
            ],
            "text/plain": [
              "                         rank  revenues  ...  previous_rank  country\n",
              "Tata Motors               247     40329  ...            226    India\n",
              "Aluminum Corp. of China   248     40278  ...            262    China\n",
              "Mitsui                    249     40275  ...            245    Japan\n",
              "Manulife Financial        250     40238  ...            394   Canada\n",
              "China Minsheng Banking    251     40234  ...            221    China\n",
              "\n",
              "[5 rows x 11 columns]"
            ]
          },
          "metadata": {
            "tags": []
          },
          "execution_count": 59
        }
      ]
    },
    {
      "cell_type": "code",
      "metadata": {
        "id": "KWcSZEwXd9po",
        "colab": {
          "base_uri": "https://localhost:8080/"
        },
        "outputId": "10595dbb-c329-4419-8370-bfa746dffb51"
      },
      "source": [
        "countries_value= f500['country'].value_counts()\r\n",
        "countries_value\r\n",
        "\r\n"
      ],
      "execution_count": 60,
      "outputs": [
        {
          "output_type": "execute_result",
          "data": {
            "text/plain": [
              "USA             132\n",
              "China           109\n",
              "Japan            51\n",
              "France           29\n",
              "Germany          29\n",
              "Britain          24\n",
              "South Korea      15\n",
              "Netherlands      14\n",
              "Switzerland      14\n",
              "Canada           11\n",
              "Spain             9\n",
              "India             7\n",
              "Brazil            7\n",
              "Italy             7\n",
              "Australia         7\n",
              "Taiwan            6\n",
              "Ireland           4\n",
              "Russia            4\n",
              "Sweden            3\n",
              "Singapore         3\n",
              "Mexico            2\n",
              "Venezuela         1\n",
              "Finland           1\n",
              "Turkey            1\n",
              "Luxembourg        1\n",
              "Indonesia         1\n",
              "Belgium           1\n",
              "Denmark           1\n",
              "Saudi Arabia      1\n",
              "Malaysia          1\n",
              "Norway            1\n",
              "Thailand          1\n",
              "Israel            1\n",
              "U.A.E             1\n",
              "Name: country, dtype: int64"
            ]
          },
          "metadata": {
            "tags": []
          },
          "execution_count": 60
        }
      ]
    },
    {
      "cell_type": "code",
      "metadata": {
        "colab": {
          "base_uri": "https://localhost:8080/"
        },
        "id": "WPStxcymjR4o",
        "outputId": "663a6719-3cfd-4366-f036-ee6a6caa155a"
      },
      "source": [
        "countries_value['India']"
      ],
      "execution_count": 61,
      "outputs": [
        {
          "output_type": "execute_result",
          "data": {
            "text/plain": [
              "7"
            ]
          },
          "metadata": {
            "tags": []
          },
          "execution_count": 61
        }
      ]
    },
    {
      "cell_type": "code",
      "metadata": {
        "colab": {
          "base_uri": "https://localhost:8080/"
        },
        "id": "9Nw-C_QEjW-l",
        "outputId": "947fd671-5708-489b-fb36-cea2d35fbe3d"
      },
      "source": [
        "north_america= countries_value[['USA', 'Canada', 'Mexico']]\r\n",
        "north_america"
      ],
      "execution_count": 63,
      "outputs": [
        {
          "output_type": "execute_result",
          "data": {
            "text/plain": [
              "USA       132\n",
              "Canada     11\n",
              "Mexico      2\n",
              "Name: country, dtype: int64"
            ]
          },
          "metadata": {
            "tags": []
          },
          "execution_count": 63
        }
      ]
    },
    {
      "cell_type": "code",
      "metadata": {
        "colab": {
          "base_uri": "https://localhost:8080/",
          "height": 173
        },
        "id": "z_EK04byjzuT",
        "outputId": "c5c000cd-6ac2-412f-f00c-d4a3a15839dc"
      },
      "source": [
        "big_movers=f500.loc[['Aviva', 'HP','JD.com', 'BHP Billiton'],['rank', 'previous_rank']] \r\n",
        "big_movers"
      ],
      "execution_count": 64,
      "outputs": [
        {
          "output_type": "execute_result",
          "data": {
            "text/html": [
              "<div>\n",
              "<style scoped>\n",
              "    .dataframe tbody tr th:only-of-type {\n",
              "        vertical-align: middle;\n",
              "    }\n",
              "\n",
              "    .dataframe tbody tr th {\n",
              "        vertical-align: top;\n",
              "    }\n",
              "\n",
              "    .dataframe thead th {\n",
              "        text-align: right;\n",
              "    }\n",
              "</style>\n",
              "<table border=\"1\" class=\"dataframe\">\n",
              "  <thead>\n",
              "    <tr style=\"text-align: right;\">\n",
              "      <th></th>\n",
              "      <th>rank</th>\n",
              "      <th>previous_rank</th>\n",
              "    </tr>\n",
              "  </thead>\n",
              "  <tbody>\n",
              "    <tr>\n",
              "      <th>Aviva</th>\n",
              "      <td>90</td>\n",
              "      <td>279</td>\n",
              "    </tr>\n",
              "    <tr>\n",
              "      <th>HP</th>\n",
              "      <td>194</td>\n",
              "      <td>48</td>\n",
              "    </tr>\n",
              "    <tr>\n",
              "      <th>JD.com</th>\n",
              "      <td>261</td>\n",
              "      <td>366</td>\n",
              "    </tr>\n",
              "    <tr>\n",
              "      <th>BHP Billiton</th>\n",
              "      <td>350</td>\n",
              "      <td>168</td>\n",
              "    </tr>\n",
              "  </tbody>\n",
              "</table>\n",
              "</div>"
            ],
            "text/plain": [
              "              rank  previous_rank\n",
              "Aviva           90            279\n",
              "HP             194             48\n",
              "JD.com         261            366\n",
              "BHP Billiton   350            168"
            ]
          },
          "metadata": {
            "tags": []
          },
          "execution_count": 64
        }
      ]
    },
    {
      "cell_type": "code",
      "metadata": {
        "colab": {
          "base_uri": "https://localhost:8080/",
          "height": 359
        },
        "id": "yTf6QzxSkcH4",
        "outputId": "640ad55e-ac60-4543-afe6-11baf73d5c55"
      },
      "source": [
        "bottom_companies= f500.loc['National Grid':'AutoNation', ['rank', 'sector', 'country']]\r\n",
        "bottom_companies"
      ],
      "execution_count": 65,
      "outputs": [
        {
          "output_type": "execute_result",
          "data": {
            "text/html": [
              "<div>\n",
              "<style scoped>\n",
              "    .dataframe tbody tr th:only-of-type {\n",
              "        vertical-align: middle;\n",
              "    }\n",
              "\n",
              "    .dataframe tbody tr th {\n",
              "        vertical-align: top;\n",
              "    }\n",
              "\n",
              "    .dataframe thead th {\n",
              "        text-align: right;\n",
              "    }\n",
              "</style>\n",
              "<table border=\"1\" class=\"dataframe\">\n",
              "  <thead>\n",
              "    <tr style=\"text-align: right;\">\n",
              "      <th></th>\n",
              "      <th>rank</th>\n",
              "      <th>sector</th>\n",
              "      <th>country</th>\n",
              "    </tr>\n",
              "  </thead>\n",
              "  <tbody>\n",
              "    <tr>\n",
              "      <th>National Grid</th>\n",
              "      <td>491</td>\n",
              "      <td>Energy</td>\n",
              "      <td>Britain</td>\n",
              "    </tr>\n",
              "    <tr>\n",
              "      <th>Dollar General</th>\n",
              "      <td>492</td>\n",
              "      <td>Retailing</td>\n",
              "      <td>USA</td>\n",
              "    </tr>\n",
              "    <tr>\n",
              "      <th>Telecom Italia</th>\n",
              "      <td>493</td>\n",
              "      <td>Telecommunications</td>\n",
              "      <td>Italy</td>\n",
              "    </tr>\n",
              "    <tr>\n",
              "      <th>Xiamen ITG Holding Group</th>\n",
              "      <td>494</td>\n",
              "      <td>Wholesalers</td>\n",
              "      <td>China</td>\n",
              "    </tr>\n",
              "    <tr>\n",
              "      <th>Xinjiang Guanghui Industry Investment</th>\n",
              "      <td>495</td>\n",
              "      <td>Wholesalers</td>\n",
              "      <td>China</td>\n",
              "    </tr>\n",
              "    <tr>\n",
              "      <th>Teva Pharmaceutical Industries</th>\n",
              "      <td>496</td>\n",
              "      <td>Health Care</td>\n",
              "      <td>Israel</td>\n",
              "    </tr>\n",
              "    <tr>\n",
              "      <th>New China Life Insurance</th>\n",
              "      <td>497</td>\n",
              "      <td>Financials</td>\n",
              "      <td>China</td>\n",
              "    </tr>\n",
              "    <tr>\n",
              "      <th>Wm. Morrison Supermarkets</th>\n",
              "      <td>498</td>\n",
              "      <td>Food &amp; Drug Stores</td>\n",
              "      <td>Britain</td>\n",
              "    </tr>\n",
              "    <tr>\n",
              "      <th>TUI</th>\n",
              "      <td>499</td>\n",
              "      <td>Business Services</td>\n",
              "      <td>Germany</td>\n",
              "    </tr>\n",
              "    <tr>\n",
              "      <th>AutoNation</th>\n",
              "      <td>500</td>\n",
              "      <td>Retailing</td>\n",
              "      <td>USA</td>\n",
              "    </tr>\n",
              "  </tbody>\n",
              "</table>\n",
              "</div>"
            ],
            "text/plain": [
              "                                       rank              sector  country\n",
              "National Grid                           491              Energy  Britain\n",
              "Dollar General                          492           Retailing      USA\n",
              "Telecom Italia                          493  Telecommunications    Italy\n",
              "Xiamen ITG Holding Group                494         Wholesalers    China\n",
              "Xinjiang Guanghui Industry Investment   495         Wholesalers    China\n",
              "Teva Pharmaceutical Industries          496         Health Care   Israel\n",
              "New China Life Insurance                497          Financials    China\n",
              "Wm. Morrison Supermarkets               498  Food & Drug Stores  Britain\n",
              "TUI                                     499   Business Services  Germany\n",
              "AutoNation                              500           Retailing      USA"
            ]
          },
          "metadata": {
            "tags": []
          },
          "execution_count": 65
        }
      ]
    },
    {
      "cell_type": "code",
      "metadata": {
        "id": "lkbgRYUJk7Gr"
      },
      "source": [
        ""
      ],
      "execution_count": null,
      "outputs": []
    }
  ]
}