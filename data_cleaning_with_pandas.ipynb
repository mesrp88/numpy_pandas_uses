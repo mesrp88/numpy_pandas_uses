{
  "nbformat": 4,
  "nbformat_minor": 0,
  "metadata": {
    "colab": {
      "name": "data_cleaning_with_pandas.ipynb",
      "provenance": [],
      "authorship_tag": "ABX9TyNW0c2xCiWJ3XnY7Iqn/GAT",
      "include_colab_link": true
    },
    "kernelspec": {
      "name": "python3",
      "display_name": "Python 3"
    }
  },
  "cells": [
    {
      "cell_type": "markdown",
      "metadata": {
        "id": "view-in-github",
        "colab_type": "text"
      },
      "source": [
        "<a href=\"https://colab.research.google.com/github/mesrp88/numpy_pandas_uses/blob/main/data_cleaning_with_pandas.ipynb\" target=\"_parent\"><img src=\"https://colab.research.google.com/assets/colab-badge.svg\" alt=\"Open In Colab\"/></a>"
      ]
    },
    {
      "cell_type": "code",
      "metadata": {
        "id": "oNZeX-PALFue"
      },
      "source": [
        "import  pandas as pd\r\n",
        "import numpy as np"
      ],
      "execution_count": 37,
      "outputs": []
    },
    {
      "cell_type": "code",
      "metadata": {
        "colab": {
          "base_uri": "https://localhost:8080/",
          "height": 306
        },
        "id": "R6own1qaLPw1",
        "outputId": "1c0662c3-4817-4ed1-fa4f-aeab623ca717"
      },
      "source": [
        "url='/content/laptops.csv'\r\n",
        "laptops= pd.read_csv(url,encoding=\"Latin-1\")\r\n",
        "laptops.head()"
      ],
      "execution_count": 38,
      "outputs": [
        {
          "output_type": "execute_result",
          "data": {
            "text/html": [
              "<div>\n",
              "<style scoped>\n",
              "    .dataframe tbody tr th:only-of-type {\n",
              "        vertical-align: middle;\n",
              "    }\n",
              "\n",
              "    .dataframe tbody tr th {\n",
              "        vertical-align: top;\n",
              "    }\n",
              "\n",
              "    .dataframe thead th {\n",
              "        text-align: right;\n",
              "    }\n",
              "</style>\n",
              "<table border=\"1\" class=\"dataframe\">\n",
              "  <thead>\n",
              "    <tr style=\"text-align: right;\">\n",
              "      <th></th>\n",
              "      <th>Manufacturer</th>\n",
              "      <th>Model Name</th>\n",
              "      <th>Category</th>\n",
              "      <th>Screen Size</th>\n",
              "      <th>Screen</th>\n",
              "      <th>CPU</th>\n",
              "      <th>RAM</th>\n",
              "      <th>Storage</th>\n",
              "      <th>GPU</th>\n",
              "      <th>Operating System</th>\n",
              "      <th>Operating System Version</th>\n",
              "      <th>Weight</th>\n",
              "      <th>Price (Euros)</th>\n",
              "    </tr>\n",
              "  </thead>\n",
              "  <tbody>\n",
              "    <tr>\n",
              "      <th>0</th>\n",
              "      <td>Apple</td>\n",
              "      <td>MacBook Pro</td>\n",
              "      <td>Ultrabook</td>\n",
              "      <td>13.3\"</td>\n",
              "      <td>IPS Panel Retina Display 2560x1600</td>\n",
              "      <td>Intel Core i5 2.3GHz</td>\n",
              "      <td>8GB</td>\n",
              "      <td>128GB SSD</td>\n",
              "      <td>Intel Iris Plus Graphics 640</td>\n",
              "      <td>macOS</td>\n",
              "      <td>NaN</td>\n",
              "      <td>1.37kg</td>\n",
              "      <td>1339,69</td>\n",
              "    </tr>\n",
              "    <tr>\n",
              "      <th>1</th>\n",
              "      <td>Apple</td>\n",
              "      <td>Macbook Air</td>\n",
              "      <td>Ultrabook</td>\n",
              "      <td>13.3\"</td>\n",
              "      <td>1440x900</td>\n",
              "      <td>Intel Core i5 1.8GHz</td>\n",
              "      <td>8GB</td>\n",
              "      <td>128GB Flash Storage</td>\n",
              "      <td>Intel HD Graphics 6000</td>\n",
              "      <td>macOS</td>\n",
              "      <td>NaN</td>\n",
              "      <td>1.34kg</td>\n",
              "      <td>898,94</td>\n",
              "    </tr>\n",
              "    <tr>\n",
              "      <th>2</th>\n",
              "      <td>HP</td>\n",
              "      <td>250 G6</td>\n",
              "      <td>Notebook</td>\n",
              "      <td>15.6\"</td>\n",
              "      <td>Full HD 1920x1080</td>\n",
              "      <td>Intel Core i5 7200U 2.5GHz</td>\n",
              "      <td>8GB</td>\n",
              "      <td>256GB SSD</td>\n",
              "      <td>Intel HD Graphics 620</td>\n",
              "      <td>No OS</td>\n",
              "      <td>NaN</td>\n",
              "      <td>1.86kg</td>\n",
              "      <td>575,00</td>\n",
              "    </tr>\n",
              "    <tr>\n",
              "      <th>3</th>\n",
              "      <td>Apple</td>\n",
              "      <td>MacBook Pro</td>\n",
              "      <td>Ultrabook</td>\n",
              "      <td>15.4\"</td>\n",
              "      <td>IPS Panel Retina Display 2880x1800</td>\n",
              "      <td>Intel Core i7 2.7GHz</td>\n",
              "      <td>16GB</td>\n",
              "      <td>512GB SSD</td>\n",
              "      <td>AMD Radeon Pro 455</td>\n",
              "      <td>macOS</td>\n",
              "      <td>NaN</td>\n",
              "      <td>1.83kg</td>\n",
              "      <td>2537,45</td>\n",
              "    </tr>\n",
              "    <tr>\n",
              "      <th>4</th>\n",
              "      <td>Apple</td>\n",
              "      <td>MacBook Pro</td>\n",
              "      <td>Ultrabook</td>\n",
              "      <td>13.3\"</td>\n",
              "      <td>IPS Panel Retina Display 2560x1600</td>\n",
              "      <td>Intel Core i5 3.1GHz</td>\n",
              "      <td>8GB</td>\n",
              "      <td>256GB SSD</td>\n",
              "      <td>Intel Iris Plus Graphics 650</td>\n",
              "      <td>macOS</td>\n",
              "      <td>NaN</td>\n",
              "      <td>1.37kg</td>\n",
              "      <td>1803,60</td>\n",
              "    </tr>\n",
              "  </tbody>\n",
              "</table>\n",
              "</div>"
            ],
            "text/plain": [
              "  Manufacturer   Model Name  ...  Weight Price (Euros)\n",
              "0        Apple  MacBook Pro  ...  1.37kg       1339,69\n",
              "1        Apple  Macbook Air  ...  1.34kg        898,94\n",
              "2           HP       250 G6  ...  1.86kg        575,00\n",
              "3        Apple  MacBook Pro  ...  1.83kg       2537,45\n",
              "4        Apple  MacBook Pro  ...  1.37kg       1803,60\n",
              "\n",
              "[5 rows x 13 columns]"
            ]
          },
          "metadata": {
            "tags": []
          },
          "execution_count": 38
        }
      ]
    },
    {
      "cell_type": "code",
      "metadata": {
        "id": "9NaaKUA_LyWz",
        "colab": {
          "base_uri": "https://localhost:8080/"
        },
        "outputId": "b98e021e-58e6-46cf-fff1-c2a49a3f1306"
      },
      "source": [
        "laptops.info()"
      ],
      "execution_count": 39,
      "outputs": [
        {
          "output_type": "stream",
          "text": [
            "<class 'pandas.core.frame.DataFrame'>\n",
            "RangeIndex: 1303 entries, 0 to 1302\n",
            "Data columns (total 13 columns):\n",
            " #   Column                    Non-Null Count  Dtype \n",
            "---  ------                    --------------  ----- \n",
            " 0   Manufacturer              1303 non-null   object\n",
            " 1   Model Name                1303 non-null   object\n",
            " 2   Category                  1303 non-null   object\n",
            " 3   Screen Size               1303 non-null   object\n",
            " 4   Screen                    1303 non-null   object\n",
            " 5   CPU                       1303 non-null   object\n",
            " 6   RAM                       1303 non-null   object\n",
            " 7    Storage                  1303 non-null   object\n",
            " 8   GPU                       1303 non-null   object\n",
            " 9   Operating System          1303 non-null   object\n",
            " 10  Operating System Version  1133 non-null   object\n",
            " 11  Weight                    1303 non-null   object\n",
            " 12  Price (Euros)             1303 non-null   object\n",
            "dtypes: object(13)\n",
            "memory usage: 132.5+ KB\n"
          ],
          "name": "stdout"
        }
      ]
    },
    {
      "cell_type": "code",
      "metadata": {
        "colab": {
          "base_uri": "https://localhost:8080/"
        },
        "id": "A2nCCFjUjJ9M",
        "outputId": "fba291fe-4ccb-4df3-fb45-3e17aadbd2e7"
      },
      "source": [
        "laptops.columns  #all columns name"
      ],
      "execution_count": 40,
      "outputs": [
        {
          "output_type": "execute_result",
          "data": {
            "text/plain": [
              "Index(['Manufacturer', 'Model Name', 'Category', 'Screen Size', 'Screen',\n",
              "       'CPU', 'RAM', ' Storage', 'GPU', 'Operating System',\n",
              "       'Operating System Version', 'Weight', 'Price (Euros)'],\n",
              "      dtype='object')"
            ]
          },
          "metadata": {
            "tags": []
          },
          "execution_count": 40
        }
      ]
    },
    {
      "cell_type": "code",
      "metadata": {
        "colab": {
          "base_uri": "https://localhost:8080/"
        },
        "id": "Y9fG5_LLjyzg",
        "outputId": "11339223-8b6e-42f4-84b5-9392a38889b0"
      },
      "source": [
        "#removing whitespace at front and back\r\n",
        "new_columns=[]\r\n",
        "for column in laptops.columns:\r\n",
        "    column=column.strip()\r\n",
        "    new_columns.append(column)\r\n",
        "\r\n",
        "laptops.columns= new_columns\r\n",
        "laptops.columns\r\n",
        "\r\n"
      ],
      "execution_count": 41,
      "outputs": [
        {
          "output_type": "execute_result",
          "data": {
            "text/plain": [
              "Index(['Manufacturer', 'Model Name', 'Category', 'Screen Size', 'Screen',\n",
              "       'CPU', 'RAM', 'Storage', 'GPU', 'Operating System',\n",
              "       'Operating System Version', 'Weight', 'Price (Euros)'],\n",
              "      dtype='object')"
            ]
          },
          "metadata": {
            "tags": []
          },
          "execution_count": 41
        }
      ]
    },
    {
      "cell_type": "code",
      "metadata": {
        "colab": {
          "base_uri": "https://localhost:8080/"
        },
        "id": "gqgm2--Dtxdy",
        "outputId": "1fe55ef8-f531-4805-8180-18319cfbd488"
      },
      "source": [
        "import pandas as pd\r\n",
        "laptops = pd.read_csv('laptops.csv', encoding='Latin-1')\r\n",
        "\r\n",
        "new_columns=[]\r\n",
        "def clean_column(column):\r\n",
        "    column= column.strip()  #this will remove whitespace at beginning and end\r\n",
        "    column= column.replace('Operating System', 'os')\r\n",
        "    column= column.replace(' ', \"_\")\r\n",
        "    column= column.replace('(', '')\r\n",
        "    column= column.replace(')', '')\r\n",
        "    column= column.lower()\r\n",
        "    return column\r\n",
        "    \r\n",
        "\r\n",
        "for column in laptops.columns:\r\n",
        "    column= clean_column(column)\r\n",
        "    new_columns.append(column)\r\n",
        "    \r\n",
        "laptops.columns= new_columns\r\n",
        "list(laptops.columns)\r\n",
        "    "
      ],
      "execution_count": 42,
      "outputs": [
        {
          "output_type": "execute_result",
          "data": {
            "text/plain": [
              "['manufacturer',\n",
              " 'model_name',\n",
              " 'category',\n",
              " 'screen_size',\n",
              " 'screen',\n",
              " 'cpu',\n",
              " 'ram',\n",
              " 'storage',\n",
              " 'gpu',\n",
              " 'os',\n",
              " 'os_version',\n",
              " 'weight',\n",
              " 'price_euros']"
            ]
          },
          "metadata": {
            "tags": []
          },
          "execution_count": 42
        }
      ]
    },
    {
      "cell_type": "code",
      "metadata": {
        "colab": {
          "base_uri": "https://localhost:8080/"
        },
        "id": "-YCRusvo0gzD",
        "outputId": "ffbba793-cac9-4d4c-baf2-d16e1350abf2"
      },
      "source": [
        "laptops.info()"
      ],
      "execution_count": 43,
      "outputs": [
        {
          "output_type": "stream",
          "text": [
            "<class 'pandas.core.frame.DataFrame'>\n",
            "RangeIndex: 1303 entries, 0 to 1302\n",
            "Data columns (total 13 columns):\n",
            " #   Column        Non-Null Count  Dtype \n",
            "---  ------        --------------  ----- \n",
            " 0   manufacturer  1303 non-null   object\n",
            " 1   model_name    1303 non-null   object\n",
            " 2   category      1303 non-null   object\n",
            " 3   screen_size   1303 non-null   object\n",
            " 4   screen        1303 non-null   object\n",
            " 5   cpu           1303 non-null   object\n",
            " 6   ram           1303 non-null   object\n",
            " 7   storage       1303 non-null   object\n",
            " 8   gpu           1303 non-null   object\n",
            " 9   os            1303 non-null   object\n",
            " 10  os_version    1133 non-null   object\n",
            " 11  weight        1303 non-null   object\n",
            " 12  price_euros   1303 non-null   object\n",
            "dtypes: object(13)\n",
            "memory usage: 132.5+ KB\n"
          ],
          "name": "stdout"
        }
      ]
    },
    {
      "cell_type": "code",
      "metadata": {
        "colab": {
          "base_uri": "https://localhost:8080/",
          "height": 452
        },
        "id": "tzn-QLwE0q7D",
        "outputId": "3a43cad1-0df5-4183-d146-ba5bba339cdf"
      },
      "source": [
        "laptops.head(4).T\r\n"
      ],
      "execution_count": 44,
      "outputs": [
        {
          "output_type": "execute_result",
          "data": {
            "text/html": [
              "<div>\n",
              "<style scoped>\n",
              "    .dataframe tbody tr th:only-of-type {\n",
              "        vertical-align: middle;\n",
              "    }\n",
              "\n",
              "    .dataframe tbody tr th {\n",
              "        vertical-align: top;\n",
              "    }\n",
              "\n",
              "    .dataframe thead th {\n",
              "        text-align: right;\n",
              "    }\n",
              "</style>\n",
              "<table border=\"1\" class=\"dataframe\">\n",
              "  <thead>\n",
              "    <tr style=\"text-align: right;\">\n",
              "      <th></th>\n",
              "      <th>0</th>\n",
              "      <th>1</th>\n",
              "      <th>2</th>\n",
              "      <th>3</th>\n",
              "    </tr>\n",
              "  </thead>\n",
              "  <tbody>\n",
              "    <tr>\n",
              "      <th>manufacturer</th>\n",
              "      <td>Apple</td>\n",
              "      <td>Apple</td>\n",
              "      <td>HP</td>\n",
              "      <td>Apple</td>\n",
              "    </tr>\n",
              "    <tr>\n",
              "      <th>model_name</th>\n",
              "      <td>MacBook Pro</td>\n",
              "      <td>Macbook Air</td>\n",
              "      <td>250 G6</td>\n",
              "      <td>MacBook Pro</td>\n",
              "    </tr>\n",
              "    <tr>\n",
              "      <th>category</th>\n",
              "      <td>Ultrabook</td>\n",
              "      <td>Ultrabook</td>\n",
              "      <td>Notebook</td>\n",
              "      <td>Ultrabook</td>\n",
              "    </tr>\n",
              "    <tr>\n",
              "      <th>screen_size</th>\n",
              "      <td>13.3\"</td>\n",
              "      <td>13.3\"</td>\n",
              "      <td>15.6\"</td>\n",
              "      <td>15.4\"</td>\n",
              "    </tr>\n",
              "    <tr>\n",
              "      <th>screen</th>\n",
              "      <td>IPS Panel Retina Display 2560x1600</td>\n",
              "      <td>1440x900</td>\n",
              "      <td>Full HD 1920x1080</td>\n",
              "      <td>IPS Panel Retina Display 2880x1800</td>\n",
              "    </tr>\n",
              "    <tr>\n",
              "      <th>cpu</th>\n",
              "      <td>Intel Core i5 2.3GHz</td>\n",
              "      <td>Intel Core i5 1.8GHz</td>\n",
              "      <td>Intel Core i5 7200U 2.5GHz</td>\n",
              "      <td>Intel Core i7 2.7GHz</td>\n",
              "    </tr>\n",
              "    <tr>\n",
              "      <th>ram</th>\n",
              "      <td>8GB</td>\n",
              "      <td>8GB</td>\n",
              "      <td>8GB</td>\n",
              "      <td>16GB</td>\n",
              "    </tr>\n",
              "    <tr>\n",
              "      <th>storage</th>\n",
              "      <td>128GB SSD</td>\n",
              "      <td>128GB Flash Storage</td>\n",
              "      <td>256GB SSD</td>\n",
              "      <td>512GB SSD</td>\n",
              "    </tr>\n",
              "    <tr>\n",
              "      <th>gpu</th>\n",
              "      <td>Intel Iris Plus Graphics 640</td>\n",
              "      <td>Intel HD Graphics 6000</td>\n",
              "      <td>Intel HD Graphics 620</td>\n",
              "      <td>AMD Radeon Pro 455</td>\n",
              "    </tr>\n",
              "    <tr>\n",
              "      <th>os</th>\n",
              "      <td>macOS</td>\n",
              "      <td>macOS</td>\n",
              "      <td>No OS</td>\n",
              "      <td>macOS</td>\n",
              "    </tr>\n",
              "    <tr>\n",
              "      <th>os_version</th>\n",
              "      <td>NaN</td>\n",
              "      <td>NaN</td>\n",
              "      <td>NaN</td>\n",
              "      <td>NaN</td>\n",
              "    </tr>\n",
              "    <tr>\n",
              "      <th>weight</th>\n",
              "      <td>1.37kg</td>\n",
              "      <td>1.34kg</td>\n",
              "      <td>1.86kg</td>\n",
              "      <td>1.83kg</td>\n",
              "    </tr>\n",
              "    <tr>\n",
              "      <th>price_euros</th>\n",
              "      <td>1339,69</td>\n",
              "      <td>898,94</td>\n",
              "      <td>575,00</td>\n",
              "      <td>2537,45</td>\n",
              "    </tr>\n",
              "  </tbody>\n",
              "</table>\n",
              "</div>"
            ],
            "text/plain": [
              "                                               0  ...                                   3\n",
              "manufacturer                               Apple  ...                               Apple\n",
              "model_name                           MacBook Pro  ...                         MacBook Pro\n",
              "category                               Ultrabook  ...                           Ultrabook\n",
              "screen_size                                13.3\"  ...                               15.4\"\n",
              "screen        IPS Panel Retina Display 2560x1600  ...  IPS Panel Retina Display 2880x1800\n",
              "cpu                         Intel Core i5 2.3GHz  ...                Intel Core i7 2.7GHz\n",
              "ram                                          8GB  ...                                16GB\n",
              "storage                                128GB SSD  ...                           512GB SSD\n",
              "gpu                 Intel Iris Plus Graphics 640  ...                  AMD Radeon Pro 455\n",
              "os                                         macOS  ...                               macOS\n",
              "os_version                                   NaN  ...                                 NaN\n",
              "weight                                    1.37kg  ...                              1.83kg\n",
              "price_euros                              1339,69  ...                             2537,45\n",
              "\n",
              "[13 rows x 4 columns]"
            ]
          },
          "metadata": {
            "tags": []
          },
          "execution_count": 44
        }
      ]
    },
    {
      "cell_type": "code",
      "metadata": {
        "colab": {
          "base_uri": "https://localhost:8080/"
        },
        "id": "P1eyYAD22fnF",
        "outputId": "5bf960c6-85cb-480e-8195-8ceabeee5e59"
      },
      "source": [
        "print(laptops['ram'].unique())"
      ],
      "execution_count": 45,
      "outputs": [
        {
          "output_type": "stream",
          "text": [
            "['8GB' '16GB' '4GB' '2GB' '12GB' '6GB' '32GB' '24GB' '64GB']\n"
          ],
          "name": "stdout"
        }
      ]
    },
    {
      "cell_type": "code",
      "metadata": {
        "colab": {
          "base_uri": "https://localhost:8080/"
        },
        "id": "dn7gE7Cd3YnD",
        "outputId": "a8a260bf-2d89-4a7d-8636-28eb083c3529"
      },
      "source": [
        "laptops['ram']=laptops['ram'].str.replace('GB', '')\r\n",
        "unique_ram=laptops['ram'].unique()\r\n",
        "unique_ram"
      ],
      "execution_count": 46,
      "outputs": [
        {
          "output_type": "execute_result",
          "data": {
            "text/plain": [
              "array(['8', '16', '4', '2', '12', '6', '32', '24', '64'], dtype=object)"
            ]
          },
          "metadata": {
            "tags": []
          },
          "execution_count": 46
        }
      ]
    },
    {
      "cell_type": "code",
      "metadata": {
        "colab": {
          "base_uri": "https://localhost:8080/"
        },
        "id": "8lXKYd5B34Z-",
        "outputId": "af85986d-7c4b-4d3d-8cbb-832716d806b5"
      },
      "source": [
        "laptops['screen_size']=laptops['screen_size'].str.replace('\"', '')\r\n",
        "unique_screen_size=laptops['screen_size'].unique()\r\n",
        "unique_screen_size"
      ],
      "execution_count": 47,
      "outputs": [
        {
          "output_type": "execute_result",
          "data": {
            "text/plain": [
              "array(['13.3', '15.6', '15.4', '14.0', '12.0', '11.6', '17.3', '10.1',\n",
              "       '13.5', '12.5', '13.0', '18.4', '13.9', '12.3', '17.0', '15.0',\n",
              "       '14.1', '11.3'], dtype=object)"
            ]
          },
          "metadata": {
            "tags": []
          },
          "execution_count": 47
        }
      ]
    },
    {
      "cell_type": "code",
      "metadata": {
        "colab": {
          "base_uri": "https://localhost:8080/",
          "height": 452
        },
        "id": "zq9XrDDq8ahh",
        "outputId": "76d78737-0323-4170-9bdb-a74b5ecf3ddd"
      },
      "source": [
        "laptops.head(3).T"
      ],
      "execution_count": 48,
      "outputs": [
        {
          "output_type": "execute_result",
          "data": {
            "text/html": [
              "<div>\n",
              "<style scoped>\n",
              "    .dataframe tbody tr th:only-of-type {\n",
              "        vertical-align: middle;\n",
              "    }\n",
              "\n",
              "    .dataframe tbody tr th {\n",
              "        vertical-align: top;\n",
              "    }\n",
              "\n",
              "    .dataframe thead th {\n",
              "        text-align: right;\n",
              "    }\n",
              "</style>\n",
              "<table border=\"1\" class=\"dataframe\">\n",
              "  <thead>\n",
              "    <tr style=\"text-align: right;\">\n",
              "      <th></th>\n",
              "      <th>0</th>\n",
              "      <th>1</th>\n",
              "      <th>2</th>\n",
              "    </tr>\n",
              "  </thead>\n",
              "  <tbody>\n",
              "    <tr>\n",
              "      <th>manufacturer</th>\n",
              "      <td>Apple</td>\n",
              "      <td>Apple</td>\n",
              "      <td>HP</td>\n",
              "    </tr>\n",
              "    <tr>\n",
              "      <th>model_name</th>\n",
              "      <td>MacBook Pro</td>\n",
              "      <td>Macbook Air</td>\n",
              "      <td>250 G6</td>\n",
              "    </tr>\n",
              "    <tr>\n",
              "      <th>category</th>\n",
              "      <td>Ultrabook</td>\n",
              "      <td>Ultrabook</td>\n",
              "      <td>Notebook</td>\n",
              "    </tr>\n",
              "    <tr>\n",
              "      <th>screen_size</th>\n",
              "      <td>13.3</td>\n",
              "      <td>13.3</td>\n",
              "      <td>15.6</td>\n",
              "    </tr>\n",
              "    <tr>\n",
              "      <th>screen</th>\n",
              "      <td>IPS Panel Retina Display 2560x1600</td>\n",
              "      <td>1440x900</td>\n",
              "      <td>Full HD 1920x1080</td>\n",
              "    </tr>\n",
              "    <tr>\n",
              "      <th>cpu</th>\n",
              "      <td>Intel Core i5 2.3GHz</td>\n",
              "      <td>Intel Core i5 1.8GHz</td>\n",
              "      <td>Intel Core i5 7200U 2.5GHz</td>\n",
              "    </tr>\n",
              "    <tr>\n",
              "      <th>ram</th>\n",
              "      <td>8</td>\n",
              "      <td>8</td>\n",
              "      <td>8</td>\n",
              "    </tr>\n",
              "    <tr>\n",
              "      <th>storage</th>\n",
              "      <td>128GB SSD</td>\n",
              "      <td>128GB Flash Storage</td>\n",
              "      <td>256GB SSD</td>\n",
              "    </tr>\n",
              "    <tr>\n",
              "      <th>gpu</th>\n",
              "      <td>Intel Iris Plus Graphics 640</td>\n",
              "      <td>Intel HD Graphics 6000</td>\n",
              "      <td>Intel HD Graphics 620</td>\n",
              "    </tr>\n",
              "    <tr>\n",
              "      <th>os</th>\n",
              "      <td>macOS</td>\n",
              "      <td>macOS</td>\n",
              "      <td>No OS</td>\n",
              "    </tr>\n",
              "    <tr>\n",
              "      <th>os_version</th>\n",
              "      <td>NaN</td>\n",
              "      <td>NaN</td>\n",
              "      <td>NaN</td>\n",
              "    </tr>\n",
              "    <tr>\n",
              "      <th>weight</th>\n",
              "      <td>1.37kg</td>\n",
              "      <td>1.34kg</td>\n",
              "      <td>1.86kg</td>\n",
              "    </tr>\n",
              "    <tr>\n",
              "      <th>price_euros</th>\n",
              "      <td>1339,69</td>\n",
              "      <td>898,94</td>\n",
              "      <td>575,00</td>\n",
              "    </tr>\n",
              "  </tbody>\n",
              "</table>\n",
              "</div>"
            ],
            "text/plain": [
              "                                               0  ...                           2\n",
              "manufacturer                               Apple  ...                          HP\n",
              "model_name                           MacBook Pro  ...                      250 G6\n",
              "category                               Ultrabook  ...                    Notebook\n",
              "screen_size                                 13.3  ...                        15.6\n",
              "screen        IPS Panel Retina Display 2560x1600  ...           Full HD 1920x1080\n",
              "cpu                         Intel Core i5 2.3GHz  ...  Intel Core i5 7200U 2.5GHz\n",
              "ram                                            8  ...                           8\n",
              "storage                                128GB SSD  ...                   256GB SSD\n",
              "gpu                 Intel Iris Plus Graphics 640  ...       Intel HD Graphics 620\n",
              "os                                         macOS  ...                       No OS\n",
              "os_version                                   NaN  ...                         NaN\n",
              "weight                                    1.37kg  ...                      1.86kg\n",
              "price_euros                              1339,69  ...                      575,00\n",
              "\n",
              "[13 rows x 3 columns]"
            ]
          },
          "metadata": {
            "tags": []
          },
          "execution_count": 48
        }
      ]
    },
    {
      "cell_type": "code",
      "metadata": {
        "colab": {
          "base_uri": "https://localhost:8080/"
        },
        "id": "Mg9cEQ_F8rNH",
        "outputId": "836479d8-d9ee-47cc-c66f-15eae3446c65"
      },
      "source": [
        "laptops['ram']= laptops['ram'].astype(int)\r\n",
        "print(laptops['ram'].dtypes)\r\n",
        "\r\n",
        "laptops['screen_size']=laptops['screen_size'].astype(float)\r\n",
        "print(laptops['screen_size'].dtypes)"
      ],
      "execution_count": 49,
      "outputs": [
        {
          "output_type": "stream",
          "text": [
            "int64\n",
            "float64\n"
          ],
          "name": "stdout"
        }
      ]
    },
    {
      "cell_type": "code",
      "metadata": {
        "colab": {
          "base_uri": "https://localhost:8080/"
        },
        "id": "nNw_1O4B9k_f",
        "outputId": "581b065a-64a5-4f1b-9c36-f4b429b6788a"
      },
      "source": [
        "laptops.info()"
      ],
      "execution_count": 50,
      "outputs": [
        {
          "output_type": "stream",
          "text": [
            "<class 'pandas.core.frame.DataFrame'>\n",
            "RangeIndex: 1303 entries, 0 to 1302\n",
            "Data columns (total 13 columns):\n",
            " #   Column        Non-Null Count  Dtype  \n",
            "---  ------        --------------  -----  \n",
            " 0   manufacturer  1303 non-null   object \n",
            " 1   model_name    1303 non-null   object \n",
            " 2   category      1303 non-null   object \n",
            " 3   screen_size   1303 non-null   float64\n",
            " 4   screen        1303 non-null   object \n",
            " 5   cpu           1303 non-null   object \n",
            " 6   ram           1303 non-null   int64  \n",
            " 7   storage       1303 non-null   object \n",
            " 8   gpu           1303 non-null   object \n",
            " 9   os            1303 non-null   object \n",
            " 10  os_version    1133 non-null   object \n",
            " 11  weight        1303 non-null   object \n",
            " 12  price_euros   1303 non-null   object \n",
            "dtypes: float64(1), int64(1), object(11)\n",
            "memory usage: 132.5+ KB\n"
          ],
          "name": "stdout"
        }
      ]
    },
    {
      "cell_type": "code",
      "metadata": {
        "id": "GWuzoKHX-wUH",
        "colab": {
          "base_uri": "https://localhost:8080/"
        },
        "outputId": "876a55e3-2fce-4eb3-d675-783096e30020"
      },
      "source": [
        "laptops.rename({'ram':'ram_gb'}, inplace=True, axis=1)\r\n",
        "ram_gb_desc= laptops['ram_gb'].describe()\r\n",
        "ram_gb_desc"
      ],
      "execution_count": 51,
      "outputs": [
        {
          "output_type": "execute_result",
          "data": {
            "text/plain": [
              "count    1303.000000\n",
              "mean        8.382195\n",
              "std         5.084665\n",
              "min         2.000000\n",
              "25%         4.000000\n",
              "50%         8.000000\n",
              "75%         8.000000\n",
              "max        64.000000\n",
              "Name: ram_gb, dtype: float64"
            ]
          },
          "metadata": {
            "tags": []
          },
          "execution_count": 51
        }
      ]
    },
    {
      "cell_type": "code",
      "metadata": {
        "colab": {
          "base_uri": "https://localhost:8080/",
          "height": 452
        },
        "id": "TXuUCtRl2kjn",
        "outputId": "e3c00008-a653-4319-c606-93aefe5609cf"
      },
      "source": [
        "laptops.head(3).T"
      ],
      "execution_count": 52,
      "outputs": [
        {
          "output_type": "execute_result",
          "data": {
            "text/html": [
              "<div>\n",
              "<style scoped>\n",
              "    .dataframe tbody tr th:only-of-type {\n",
              "        vertical-align: middle;\n",
              "    }\n",
              "\n",
              "    .dataframe tbody tr th {\n",
              "        vertical-align: top;\n",
              "    }\n",
              "\n",
              "    .dataframe thead th {\n",
              "        text-align: right;\n",
              "    }\n",
              "</style>\n",
              "<table border=\"1\" class=\"dataframe\">\n",
              "  <thead>\n",
              "    <tr style=\"text-align: right;\">\n",
              "      <th></th>\n",
              "      <th>0</th>\n",
              "      <th>1</th>\n",
              "      <th>2</th>\n",
              "    </tr>\n",
              "  </thead>\n",
              "  <tbody>\n",
              "    <tr>\n",
              "      <th>manufacturer</th>\n",
              "      <td>Apple</td>\n",
              "      <td>Apple</td>\n",
              "      <td>HP</td>\n",
              "    </tr>\n",
              "    <tr>\n",
              "      <th>model_name</th>\n",
              "      <td>MacBook Pro</td>\n",
              "      <td>Macbook Air</td>\n",
              "      <td>250 G6</td>\n",
              "    </tr>\n",
              "    <tr>\n",
              "      <th>category</th>\n",
              "      <td>Ultrabook</td>\n",
              "      <td>Ultrabook</td>\n",
              "      <td>Notebook</td>\n",
              "    </tr>\n",
              "    <tr>\n",
              "      <th>screen_size</th>\n",
              "      <td>13.3</td>\n",
              "      <td>13.3</td>\n",
              "      <td>15.6</td>\n",
              "    </tr>\n",
              "    <tr>\n",
              "      <th>screen</th>\n",
              "      <td>IPS Panel Retina Display 2560x1600</td>\n",
              "      <td>1440x900</td>\n",
              "      <td>Full HD 1920x1080</td>\n",
              "    </tr>\n",
              "    <tr>\n",
              "      <th>cpu</th>\n",
              "      <td>Intel Core i5 2.3GHz</td>\n",
              "      <td>Intel Core i5 1.8GHz</td>\n",
              "      <td>Intel Core i5 7200U 2.5GHz</td>\n",
              "    </tr>\n",
              "    <tr>\n",
              "      <th>ram_gb</th>\n",
              "      <td>8</td>\n",
              "      <td>8</td>\n",
              "      <td>8</td>\n",
              "    </tr>\n",
              "    <tr>\n",
              "      <th>storage</th>\n",
              "      <td>128GB SSD</td>\n",
              "      <td>128GB Flash Storage</td>\n",
              "      <td>256GB SSD</td>\n",
              "    </tr>\n",
              "    <tr>\n",
              "      <th>gpu</th>\n",
              "      <td>Intel Iris Plus Graphics 640</td>\n",
              "      <td>Intel HD Graphics 6000</td>\n",
              "      <td>Intel HD Graphics 620</td>\n",
              "    </tr>\n",
              "    <tr>\n",
              "      <th>os</th>\n",
              "      <td>macOS</td>\n",
              "      <td>macOS</td>\n",
              "      <td>No OS</td>\n",
              "    </tr>\n",
              "    <tr>\n",
              "      <th>os_version</th>\n",
              "      <td>NaN</td>\n",
              "      <td>NaN</td>\n",
              "      <td>NaN</td>\n",
              "    </tr>\n",
              "    <tr>\n",
              "      <th>weight</th>\n",
              "      <td>1.37kg</td>\n",
              "      <td>1.34kg</td>\n",
              "      <td>1.86kg</td>\n",
              "    </tr>\n",
              "    <tr>\n",
              "      <th>price_euros</th>\n",
              "      <td>1339,69</td>\n",
              "      <td>898,94</td>\n",
              "      <td>575,00</td>\n",
              "    </tr>\n",
              "  </tbody>\n",
              "</table>\n",
              "</div>"
            ],
            "text/plain": [
              "                                               0  ...                           2\n",
              "manufacturer                               Apple  ...                          HP\n",
              "model_name                           MacBook Pro  ...                      250 G6\n",
              "category                               Ultrabook  ...                    Notebook\n",
              "screen_size                                 13.3  ...                        15.6\n",
              "screen        IPS Panel Retina Display 2560x1600  ...           Full HD 1920x1080\n",
              "cpu                         Intel Core i5 2.3GHz  ...  Intel Core i5 7200U 2.5GHz\n",
              "ram_gb                                         8  ...                           8\n",
              "storage                                128GB SSD  ...                   256GB SSD\n",
              "gpu                 Intel Iris Plus Graphics 640  ...       Intel HD Graphics 620\n",
              "os                                         macOS  ...                       No OS\n",
              "os_version                                   NaN  ...                         NaN\n",
              "weight                                    1.37kg  ...                      1.86kg\n",
              "price_euros                              1339,69  ...                      575,00\n",
              "\n",
              "[13 rows x 3 columns]"
            ]
          },
          "metadata": {
            "tags": []
          },
          "execution_count": 52
        }
      ]
    },
    {
      "cell_type": "code",
      "metadata": {
        "id": "yV0Dw6rv2rnV"
      },
      "source": [
        "laptops[\"gpu_manufacturer\"] = (laptops[\"gpu\"]\r\n",
        "                                       .str.split()\r\n",
        "                                       .str[0]\r\n",
        "                              )"
      ],
      "execution_count": 53,
      "outputs": []
    },
    {
      "cell_type": "code",
      "metadata": {
        "colab": {
          "base_uri": "https://localhost:8080/",
          "height": 483
        },
        "id": "u1OJUQeq4fC4",
        "outputId": "7f1f6172-97f0-459f-aefd-9b8a02a08aa6"
      },
      "source": [
        "laptops.head(3).T"
      ],
      "execution_count": 54,
      "outputs": [
        {
          "output_type": "execute_result",
          "data": {
            "text/html": [
              "<div>\n",
              "<style scoped>\n",
              "    .dataframe tbody tr th:only-of-type {\n",
              "        vertical-align: middle;\n",
              "    }\n",
              "\n",
              "    .dataframe tbody tr th {\n",
              "        vertical-align: top;\n",
              "    }\n",
              "\n",
              "    .dataframe thead th {\n",
              "        text-align: right;\n",
              "    }\n",
              "</style>\n",
              "<table border=\"1\" class=\"dataframe\">\n",
              "  <thead>\n",
              "    <tr style=\"text-align: right;\">\n",
              "      <th></th>\n",
              "      <th>0</th>\n",
              "      <th>1</th>\n",
              "      <th>2</th>\n",
              "    </tr>\n",
              "  </thead>\n",
              "  <tbody>\n",
              "    <tr>\n",
              "      <th>manufacturer</th>\n",
              "      <td>Apple</td>\n",
              "      <td>Apple</td>\n",
              "      <td>HP</td>\n",
              "    </tr>\n",
              "    <tr>\n",
              "      <th>model_name</th>\n",
              "      <td>MacBook Pro</td>\n",
              "      <td>Macbook Air</td>\n",
              "      <td>250 G6</td>\n",
              "    </tr>\n",
              "    <tr>\n",
              "      <th>category</th>\n",
              "      <td>Ultrabook</td>\n",
              "      <td>Ultrabook</td>\n",
              "      <td>Notebook</td>\n",
              "    </tr>\n",
              "    <tr>\n",
              "      <th>screen_size</th>\n",
              "      <td>13.3</td>\n",
              "      <td>13.3</td>\n",
              "      <td>15.6</td>\n",
              "    </tr>\n",
              "    <tr>\n",
              "      <th>screen</th>\n",
              "      <td>IPS Panel Retina Display 2560x1600</td>\n",
              "      <td>1440x900</td>\n",
              "      <td>Full HD 1920x1080</td>\n",
              "    </tr>\n",
              "    <tr>\n",
              "      <th>cpu</th>\n",
              "      <td>Intel Core i5 2.3GHz</td>\n",
              "      <td>Intel Core i5 1.8GHz</td>\n",
              "      <td>Intel Core i5 7200U 2.5GHz</td>\n",
              "    </tr>\n",
              "    <tr>\n",
              "      <th>ram_gb</th>\n",
              "      <td>8</td>\n",
              "      <td>8</td>\n",
              "      <td>8</td>\n",
              "    </tr>\n",
              "    <tr>\n",
              "      <th>storage</th>\n",
              "      <td>128GB SSD</td>\n",
              "      <td>128GB Flash Storage</td>\n",
              "      <td>256GB SSD</td>\n",
              "    </tr>\n",
              "    <tr>\n",
              "      <th>gpu</th>\n",
              "      <td>Intel Iris Plus Graphics 640</td>\n",
              "      <td>Intel HD Graphics 6000</td>\n",
              "      <td>Intel HD Graphics 620</td>\n",
              "    </tr>\n",
              "    <tr>\n",
              "      <th>os</th>\n",
              "      <td>macOS</td>\n",
              "      <td>macOS</td>\n",
              "      <td>No OS</td>\n",
              "    </tr>\n",
              "    <tr>\n",
              "      <th>os_version</th>\n",
              "      <td>NaN</td>\n",
              "      <td>NaN</td>\n",
              "      <td>NaN</td>\n",
              "    </tr>\n",
              "    <tr>\n",
              "      <th>weight</th>\n",
              "      <td>1.37kg</td>\n",
              "      <td>1.34kg</td>\n",
              "      <td>1.86kg</td>\n",
              "    </tr>\n",
              "    <tr>\n",
              "      <th>price_euros</th>\n",
              "      <td>1339,69</td>\n",
              "      <td>898,94</td>\n",
              "      <td>575,00</td>\n",
              "    </tr>\n",
              "    <tr>\n",
              "      <th>gpu_manufacturer</th>\n",
              "      <td>Intel</td>\n",
              "      <td>Intel</td>\n",
              "      <td>Intel</td>\n",
              "    </tr>\n",
              "  </tbody>\n",
              "</table>\n",
              "</div>"
            ],
            "text/plain": [
              "                                                   0  ...                           2\n",
              "manufacturer                                   Apple  ...                          HP\n",
              "model_name                               MacBook Pro  ...                      250 G6\n",
              "category                                   Ultrabook  ...                    Notebook\n",
              "screen_size                                     13.3  ...                        15.6\n",
              "screen            IPS Panel Retina Display 2560x1600  ...           Full HD 1920x1080\n",
              "cpu                             Intel Core i5 2.3GHz  ...  Intel Core i5 7200U 2.5GHz\n",
              "ram_gb                                             8  ...                           8\n",
              "storage                                    128GB SSD  ...                   256GB SSD\n",
              "gpu                     Intel Iris Plus Graphics 640  ...       Intel HD Graphics 620\n",
              "os                                             macOS  ...                       No OS\n",
              "os_version                                       NaN  ...                         NaN\n",
              "weight                                        1.37kg  ...                      1.86kg\n",
              "price_euros                                  1339,69  ...                      575,00\n",
              "gpu_manufacturer                               Intel  ...                       Intel\n",
              "\n",
              "[14 rows x 3 columns]"
            ]
          },
          "metadata": {
            "tags": []
          },
          "execution_count": 54
        }
      ]
    },
    {
      "cell_type": "code",
      "metadata": {
        "colab": {
          "base_uri": "https://localhost:8080/"
        },
        "id": "DQpebHDf4hr-",
        "outputId": "55c7368d-99aa-4200-ba02-2895c4804a51"
      },
      "source": [
        "laptops['cpu_manufacturer']= (laptops['cpu']\r\n",
        "                              .str.split()\r\n",
        "                              .str[0]\r\n",
        ")\r\n",
        "cpu_manufacturer_counts= laptops['cpu_manufacturer'].value_counts()\r\n",
        "cpu_manufacturer_counts"
      ],
      "execution_count": 55,
      "outputs": [
        {
          "output_type": "execute_result",
          "data": {
            "text/plain": [
              "Intel      1240\n",
              "AMD          62\n",
              "Samsung       1\n",
              "Name: cpu_manufacturer, dtype: int64"
            ]
          },
          "metadata": {
            "tags": []
          },
          "execution_count": 55
        }
      ]
    },
    {
      "cell_type": "code",
      "metadata": {
        "colab": {
          "base_uri": "https://localhost:8080/"
        },
        "id": "wNNQo9-P55Ot",
        "outputId": "cba6498f-8c4d-4e37-fe64-6e400d9788bf"
      },
      "source": [
        "print(laptops[\"os\"].value_counts())"
      ],
      "execution_count": 56,
      "outputs": [
        {
          "output_type": "stream",
          "text": [
            "Windows      1125\n",
            "No OS          66\n",
            "Linux          62\n",
            "Chrome OS      27\n",
            "macOS          13\n",
            "Mac OS          8\n",
            "Android         2\n",
            "Name: os, dtype: int64\n"
          ],
          "name": "stdout"
        }
      ]
    },
    {
      "cell_type": "code",
      "metadata": {
        "id": "7V0zpb6D6IX4"
      },
      "source": [
        "mapping_dict = {\r\n",
        "    'Android': 'Android',\r\n",
        "    'Chrome OS': 'Chrome OS',\r\n",
        "    'Linux': 'Linux',\r\n",
        "    'Mac OS': 'macOS',\r\n",
        "    'No OS': 'No OS',\r\n",
        "    'Windows': 'Windows',\r\n",
        "    'macOS': 'macOS'\r\n",
        "}\r\n",
        "\r\n",
        "\r\n",
        "laptops['os']=laptops['os'].map(mapping_dict)"
      ],
      "execution_count": 57,
      "outputs": []
    },
    {
      "cell_type": "code",
      "metadata": {
        "colab": {
          "base_uri": "https://localhost:8080/"
        },
        "id": "OQ4bij647lat",
        "outputId": "31cbb2d7-c37d-475e-c2aa-aca2191022ac"
      },
      "source": [
        "laptops['os'].unique()"
      ],
      "execution_count": 58,
      "outputs": [
        {
          "output_type": "execute_result",
          "data": {
            "text/plain": [
              "array(['macOS', 'No OS', 'Windows', 'Linux', 'Android', 'Chrome OS'],\n",
              "      dtype=object)"
            ]
          },
          "metadata": {
            "tags": []
          },
          "execution_count": 58
        }
      ]
    },
    {
      "cell_type": "code",
      "metadata": {
        "colab": {
          "base_uri": "https://localhost:8080/"
        },
        "id": "RNssgcgF7px_",
        "outputId": "f948d20f-0b01-44ba-d7cb-2160e24492f0"
      },
      "source": [
        "laptops.isnull().sum()"
      ],
      "execution_count": 59,
      "outputs": [
        {
          "output_type": "execute_result",
          "data": {
            "text/plain": [
              "manufacturer          0\n",
              "model_name            0\n",
              "category              0\n",
              "screen_size           0\n",
              "screen                0\n",
              "cpu                   0\n",
              "ram_gb                0\n",
              "storage               0\n",
              "gpu                   0\n",
              "os                    0\n",
              "os_version          170\n",
              "weight                0\n",
              "price_euros           0\n",
              "gpu_manufacturer      0\n",
              "cpu_manufacturer      0\n",
              "dtype: int64"
            ]
          },
          "metadata": {
            "tags": []
          },
          "execution_count": 59
        }
      ]
    },
    {
      "cell_type": "markdown",
      "metadata": {
        "id": "ai22DDoY8sU7"
      },
      "source": [
        "here column and rows  with nan is removed"
      ]
    },
    {
      "cell_type": "code",
      "metadata": {
        "id": "RN28UjAr75Ye"
      },
      "source": [
        "laptops_no_null_cols= laptops.dropna(axis=1)\r\n",
        "laptops_no_null_rows= laptops.dropna(axis=0)\r\n",
        "\r\n"
      ],
      "execution_count": 60,
      "outputs": []
    },
    {
      "cell_type": "markdown",
      "metadata": {
        "id": "5WPzT0Ai-RmD"
      },
      "source": [
        "Other approach "
      ]
    },
    {
      "cell_type": "code",
      "metadata": {
        "colab": {
          "base_uri": "https://localhost:8080/"
        },
        "id": "gNG6RHaq8rfT",
        "outputId": "02b0c675-9b57-4507-b5f1-bbcb1b8f8f5c"
      },
      "source": [
        "print(laptops[\"os_version\"].value_counts(dropna=False))"
      ],
      "execution_count": 61,
      "outputs": [
        {
          "output_type": "stream",
          "text": [
            "10      1072\n",
            "NaN      170\n",
            "7         45\n",
            "X          8\n",
            "10 S       8\n",
            "Name: os_version, dtype: int64\n"
          ],
          "name": "stdout"
        }
      ]
    },
    {
      "cell_type": "code",
      "metadata": {
        "colab": {
          "base_uri": "https://localhost:8080/"
        },
        "id": "WyN04C9n-Ukv",
        "outputId": "710a5126-ddb7-484d-a130-9595a310157f"
      },
      "source": [
        "os_with_null_v = laptops.loc[laptops[\"os_version\"].isnull(),\"os\"]\r\n",
        "print(os_with_null_v.value_counts())"
      ],
      "execution_count": 62,
      "outputs": [
        {
          "output_type": "stream",
          "text": [
            "No OS        66\n",
            "Linux        62\n",
            "Chrome OS    27\n",
            "macOS        13\n",
            "Android       2\n",
            "Name: os, dtype: int64\n"
          ],
          "name": "stdout"
        }
      ]
    },
    {
      "cell_type": "code",
      "metadata": {
        "colab": {
          "base_uri": "https://localhost:8080/"
        },
        "id": "H0GzanqiBZkD",
        "outputId": "163887c1-f466-4d68-9f05-6017e0ed49f8"
      },
      "source": [
        "value_counts_before = laptops.loc[laptops[\"os_version\"].isnull(), \"os\"].value_counts()\r\n",
        "laptops.loc[laptops[\"os\"] == \"macOS\", \"os_version\"] = \"X\"\r\n",
        "laptops.loc[laptops['os']=='No OS', 'os_version']= 'Version Unknown'\r\n",
        "value_counts_after=laptops.loc[laptops[\"os_version\"].isnull(), \"os\"].value_counts()\r\n",
        "print(value_counts_before)\r\n",
        "print(value_counts_after)\r\n",
        "            "
      ],
      "execution_count": 63,
      "outputs": [
        {
          "output_type": "stream",
          "text": [
            "No OS        66\n",
            "Linux        62\n",
            "Chrome OS    27\n",
            "macOS        13\n",
            "Android       2\n",
            "Name: os, dtype: int64\n",
            "Linux        62\n",
            "Chrome OS    27\n",
            "Android       2\n",
            "Name: os, dtype: int64\n"
          ],
          "name": "stdout"
        }
      ]
    },
    {
      "cell_type": "code",
      "metadata": {
        "id": "4Qa-Pas4C_Nb"
      },
      "source": [
        ""
      ],
      "execution_count": 63,
      "outputs": []
    },
    {
      "cell_type": "code",
      "metadata": {
        "id": "kN3CAVWOD8Gg"
      },
      "source": [
        "laptops['weight']= laptops['weight'].str.replace('kgs','').str.replace('kg', '').astype(float)\r\n",
        "laptops.rename({'weight':'weight_kg'}, axis=1, inplace=True)\r\n",
        "laptops.to_csv('laptops_cleaned.csv', index=False)"
      ],
      "execution_count": 64,
      "outputs": []
    },
    {
      "cell_type": "code",
      "metadata": {
        "id": "LDED-VvPE3hX"
      },
      "source": [
        ""
      ],
      "execution_count": 64,
      "outputs": []
    }
  ]
}