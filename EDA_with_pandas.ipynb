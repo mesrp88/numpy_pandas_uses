{
  "nbformat": 4,
  "nbformat_minor": 0,
  "metadata": {
    "colab": {
      "name": "EDA_with_pandas.ipynb",
      "provenance": [],
      "authorship_tag": "ABX9TyMZM4RDAGoVkV0Prb1dkLBD",
      "include_colab_link": true
    },
    "kernelspec": {
      "name": "python3",
      "display_name": "Python 3"
    }
  },
  "cells": [
    {
      "cell_type": "markdown",
      "metadata": {
        "id": "view-in-github",
        "colab_type": "text"
      },
      "source": [
        "<a href=\"https://colab.research.google.com/github/mesrp88/numpy_pandas_uses/blob/main/EDA_with_pandas.ipynb\" target=\"_parent\"><img src=\"https://colab.research.google.com/assets/colab-badge.svg\" alt=\"Open In Colab\"/></a>"
      ]
    },
    {
      "cell_type": "code",
      "metadata": {
        "id": "_LkODZbDY6Oo"
      },
      "source": [
        "import pandas as pd"
      ],
      "execution_count": 38,
      "outputs": []
    },
    {
      "cell_type": "code",
      "metadata": {
        "colab": {
          "base_uri": "https://localhost:8080/",
          "height": 391
        },
        "id": "fBTq9psyUrGn",
        "outputId": "0d6003e7-f46a-4ef0-ee96-96ba1466b936"
      },
      "source": [
        "url='/content/f500.csv'\r\n",
        "f500= pd.read_csv('/content/f500.csv', index_col=0)\r\n",
        "\r\n",
        "f500.head()"
      ],
      "execution_count": 39,
      "outputs": [
        {
          "output_type": "execute_result",
          "data": {
            "text/html": [
              "<div>\n",
              "<style scoped>\n",
              "    .dataframe tbody tr th:only-of-type {\n",
              "        vertical-align: middle;\n",
              "    }\n",
              "\n",
              "    .dataframe tbody tr th {\n",
              "        vertical-align: top;\n",
              "    }\n",
              "\n",
              "    .dataframe thead th {\n",
              "        text-align: right;\n",
              "    }\n",
              "</style>\n",
              "<table border=\"1\" class=\"dataframe\">\n",
              "  <thead>\n",
              "    <tr style=\"text-align: right;\">\n",
              "      <th></th>\n",
              "      <th>rank</th>\n",
              "      <th>revenues</th>\n",
              "      <th>revenue_change</th>\n",
              "      <th>profits</th>\n",
              "      <th>assets</th>\n",
              "      <th>profit_change</th>\n",
              "      <th>ceo</th>\n",
              "      <th>industry</th>\n",
              "      <th>sector</th>\n",
              "      <th>previous_rank</th>\n",
              "      <th>country</th>\n",
              "      <th>hq_location</th>\n",
              "      <th>website</th>\n",
              "      <th>years_on_global_500_list</th>\n",
              "      <th>employees</th>\n",
              "      <th>total_stockholder_equity</th>\n",
              "    </tr>\n",
              "    <tr>\n",
              "      <th>company</th>\n",
              "      <th></th>\n",
              "      <th></th>\n",
              "      <th></th>\n",
              "      <th></th>\n",
              "      <th></th>\n",
              "      <th></th>\n",
              "      <th></th>\n",
              "      <th></th>\n",
              "      <th></th>\n",
              "      <th></th>\n",
              "      <th></th>\n",
              "      <th></th>\n",
              "      <th></th>\n",
              "      <th></th>\n",
              "      <th></th>\n",
              "      <th></th>\n",
              "    </tr>\n",
              "  </thead>\n",
              "  <tbody>\n",
              "    <tr>\n",
              "      <th>Walmart</th>\n",
              "      <td>1</td>\n",
              "      <td>485873</td>\n",
              "      <td>0.8</td>\n",
              "      <td>13643.0</td>\n",
              "      <td>198825</td>\n",
              "      <td>-7.2</td>\n",
              "      <td>C. Douglas McMillon</td>\n",
              "      <td>General Merchandisers</td>\n",
              "      <td>Retailing</td>\n",
              "      <td>1</td>\n",
              "      <td>USA</td>\n",
              "      <td>Bentonville, AR</td>\n",
              "      <td>http://www.walmart.com</td>\n",
              "      <td>23</td>\n",
              "      <td>2300000</td>\n",
              "      <td>77798</td>\n",
              "    </tr>\n",
              "    <tr>\n",
              "      <th>State Grid</th>\n",
              "      <td>2</td>\n",
              "      <td>315199</td>\n",
              "      <td>-4.4</td>\n",
              "      <td>9571.3</td>\n",
              "      <td>489838</td>\n",
              "      <td>-6.2</td>\n",
              "      <td>Kou Wei</td>\n",
              "      <td>Utilities</td>\n",
              "      <td>Energy</td>\n",
              "      <td>2</td>\n",
              "      <td>China</td>\n",
              "      <td>Beijing, China</td>\n",
              "      <td>http://www.sgcc.com.cn</td>\n",
              "      <td>17</td>\n",
              "      <td>926067</td>\n",
              "      <td>209456</td>\n",
              "    </tr>\n",
              "    <tr>\n",
              "      <th>Sinopec Group</th>\n",
              "      <td>3</td>\n",
              "      <td>267518</td>\n",
              "      <td>-9.1</td>\n",
              "      <td>1257.9</td>\n",
              "      <td>310726</td>\n",
              "      <td>-65.0</td>\n",
              "      <td>Wang Yupu</td>\n",
              "      <td>Petroleum Refining</td>\n",
              "      <td>Energy</td>\n",
              "      <td>4</td>\n",
              "      <td>China</td>\n",
              "      <td>Beijing, China</td>\n",
              "      <td>http://www.sinopec.com</td>\n",
              "      <td>19</td>\n",
              "      <td>713288</td>\n",
              "      <td>106523</td>\n",
              "    </tr>\n",
              "    <tr>\n",
              "      <th>China National Petroleum</th>\n",
              "      <td>4</td>\n",
              "      <td>262573</td>\n",
              "      <td>-12.3</td>\n",
              "      <td>1867.5</td>\n",
              "      <td>585619</td>\n",
              "      <td>-73.7</td>\n",
              "      <td>Zhang Jianhua</td>\n",
              "      <td>Petroleum Refining</td>\n",
              "      <td>Energy</td>\n",
              "      <td>3</td>\n",
              "      <td>China</td>\n",
              "      <td>Beijing, China</td>\n",
              "      <td>http://www.cnpc.com.cn</td>\n",
              "      <td>17</td>\n",
              "      <td>1512048</td>\n",
              "      <td>301893</td>\n",
              "    </tr>\n",
              "    <tr>\n",
              "      <th>Toyota Motor</th>\n",
              "      <td>5</td>\n",
              "      <td>254694</td>\n",
              "      <td>7.7</td>\n",
              "      <td>16899.3</td>\n",
              "      <td>437575</td>\n",
              "      <td>-12.3</td>\n",
              "      <td>Akio Toyoda</td>\n",
              "      <td>Motor Vehicles and Parts</td>\n",
              "      <td>Motor Vehicles &amp; Parts</td>\n",
              "      <td>8</td>\n",
              "      <td>Japan</td>\n",
              "      <td>Toyota, Japan</td>\n",
              "      <td>http://www.toyota-global.com</td>\n",
              "      <td>23</td>\n",
              "      <td>364445</td>\n",
              "      <td>157210</td>\n",
              "    </tr>\n",
              "  </tbody>\n",
              "</table>\n",
              "</div>"
            ],
            "text/plain": [
              "                          rank  revenues  ...  employees  total_stockholder_equity\n",
              "company                                   ...                                     \n",
              "Walmart                      1    485873  ...    2300000                     77798\n",
              "State Grid                   2    315199  ...     926067                    209456\n",
              "Sinopec Group                3    267518  ...     713288                    106523\n",
              "China National Petroleum     4    262573  ...    1512048                    301893\n",
              "Toyota Motor                 5    254694  ...     364445                    157210\n",
              "\n",
              "[5 rows x 16 columns]"
            ]
          },
          "metadata": {
            "tags": []
          },
          "execution_count": 39
        }
      ]
    },
    {
      "cell_type": "code",
      "metadata": {
        "colab": {
          "base_uri": "https://localhost:8080/",
          "height": 360
        },
        "id": "TybS1okpVPxA",
        "outputId": "03a3d4f8-1d03-4c06-8520-b300508d3a46"
      },
      "source": [
        "f500.index.name=None\r\n",
        "f500.head()"
      ],
      "execution_count": 40,
      "outputs": [
        {
          "output_type": "execute_result",
          "data": {
            "text/html": [
              "<div>\n",
              "<style scoped>\n",
              "    .dataframe tbody tr th:only-of-type {\n",
              "        vertical-align: middle;\n",
              "    }\n",
              "\n",
              "    .dataframe tbody tr th {\n",
              "        vertical-align: top;\n",
              "    }\n",
              "\n",
              "    .dataframe thead th {\n",
              "        text-align: right;\n",
              "    }\n",
              "</style>\n",
              "<table border=\"1\" class=\"dataframe\">\n",
              "  <thead>\n",
              "    <tr style=\"text-align: right;\">\n",
              "      <th></th>\n",
              "      <th>rank</th>\n",
              "      <th>revenues</th>\n",
              "      <th>revenue_change</th>\n",
              "      <th>profits</th>\n",
              "      <th>assets</th>\n",
              "      <th>profit_change</th>\n",
              "      <th>ceo</th>\n",
              "      <th>industry</th>\n",
              "      <th>sector</th>\n",
              "      <th>previous_rank</th>\n",
              "      <th>country</th>\n",
              "      <th>hq_location</th>\n",
              "      <th>website</th>\n",
              "      <th>years_on_global_500_list</th>\n",
              "      <th>employees</th>\n",
              "      <th>total_stockholder_equity</th>\n",
              "    </tr>\n",
              "  </thead>\n",
              "  <tbody>\n",
              "    <tr>\n",
              "      <th>Walmart</th>\n",
              "      <td>1</td>\n",
              "      <td>485873</td>\n",
              "      <td>0.8</td>\n",
              "      <td>13643.0</td>\n",
              "      <td>198825</td>\n",
              "      <td>-7.2</td>\n",
              "      <td>C. Douglas McMillon</td>\n",
              "      <td>General Merchandisers</td>\n",
              "      <td>Retailing</td>\n",
              "      <td>1</td>\n",
              "      <td>USA</td>\n",
              "      <td>Bentonville, AR</td>\n",
              "      <td>http://www.walmart.com</td>\n",
              "      <td>23</td>\n",
              "      <td>2300000</td>\n",
              "      <td>77798</td>\n",
              "    </tr>\n",
              "    <tr>\n",
              "      <th>State Grid</th>\n",
              "      <td>2</td>\n",
              "      <td>315199</td>\n",
              "      <td>-4.4</td>\n",
              "      <td>9571.3</td>\n",
              "      <td>489838</td>\n",
              "      <td>-6.2</td>\n",
              "      <td>Kou Wei</td>\n",
              "      <td>Utilities</td>\n",
              "      <td>Energy</td>\n",
              "      <td>2</td>\n",
              "      <td>China</td>\n",
              "      <td>Beijing, China</td>\n",
              "      <td>http://www.sgcc.com.cn</td>\n",
              "      <td>17</td>\n",
              "      <td>926067</td>\n",
              "      <td>209456</td>\n",
              "    </tr>\n",
              "    <tr>\n",
              "      <th>Sinopec Group</th>\n",
              "      <td>3</td>\n",
              "      <td>267518</td>\n",
              "      <td>-9.1</td>\n",
              "      <td>1257.9</td>\n",
              "      <td>310726</td>\n",
              "      <td>-65.0</td>\n",
              "      <td>Wang Yupu</td>\n",
              "      <td>Petroleum Refining</td>\n",
              "      <td>Energy</td>\n",
              "      <td>4</td>\n",
              "      <td>China</td>\n",
              "      <td>Beijing, China</td>\n",
              "      <td>http://www.sinopec.com</td>\n",
              "      <td>19</td>\n",
              "      <td>713288</td>\n",
              "      <td>106523</td>\n",
              "    </tr>\n",
              "    <tr>\n",
              "      <th>China National Petroleum</th>\n",
              "      <td>4</td>\n",
              "      <td>262573</td>\n",
              "      <td>-12.3</td>\n",
              "      <td>1867.5</td>\n",
              "      <td>585619</td>\n",
              "      <td>-73.7</td>\n",
              "      <td>Zhang Jianhua</td>\n",
              "      <td>Petroleum Refining</td>\n",
              "      <td>Energy</td>\n",
              "      <td>3</td>\n",
              "      <td>China</td>\n",
              "      <td>Beijing, China</td>\n",
              "      <td>http://www.cnpc.com.cn</td>\n",
              "      <td>17</td>\n",
              "      <td>1512048</td>\n",
              "      <td>301893</td>\n",
              "    </tr>\n",
              "    <tr>\n",
              "      <th>Toyota Motor</th>\n",
              "      <td>5</td>\n",
              "      <td>254694</td>\n",
              "      <td>7.7</td>\n",
              "      <td>16899.3</td>\n",
              "      <td>437575</td>\n",
              "      <td>-12.3</td>\n",
              "      <td>Akio Toyoda</td>\n",
              "      <td>Motor Vehicles and Parts</td>\n",
              "      <td>Motor Vehicles &amp; Parts</td>\n",
              "      <td>8</td>\n",
              "      <td>Japan</td>\n",
              "      <td>Toyota, Japan</td>\n",
              "      <td>http://www.toyota-global.com</td>\n",
              "      <td>23</td>\n",
              "      <td>364445</td>\n",
              "      <td>157210</td>\n",
              "    </tr>\n",
              "  </tbody>\n",
              "</table>\n",
              "</div>"
            ],
            "text/plain": [
              "                          rank  revenues  ...  employees  total_stockholder_equity\n",
              "Walmart                      1    485873  ...    2300000                     77798\n",
              "State Grid                   2    315199  ...     926067                    209456\n",
              "Sinopec Group                3    267518  ...     713288                    106523\n",
              "China National Petroleum     4    262573  ...    1512048                    301893\n",
              "Toyota Motor                 5    254694  ...     364445                    157210\n",
              "\n",
              "[5 rows x 16 columns]"
            ]
          },
          "metadata": {
            "tags": []
          },
          "execution_count": 40
        }
      ]
    },
    {
      "cell_type": "code",
      "metadata": {
        "colab": {
          "base_uri": "https://localhost:8080/"
        },
        "id": "W2IUm_KSVehF",
        "outputId": "10911eb9-b8d5-4f12-b76f-ff282b1e9499"
      },
      "source": [
        "f500.info()"
      ],
      "execution_count": 41,
      "outputs": [
        {
          "output_type": "stream",
          "text": [
            "<class 'pandas.core.frame.DataFrame'>\n",
            "Index: 500 entries, Walmart to AutoNation\n",
            "Data columns (total 16 columns):\n",
            " #   Column                    Non-Null Count  Dtype  \n",
            "---  ------                    --------------  -----  \n",
            " 0   rank                      500 non-null    int64  \n",
            " 1   revenues                  500 non-null    int64  \n",
            " 2   revenue_change            498 non-null    float64\n",
            " 3   profits                   499 non-null    float64\n",
            " 4   assets                    500 non-null    int64  \n",
            " 5   profit_change             436 non-null    float64\n",
            " 6   ceo                       500 non-null    object \n",
            " 7   industry                  500 non-null    object \n",
            " 8   sector                    500 non-null    object \n",
            " 9   previous_rank             500 non-null    int64  \n",
            " 10  country                   500 non-null    object \n",
            " 11  hq_location               500 non-null    object \n",
            " 12  website                   500 non-null    object \n",
            " 13  years_on_global_500_list  500 non-null    int64  \n",
            " 14  employees                 500 non-null    int64  \n",
            " 15  total_stockholder_equity  500 non-null    int64  \n",
            "dtypes: float64(3), int64(7), object(6)\n",
            "memory usage: 66.4+ KB\n"
          ],
          "name": "stdout"
        }
      ]
    },
    {
      "cell_type": "code",
      "metadata": {
        "colab": {
          "base_uri": "https://localhost:8080/"
        },
        "id": "jOeXZrK-WZbC",
        "outputId": "2f547998-0566-4ac8-a24d-deb3be275a63"
      },
      "source": [
        "change_rank=  f500['rank']-f500['previous_rank']\r\n",
        "change_rank"
      ],
      "execution_count": 42,
      "outputs": [
        {
          "output_type": "execute_result",
          "data": {
            "text/plain": [
              "Walmart                             0\n",
              "State Grid                          0\n",
              "Sinopec Group                      -1\n",
              "China National Petroleum            1\n",
              "Toyota Motor                       -3\n",
              "                                 ... \n",
              "Teva Pharmaceutical Industries    496\n",
              "New China Life Insurance           70\n",
              "Wm. Morrison Supermarkets          61\n",
              "TUI                                32\n",
              "AutoNation                        500\n",
              "Length: 500, dtype: int64"
            ]
          },
          "metadata": {
            "tags": []
          },
          "execution_count": 42
        }
      ]
    },
    {
      "cell_type": "code",
      "metadata": {
        "colab": {
          "base_uri": "https://localhost:8080/"
        },
        "id": "x7BDLxLZZ3v3",
        "outputId": "36eca461-dbd9-49c1-a344-34670b64a91e"
      },
      "source": [
        "rank_change_max=change_rank.max()\r\n",
        "print(rank_change_max)\r\n",
        "rank_change_min= change_rank.min()\r\n",
        "print(rank_change_min)"
      ],
      "execution_count": 43,
      "outputs": [
        {
          "output_type": "stream",
          "text": [
            "500\n",
            "-226\n"
          ],
          "name": "stdout"
        }
      ]
    },
    {
      "cell_type": "code",
      "metadata": {
        "colab": {
          "base_uri": "https://localhost:8080/"
        },
        "id": "X3ADiFVDdBz0",
        "outputId": "ae3b792d-3173-4a3a-f12a-229eb620bc16"
      },
      "source": [
        "zero_previous_rank= f500['previous_rank'].value_counts().loc[0]\r\n",
        "zero_previous_rank"
      ],
      "execution_count": 44,
      "outputs": [
        {
          "output_type": "execute_result",
          "data": {
            "text/plain": [
              "33"
            ]
          },
          "metadata": {
            "tags": []
          },
          "execution_count": 44
        }
      ]
    },
    {
      "cell_type": "code",
      "metadata": {
        "colab": {
          "base_uri": "https://localhost:8080/"
        },
        "id": "V-I6m6YZiuot",
        "outputId": "e8916693-901d-4076-984e-2926a169110c"
      },
      "source": [
        "medians = f500[[\"revenues\", \"profits\"]].median(axis=0)\r\n",
        "# we could also use .median(axis=\"index\")\r\n",
        "print(medians)"
      ],
      "execution_count": 45,
      "outputs": [
        {
          "output_type": "stream",
          "text": [
            "revenues    40236.0\n",
            "profits      1761.6\n",
            "dtype: float64\n"
          ],
          "name": "stdout"
        }
      ]
    },
    {
      "cell_type": "code",
      "metadata": {
        "colab": {
          "base_uri": "https://localhost:8080/"
        },
        "id": "dKwFrgruC2Pe",
        "outputId": "d1204348-381c-4482-9e00-1612cf5e711a"
      },
      "source": [
        "max_f500=f500.max()\r\n",
        "max_f500"
      ],
      "execution_count": 46,
      "outputs": [
        {
          "output_type": "execute_result",
          "data": {
            "text/plain": [
              "rank                                             500\n",
              "revenues                                      485873\n",
              "revenue_change                                 442.3\n",
              "profits                                        45687\n",
              "assets                                       3473238\n",
              "profit_change                                 8909.5\n",
              "ceo                                       Zhou Qiang\n",
              "industry                    Wholesalers: Health Care\n",
              "sector                                   Wholesalers\n",
              "previous_rank                                    500\n",
              "country                                    Venezuela\n",
              "hq_location                      Zurich, Switzerland\n",
              "website                        http://www.zurich.com\n",
              "years_on_global_500_list                          23\n",
              "employees                                    2300000\n",
              "total_stockholder_equity                      301893\n",
              "dtype: object"
            ]
          },
          "metadata": {
            "tags": []
          },
          "execution_count": 46
        }
      ]
    },
    {
      "cell_type": "code",
      "metadata": {
        "colab": {
          "base_uri": "https://localhost:8080/"
        },
        "id": "Cuh5T9KfDeLA",
        "outputId": "0661117c-95bc-495e-b4a3-cd08c754bde5"
      },
      "source": [
        "max_f500=f500.max(numeric_only=True)\r\n",
        "max_f500"
      ],
      "execution_count": 47,
      "outputs": [
        {
          "output_type": "execute_result",
          "data": {
            "text/plain": [
              "rank                            500.0\n",
              "revenues                     485873.0\n",
              "revenue_change                  442.3\n",
              "profits                       45687.0\n",
              "assets                      3473238.0\n",
              "profit_change                  8909.5\n",
              "previous_rank                   500.0\n",
              "years_on_global_500_list         23.0\n",
              "employees                   2300000.0\n",
              "total_stockholder_equity     301893.0\n",
              "dtype: float64"
            ]
          },
          "metadata": {
            "tags": []
          },
          "execution_count": 47
        }
      ]
    },
    {
      "cell_type": "code",
      "metadata": {
        "colab": {
          "base_uri": "https://localhost:8080/",
          "height": 317
        },
        "id": "Y0_woeqRELF4",
        "outputId": "b4740924-8978-4eb9-b7f9-1af045e0e56b"
      },
      "source": [
        "f500_desc= f500.describe()  #only numerical columns describe here\r\n",
        "f500_desc\r\n"
      ],
      "execution_count": 48,
      "outputs": [
        {
          "output_type": "execute_result",
          "data": {
            "text/html": [
              "<div>\n",
              "<style scoped>\n",
              "    .dataframe tbody tr th:only-of-type {\n",
              "        vertical-align: middle;\n",
              "    }\n",
              "\n",
              "    .dataframe tbody tr th {\n",
              "        vertical-align: top;\n",
              "    }\n",
              "\n",
              "    .dataframe thead th {\n",
              "        text-align: right;\n",
              "    }\n",
              "</style>\n",
              "<table border=\"1\" class=\"dataframe\">\n",
              "  <thead>\n",
              "    <tr style=\"text-align: right;\">\n",
              "      <th></th>\n",
              "      <th>rank</th>\n",
              "      <th>revenues</th>\n",
              "      <th>revenue_change</th>\n",
              "      <th>profits</th>\n",
              "      <th>assets</th>\n",
              "      <th>profit_change</th>\n",
              "      <th>previous_rank</th>\n",
              "      <th>years_on_global_500_list</th>\n",
              "      <th>employees</th>\n",
              "      <th>total_stockholder_equity</th>\n",
              "    </tr>\n",
              "  </thead>\n",
              "  <tbody>\n",
              "    <tr>\n",
              "      <th>count</th>\n",
              "      <td>500.000000</td>\n",
              "      <td>500.000000</td>\n",
              "      <td>498.000000</td>\n",
              "      <td>499.000000</td>\n",
              "      <td>5.000000e+02</td>\n",
              "      <td>436.000000</td>\n",
              "      <td>500.000000</td>\n",
              "      <td>500.000000</td>\n",
              "      <td>5.000000e+02</td>\n",
              "      <td>500.000000</td>\n",
              "    </tr>\n",
              "    <tr>\n",
              "      <th>mean</th>\n",
              "      <td>250.500000</td>\n",
              "      <td>55416.358000</td>\n",
              "      <td>4.538353</td>\n",
              "      <td>3055.203206</td>\n",
              "      <td>2.436323e+05</td>\n",
              "      <td>24.152752</td>\n",
              "      <td>222.134000</td>\n",
              "      <td>15.036000</td>\n",
              "      <td>1.339983e+05</td>\n",
              "      <td>30628.076000</td>\n",
              "    </tr>\n",
              "    <tr>\n",
              "      <th>std</th>\n",
              "      <td>144.481833</td>\n",
              "      <td>45725.478963</td>\n",
              "      <td>28.549067</td>\n",
              "      <td>5171.981071</td>\n",
              "      <td>4.851937e+05</td>\n",
              "      <td>437.509566</td>\n",
              "      <td>146.941961</td>\n",
              "      <td>7.932752</td>\n",
              "      <td>1.700878e+05</td>\n",
              "      <td>43642.576833</td>\n",
              "    </tr>\n",
              "    <tr>\n",
              "      <th>min</th>\n",
              "      <td>1.000000</td>\n",
              "      <td>21609.000000</td>\n",
              "      <td>-67.300000</td>\n",
              "      <td>-13038.000000</td>\n",
              "      <td>3.717000e+03</td>\n",
              "      <td>-793.700000</td>\n",
              "      <td>0.000000</td>\n",
              "      <td>1.000000</td>\n",
              "      <td>3.280000e+02</td>\n",
              "      <td>-59909.000000</td>\n",
              "    </tr>\n",
              "    <tr>\n",
              "      <th>25%</th>\n",
              "      <td>125.750000</td>\n",
              "      <td>29003.000000</td>\n",
              "      <td>-5.900000</td>\n",
              "      <td>556.950000</td>\n",
              "      <td>3.658850e+04</td>\n",
              "      <td>-22.775000</td>\n",
              "      <td>92.750000</td>\n",
              "      <td>7.000000</td>\n",
              "      <td>4.293250e+04</td>\n",
              "      <td>7553.750000</td>\n",
              "    </tr>\n",
              "    <tr>\n",
              "      <th>50%</th>\n",
              "      <td>250.500000</td>\n",
              "      <td>40236.000000</td>\n",
              "      <td>0.550000</td>\n",
              "      <td>1761.600000</td>\n",
              "      <td>7.326150e+04</td>\n",
              "      <td>-0.350000</td>\n",
              "      <td>219.500000</td>\n",
              "      <td>17.000000</td>\n",
              "      <td>9.291050e+04</td>\n",
              "      <td>15809.500000</td>\n",
              "    </tr>\n",
              "    <tr>\n",
              "      <th>75%</th>\n",
              "      <td>375.250000</td>\n",
              "      <td>63926.750000</td>\n",
              "      <td>6.975000</td>\n",
              "      <td>3954.000000</td>\n",
              "      <td>1.805640e+05</td>\n",
              "      <td>17.700000</td>\n",
              "      <td>347.250000</td>\n",
              "      <td>23.000000</td>\n",
              "      <td>1.689172e+05</td>\n",
              "      <td>37828.500000</td>\n",
              "    </tr>\n",
              "    <tr>\n",
              "      <th>max</th>\n",
              "      <td>500.000000</td>\n",
              "      <td>485873.000000</td>\n",
              "      <td>442.300000</td>\n",
              "      <td>45687.000000</td>\n",
              "      <td>3.473238e+06</td>\n",
              "      <td>8909.500000</td>\n",
              "      <td>500.000000</td>\n",
              "      <td>23.000000</td>\n",
              "      <td>2.300000e+06</td>\n",
              "      <td>301893.000000</td>\n",
              "    </tr>\n",
              "  </tbody>\n",
              "</table>\n",
              "</div>"
            ],
            "text/plain": [
              "             rank       revenues  ...     employees  total_stockholder_equity\n",
              "count  500.000000     500.000000  ...  5.000000e+02                500.000000\n",
              "mean   250.500000   55416.358000  ...  1.339983e+05              30628.076000\n",
              "std    144.481833   45725.478963  ...  1.700878e+05              43642.576833\n",
              "min      1.000000   21609.000000  ...  3.280000e+02             -59909.000000\n",
              "25%    125.750000   29003.000000  ...  4.293250e+04               7553.750000\n",
              "50%    250.500000   40236.000000  ...  9.291050e+04              15809.500000\n",
              "75%    375.250000   63926.750000  ...  1.689172e+05              37828.500000\n",
              "max    500.000000  485873.000000  ...  2.300000e+06             301893.000000\n",
              "\n",
              "[8 rows x 10 columns]"
            ]
          },
          "metadata": {
            "tags": []
          },
          "execution_count": 48
        }
      ]
    },
    {
      "cell_type": "markdown",
      "metadata": {
        "id": "G5_FCpolG3z2"
      },
      "source": [
        "Here I am changing ceo name of Dow Chemical company"
      ]
    },
    {
      "cell_type": "code",
      "metadata": {
        "colab": {
          "base_uri": "https://localhost:8080/",
          "height": 35
        },
        "id": "ec0qRbXPFdQK",
        "outputId": "2a59cd14-2d71-4c57-9539-b6399584646e"
      },
      "source": [
        "f500.loc['Dow Chemical', 'ceo']\r\n"
      ],
      "execution_count": 49,
      "outputs": [
        {
          "output_type": "execute_result",
          "data": {
            "application/vnd.google.colaboratory.intrinsic+json": {
              "type": "string"
            },
            "text/plain": [
              "'Andrew N. Liveris'"
            ]
          },
          "metadata": {
            "tags": []
          },
          "execution_count": 49
        }
      ]
    },
    {
      "cell_type": "code",
      "metadata": {
        "id": "vMkTnm-SHHbK"
      },
      "source": [
        "f500.loc['Dow Chemical', 'ceo']='Jim Fitterling'"
      ],
      "execution_count": 50,
      "outputs": []
    },
    {
      "cell_type": "code",
      "metadata": {
        "colab": {
          "base_uri": "https://localhost:8080/",
          "height": 35
        },
        "id": "6UHXrkkKHIpq",
        "outputId": "7096efe6-ea9d-408f-acc1-707bc5c8ce92"
      },
      "source": [
        "f500.loc['Dow Chemical', 'ceo']"
      ],
      "execution_count": 51,
      "outputs": [
        {
          "output_type": "execute_result",
          "data": {
            "application/vnd.google.colaboratory.intrinsic+json": {
              "type": "string"
            },
            "text/plain": [
              "'Jim Fitterling'"
            ]
          },
          "metadata": {
            "tags": []
          },
          "execution_count": 51
        }
      ]
    },
    {
      "cell_type": "markdown",
      "metadata": {
        "id": "NqZSP44zMSIO"
      },
      "source": [
        "These are the country whose industry is motor vehicles and parts "
      ]
    },
    {
      "cell_type": "code",
      "metadata": {
        "colab": {
          "base_uri": "https://localhost:8080/"
        },
        "id": "E-48bSq5HKO9",
        "outputId": "649cfb47-c957-4811-cdaa-4387cbe41400"
      },
      "source": [
        "motor_bool= f500['industry']=='Motor Vehicles and Parts'\r\n",
        "motor_countries= f500.loc[motor_bool, 'country']\r\n",
        "motor_countries"
      ],
      "execution_count": 52,
      "outputs": [
        {
          "output_type": "execute_result",
          "data": {
            "text/plain": [
              "Toyota Motor                                 Japan\n",
              "Volkswagen                                 Germany\n",
              "Daimler                                    Germany\n",
              "General Motors                                 USA\n",
              "Ford Motor                                     USA\n",
              "Honda Motor                                  Japan\n",
              "SAIC Motor                                   China\n",
              "Nissan Motor                                 Japan\n",
              "BMW Group                                  Germany\n",
              "Dongfeng Motor                               China\n",
              "Robert Bosch                               Germany\n",
              "Hyundai Motor                          South Korea\n",
              "China FAW Group                              China\n",
              "Beijing Automotive Group                     China\n",
              "Peugeot                                     France\n",
              "Renault                                     France\n",
              "Kia Motors                             South Korea\n",
              "Continental                                Germany\n",
              "Denso                                        Japan\n",
              "Guangzhou Automobile Industry Group          China\n",
              "Tata Motors                                  India\n",
              "ZF Friedrichshafen                         Germany\n",
              "Jardine Matheson                             China\n",
              "Magna International                         Canada\n",
              "Volvo                                       Sweden\n",
              "Hyundai Mobis                          South Korea\n",
              "Aisin Seiki                                  Japan\n",
              "Zhejiang Geely Holding Group                 China\n",
              "Subaru                                       Japan\n",
              "Bridgestone                                  Japan\n",
              "Mazda Motor                                  Japan\n",
              "Suzuki Motor                                 Japan\n",
              "Sumitomo Electric Industries                 Japan\n",
              "Michelin                                    France\n",
              "Name: country, dtype: object"
            ]
          },
          "metadata": {
            "tags": []
          },
          "execution_count": 52
        }
      ]
    },
    {
      "cell_type": "markdown",
      "metadata": {
        "id": "wK0XiDG-NcxP"
      },
      "source": [
        "Here I changed sector column value  \"Motor Vehicles & Parts\" to \"Motor Vehicles and Parts\".. & is changed to and"
      ]
    },
    {
      "cell_type": "code",
      "metadata": {
        "id": "5OpIQzb5MQt7"
      },
      "source": [
        "ampersand_bool = f500[\"sector\"] == \"Motor Vehicles & Parts\"\r\n",
        "f500.loc[ampersand_bool,\"sector\"] = \"Motor Vehicles and Parts\""
      ],
      "execution_count": 53,
      "outputs": []
    },
    {
      "cell_type": "code",
      "metadata": {
        "colab": {
          "base_uri": "https://localhost:8080/"
        },
        "id": "wVZ8PaRtN0V2",
        "outputId": "681c858b-fb19-4011-bf15-767bd966ccbc"
      },
      "source": [
        "previous_rank_before=f500['previous_rank'].value_counts(dropna=False).head()\r\n",
        "previous_rank_before"
      ],
      "execution_count": 54,
      "outputs": [
        {
          "output_type": "execute_result",
          "data": {
            "text/plain": [
              "0      33\n",
              "159     1\n",
              "147     1\n",
              "148     1\n",
              "149     1\n",
              "Name: previous_rank, dtype: int64"
            ]
          },
          "metadata": {
            "tags": []
          },
          "execution_count": 54
        }
      ]
    },
    {
      "cell_type": "code",
      "metadata": {
        "id": "LJmmYywCRzre"
      },
      "source": [
        "import numpy as np"
      ],
      "execution_count": 55,
      "outputs": []
    },
    {
      "cell_type": "markdown",
      "metadata": {
        "id": "HQJb8eOJSZNt"
      },
      "source": [
        "previous rank columns with zero value is changed to np.nan"
      ]
    },
    {
      "cell_type": "code",
      "metadata": {
        "colab": {
          "base_uri": "https://localhost:8080/"
        },
        "id": "CtmVC6j6QZ6Z",
        "outputId": "9bb5dd89-9998-4778-dc7e-e47a8860c8c5"
      },
      "source": [
        "f500.loc[f500['previous_rank']==0, 'previous_rank']=np.nan\r\n",
        "prev_rank_after= f500['previous_rank'].value_counts(dropna= False).head()\r\n",
        "prev_rank_after"
      ],
      "execution_count": 56,
      "outputs": [
        {
          "output_type": "execute_result",
          "data": {
            "text/plain": [
              "NaN      33\n",
              "471.0     1\n",
              "234.0     1\n",
              "125.0     1\n",
              "166.0     1\n",
              "Name: previous_rank, dtype: int64"
            ]
          },
          "metadata": {
            "tags": []
          },
          "execution_count": 56
        }
      ]
    },
    {
      "cell_type": "code",
      "metadata": {
        "colab": {
          "base_uri": "https://localhost:8080/"
        },
        "id": "yOGmAOjcRxW4",
        "outputId": "14442fd0-b5b8-4031-a2ce-d6b026aae514"
      },
      "source": [
        "f500['rank_change']= f500['previous_rank']-f500['rank']\r\n",
        "rank_change_desc= f500['rank_change'].describe()\r\n",
        "rank_change_desc"
      ],
      "execution_count": 57,
      "outputs": [
        {
          "output_type": "execute_result",
          "data": {
            "text/plain": [
              "count    467.000000\n",
              "mean      -3.533191\n",
              "std       44.293603\n",
              "min     -199.000000\n",
              "25%      -21.000000\n",
              "50%       -2.000000\n",
              "75%       10.000000\n",
              "max      226.000000\n",
              "Name: rank_change, dtype: float64"
            ]
          },
          "metadata": {
            "tags": []
          },
          "execution_count": 57
        }
      ]
    },
    {
      "cell_type": "code",
      "metadata": {
        "colab": {
          "base_uri": "https://localhost:8080/"
        },
        "id": "asrnbyfpTR7C",
        "outputId": "98c28e88-0818-4b8e-f3e0-c0925910744d"
      },
      "source": [
        "f500['rank_change']=f500['previous_rank']-f500['rank']\r\n",
        "rank_change_desc= f500['rank_change'].describe()\r\n",
        "rank_change_desc\r\n"
      ],
      "execution_count": 58,
      "outputs": [
        {
          "output_type": "execute_result",
          "data": {
            "text/plain": [
              "count    467.000000\n",
              "mean      -3.533191\n",
              "std       44.293603\n",
              "min     -199.000000\n",
              "25%      -21.000000\n",
              "50%       -2.000000\n",
              "75%       10.000000\n",
              "max      226.000000\n",
              "Name: rank_change, dtype: float64"
            ]
          },
          "metadata": {
            "tags": []
          },
          "execution_count": 58
        }
      ]
    },
    {
      "cell_type": "markdown",
      "metadata": {
        "id": "yKPDfQOBZ5jn"
      },
      "source": [
        "Create a series, industry_usa, containing counts of the two most common values in the industry column for companies headquartered in the USA."
      ]
    },
    {
      "cell_type": "code",
      "metadata": {
        "colab": {
          "base_uri": "https://localhost:8080/"
        },
        "id": "wxpFDTfiUH1o",
        "outputId": "f42e16d6-162e-4e22-8b8b-1c31c49218ef"
      },
      "source": [
        "industry_usa= f500['industry'][f500['country']=='USA'].value_counts().head(2)\r\n",
        "industry_usa\r\n"
      ],
      "execution_count": 61,
      "outputs": [
        {
          "output_type": "execute_result",
          "data": {
            "text/plain": [
              "Banks: Commercial and Savings               8\n",
              "Insurance: Property and Casualty (Stock)    7\n",
              "Name: industry, dtype: int64"
            ]
          },
          "metadata": {
            "tags": []
          },
          "execution_count": 61
        }
      ]
    },
    {
      "cell_type": "markdown",
      "metadata": {
        "id": "q6f5zjVTZ48f"
      },
      "source": [
        "Create a series, sector_china, containing counts of the three most common values in the sector column for companies headquartered in the China."
      ]
    },
    {
      "cell_type": "code",
      "metadata": {
        "colab": {
          "base_uri": "https://localhost:8080/"
        },
        "id": "rVPTO0dLZ3MR",
        "outputId": "b48a20cd-3f11-4305-d379-328dfe4fccac"
      },
      "source": [
        "sector_china = f500[\"sector\"][f500[\"country\"] == \"China\"].value_counts().head(3)\r\n",
        "sector_china"
      ],
      "execution_count": 63,
      "outputs": [
        {
          "output_type": "execute_result",
          "data": {
            "text/plain": [
              "Financials     25\n",
              "Energy         22\n",
              "Wholesalers     9\n",
              "Name: sector, dtype: int64"
            ]
          },
          "metadata": {
            "tags": []
          },
          "execution_count": 63
        }
      ]
    },
    {
      "cell_type": "code",
      "metadata": {
        "id": "lIxNImK5Z3-O"
      },
      "source": [
        ""
      ],
      "execution_count": null,
      "outputs": []
    }
  ]
}